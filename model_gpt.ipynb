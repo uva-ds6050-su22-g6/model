{
  "cells": [
    {
      "cell_type": "markdown",
      "metadata": {
        "collapsed": false,
        "id": "17ed0b92"
      },
      "source": [
        "\n",
        "# DS6050 - Group 6\n",
        "* Andrej Erkelens <wsw3fa@virginia.edu>\n",
        "* Robert Knuuti <uqq5zz@virginia.edu>\n",
        "* Khoi Tran <kt2np@virginia.edu>\n",
        "\n",
        "## Abstract\n",
        "English is a verbose language with over 69% redundancy in its construction, and as a result, individuals only need to identify important details to comprehend an intended message.\n",
        "While there are strong efforts to quantify the various elements of language, the average individual can still comprehend a written message that has errors, either in spelling or in grammar.\n",
        "The emulation of the effortless, yet obscure task of reading, writing, and understanding language is the perfect challenge for the biologically-inspired methods of deep learning.\n",
        "Most language and text related problems rely upon finding high-quality latent representations to understand the task at hand. Unfortunately, efforts to overcome such problems are limited to the data and computation power available to individuals; data availability often presents the largest problem, with small, specific domain tasks often proving to be limiting.\n",
        "Currently, these tasks are often aided or overcome by pre-trained large language models (LLMs), designed by large corporations and laboratories.\n",
        "Fine-tuning language models on domain-specific vocabulary with small data sizes still presents a challenge to the language community, but the growing availability of LLMs to augment such models alleviates the challenge.\n",
        "This paper explores different techniques to be applied on existing language models (LMs), built highly complex Deep Learning models, and investigates how to fine-tune these models, such that a pre-trained model is used to enrich a more domain-specific model that may be limited in textual data.\n",
        "\n",
        "## Project Objective\n",
        "\n",
        "We are aiming on using several small domain specific language tasks, particularly classification tasks.\n",
        "We aim to take at least two models, probably BERT and distill-GPT2 as they seem readily available on HuggingFace and TensorFlow's model hub.\n",
        "We will iterate through different variants of layers we fine tune and compare these results with fully trained models, and ideally find benchmarks already in academic papers on all of the datasets.\n",
        "\n",
        "We aim to optimize compute efficiency and also effectiveness of the model on the given dataset. Our goal is to find a high performing and generalizable method for our fine tuning process and share this in our paper.\n"
      ],
      "id": "17ed0b92"
    },
    {
      "cell_type": "code",
      "execution_count": 1,
      "metadata": {
        "colab": {
          "base_uri": "https://localhost:8080/",
          "height": 35
        },
        "id": "f8971652",
        "outputId": "d815db20-3aff-48d0-be73-56eb53a87aaa"
      },
      "outputs": [
        {
          "output_type": "display_data",
          "data": {
            "application/javascript": [
              "IPython.notebook.set_autosave_interval(0)"
            ]
          },
          "metadata": {}
        },
        {
          "output_type": "stream",
          "name": "stdout",
          "text": [
            "Autosave disabled\n"
          ]
        }
      ],
      "source": [
        "%autosave 0"
      ],
      "id": "f8971652"
    },
    {
      "cell_type": "code",
      "execution_count": 2,
      "metadata": {
        "id": "M7fV1R567PdR"
      },
      "outputs": [],
      "source": [
        "!pip install -q tensorflow-text tokenizers transformers"
      ],
      "id": "M7fV1R567PdR"
    },
    {
      "cell_type": "code",
      "execution_count": 2,
      "metadata": {
        "id": "CUp8f1yr760r"
      },
      "outputs": [],
      "source": [
        "import tensorflow as tf\n",
        "import tensorflow_text as tf_text"
      ],
      "id": "CUp8f1yr760r"
    },
    {
      "cell_type": "code",
      "execution_count": 3,
      "metadata": {
        "colab": {
          "base_uri": "https://localhost:8080/"
        },
        "id": "vA3eBwuu-Dlf",
        "outputId": "6f1eab4b-5180-489a-ea4b-1d9a15028f23"
      },
      "outputs": [
        {
          "output_type": "stream",
          "name": "stdout",
          "text": [
            "Drive already mounted at /content/drive; to attempt to forcibly remount, call drive.mount(\"/content/drive\", force_remount=True).\n"
          ]
        }
      ],
      "source": [
        "from google.colab import drive\n",
        "drive.mount('/content/drive')"
      ],
      "id": "vA3eBwuu-Dlf"
    },
    {
      "cell_type": "code",
      "execution_count": 4,
      "metadata": {
        "colab": {
          "base_uri": "https://localhost:8080/"
        },
        "id": "j8jU9Dao-ZL5",
        "outputId": "b124a325-1fe8-44ea-9975-882cf4561ed9"
      },
      "outputs": [
        {
          "output_type": "stream",
          "name": "stdout",
          "text": [
            "/content/drive/MyDrive/ds6050/git\n"
          ]
        }
      ],
      "source": [
        "%cd /content/drive/MyDrive/ds6050/git/"
      ],
      "id": "j8jU9Dao-ZL5"
    },
    {
      "cell_type": "code",
      "execution_count": 5,
      "metadata": {
        "id": "6eb2e492"
      },
      "outputs": [],
      "source": [
        "import os\n",
        "from pathlib import Path\n",
        "\n",
        "import numpy as np\n",
        "import pandas as pd\n",
        "\n",
        "import tokenizers\n",
        "import torch\n",
        "import transformers\n",
        "\n",
        "from tensorflow import keras\n",
        "from tokenizers import decoders, models, normalizers, pre_tokenizers, processors, trainers\n",
        "\n",
        "np.random.seed(42)\n",
        "tf.random.set_seed(42)\n",
        "\n",
        "df = pd.read_feather(\"data-extractor/data/dataset.feather\")#.set_index('index')\n",
        "df['topic'] = df['topic'].str.split('.').str[0]\n",
        "df_train = df.sample(frac = 0.8)\n",
        "df_test = df.drop(df_train.index)"
      ],
      "id": "6eb2e492"
    },
    {
      "cell_type": "code",
      "execution_count": 6,
      "metadata": {
        "id": "ae8d1c35"
      },
      "outputs": [],
      "source": [
        "features = 'content' # feature for the future - add all the datasets ['categories', 'summary', 'content']\n",
        "label = 'topic'"
      ],
      "id": "ae8d1c35"
    },
    {
      "cell_type": "code",
      "execution_count": 8,
      "metadata": {
        "id": "aa1994aa"
      },
      "outputs": [],
      "source": [
        "# strategy = tf.distribute.MirroredStrategy()"
      ],
      "id": "aa1994aa"
    },
    {
      "cell_type": "code",
      "execution_count": 7,
      "metadata": {
        "colab": {
          "base_uri": "https://localhost:8080/"
        },
        "id": "k98DISb3X2Yr",
        "outputId": "ba7dc5a8-268b-429e-cfcf-405c7fe4ed28"
      },
      "outputs": [
        {
          "output_type": "stream",
          "name": "stderr",
          "text": [
            "All model checkpoint layers were used when initializing TFGPT2Model.\n",
            "\n",
            "All the layers of TFGPT2Model were initialized from the model checkpoint at gpt2.\n",
            "If your task is similar to the task the model of the checkpoint was trained on, you can already use TFGPT2Model for predictions without further training.\n",
            "Using pad_token, but it is not set yet.\n"
          ]
        }
      ],
      "source": [
        "from sklearn.preprocessing import OneHotEncoder\n",
        "\n",
        "ohe = OneHotEncoder()\n",
        "\n",
        "# 7 different topics\n",
        "# y_ = ohe.fit_transform(df['topic'].values.reshape(-1,1)).toarray()\n",
        "y_train = ohe.fit_transform(df_train['topic'].values.reshape(-1,1)).toarray()\n",
        "y_test  = ohe.fit_transform(df_test['topic'].values.reshape(-1,1)).toarray()\n",
        "\n",
        "#max_len = 512\n",
        "checkpoint = 'gpt2'\n",
        "hf_gpt2_tokenizer = transformers.GPT2Tokenizer.from_pretrained(checkpoint, add_prefix_space=True)\n",
        "hf_gpt2_model = transformers.TFGPT2Model.from_pretrained(checkpoint)\n",
        "# hf_gpt2_model = transformers.GPT2ForSequenceClassification.from_pretrained(checkpoint)\n",
        "\n",
        "# add for gpt2 padding\n",
        "if hf_gpt2_tokenizer.pad_token is None:\n",
        "    hf_gpt2_tokenizer.add_special_tokens({'pad_token': '[PAD]'})\n",
        "hf_gpt2_model.resize_token_embeddings(len(hf_gpt2_tokenizer))\n",
        "\n",
        "## batch encoding\n",
        "# encodings = hf_gpt2_tokenizer.batch_encode_plus(list(df.summary.values), \n",
        "#                                                 return_tensors='tf', \n",
        "#                                                 padding='max_length',\n",
        "#                                                 #add_special_tokens=True,\n",
        "#                                                 max_length=32,\n",
        "#                                                 truncation=True)\n",
        "\n",
        "train_encodings = hf_gpt2_tokenizer.batch_encode_plus(list(df_train.summary.values), \n",
        "                                                      return_tensors='tf', \n",
        "                                                      padding='max_length',\n",
        "                                                      max_length=32,\n",
        "                                                      truncation=True)\n",
        "\n",
        "test_encodings  = hf_gpt2_tokenizer.batch_encode_plus(list(df_test.summary.values), \n",
        "                                                      return_tensors='tf', \n",
        "                                                      padding='max_length',\n",
        "                                                      max_length=32,\n",
        "                                                      truncation=True)"
      ],
      "id": "k98DISb3X2Yr"
    },
    {
      "cell_type": "code",
      "source": [
        "train_encodings"
      ],
      "metadata": {
        "colab": {
          "base_uri": "https://localhost:8080/"
        },
        "id": "JXJVBnWa4R0V",
        "outputId": "5452fed9-dbba-4747-c333-2531262694fd"
      },
      "id": "JXJVBnWa4R0V",
      "execution_count": 8,
      "outputs": [
        {
          "output_type": "execute_result",
          "data": {
            "text/plain": [
              "{'input_ids': <tf.Tensor: shape=(36024, 32), dtype=int32, numpy=\n",
              "array([[ 2520, 12492,   357, ...,   549,  7745,    88],\n",
              "       [21673, 11998,    11, ...,    11,  1390,  5713],\n",
              "       [  554, 15119,    11, ...,   355,   340,   460],\n",
              "       ...,\n",
              "       [12964,  2640,  6296, ...,   532,   257,  1080],\n",
              "       [  402, 20659,   286, ...,    68,    78, 30908],\n",
              "       [  383,  5510,   269, ...,   810,   340,   318]], dtype=int32)>, 'attention_mask': <tf.Tensor: shape=(36024, 32), dtype=int32, numpy=\n",
              "array([[1, 1, 1, ..., 1, 1, 1],\n",
              "       [1, 1, 1, ..., 1, 1, 1],\n",
              "       [1, 1, 1, ..., 1, 1, 1],\n",
              "       ...,\n",
              "       [1, 1, 1, ..., 1, 1, 1],\n",
              "       [1, 1, 1, ..., 1, 1, 1],\n",
              "       [1, 1, 1, ..., 1, 1, 1]], dtype=int32)>}"
            ]
          },
          "metadata": {},
          "execution_count": 8
        }
      ]
    },
    {
      "cell_type": "code",
      "execution_count": 19,
      "metadata": {
        "id": "rIYVgwNF1KSI"
      },
      "outputs": [],
      "source": [
        "def model_top(pretr_model):\n",
        "  input_ids = tf.keras.Input(shape=(32,), dtype='int32')\n",
        "  attention_mask = tf.keras.Input(shape=(32,), dtype='int32')\n",
        "\n",
        "  output = pretr_model(input_ids = input_ids, attention_mask = attention_mask)\n",
        "  # output = pretr_model([input_ids, attention_mask])\n",
        "  #pooler_output = output[1]\n",
        "  pooler_output = tf.keras.layers.AveragePooling1D(pool_size=32)(output[0])\n",
        "  flattened_output = tf.keras.layers.Flatten()(pooler_output)\n",
        "  \n",
        "  output = tf.keras.layers.Dense(32, activation='tanh')(flattened_output)\n",
        "  #output = tf.keras.layers.Dropout(0.2)(output)\n",
        "  output = tf.keras.layers.Dropout(0.4)(output)\n",
        "\n",
        "  output = tf.keras.layers.Dense(7, activation='softmax')(output)\n",
        "  model = tf.keras.models.Model(inputs=[input_ids, attention_mask], outputs=output)\n",
        "  model.compile(optimizer='adam', loss='categorical_crossentropy', metrics=['accuracy'])\n",
        "\n",
        "  return model"
      ],
      "id": "rIYVgwNF1KSI"
    },
    {
      "cell_type": "code",
      "source": [
        "model = model_top(hf_gpt2_model)\n",
        "model.summary()"
      ],
      "metadata": {
        "colab": {
          "base_uri": "https://localhost:8080/"
        },
        "id": "mFmMogLJw2GO",
        "outputId": "9fefc357-6268-48df-aae3-138f7201941d"
      },
      "id": "mFmMogLJw2GO",
      "execution_count": 20,
      "outputs": [
        {
          "output_type": "stream",
          "name": "stdout",
          "text": [
            "Model: \"model_1\"\n",
            "__________________________________________________________________________________________________\n",
            " Layer (type)                   Output Shape         Param #     Connected to                     \n",
            "==================================================================================================\n",
            " input_5 (InputLayer)           [(None, 32)]         0           []                               \n",
            "                                                                                                  \n",
            " input_6 (InputLayer)           [(None, 32)]         0           []                               \n",
            "                                                                                                  \n",
            " tfgpt2_model (TFGPT2Model)     multiple             124440576   ['input_5[0][0]',                \n",
            "                                                                  'input_6[0][0]']                \n",
            "                                                                                                  \n",
            " average_pooling1d_2 (AveragePo  (None, 1, 768)      0           ['tfgpt2_model[2][0]']           \n",
            " oling1D)                                                                                         \n",
            "                                                                                                  \n",
            " flatten_1 (Flatten)            (None, 768)          0           ['average_pooling1d_2[0][0]']    \n",
            "                                                                                                  \n",
            " dense_2 (Dense)                (None, 32)           24608       ['flatten_1[0][0]']              \n",
            "                                                                                                  \n",
            " dropout_38 (Dropout)           (None, 32)           0           ['dense_2[0][0]']                \n",
            "                                                                                                  \n",
            " dense_3 (Dense)                (None, 7)            231         ['dropout_38[0][0]']             \n",
            "                                                                                                  \n",
            "==================================================================================================\n",
            "Total params: 124,465,415\n",
            "Trainable params: 24,839\n",
            "Non-trainable params: 124,440,576\n",
            "__________________________________________________________________________________________________\n"
          ]
        }
      ]
    },
    {
      "cell_type": "code",
      "execution_count": 21,
      "metadata": {
        "colab": {
          "base_uri": "https://localhost:8080/"
        },
        "id": "XaMC57JY4YRv",
        "outputId": "ca55ea7f-1353-4c3d-ccfb-b8192557e350"
      },
      "outputs": [
        {
          "output_type": "execute_result",
          "data": {
            "text/plain": [
              "[<keras.engine.input_layer.InputLayer at 0x7f350cc3e610>,\n",
              " <keras.engine.input_layer.InputLayer at 0x7f350ce8d1d0>,\n",
              " <transformers.models.gpt2.modeling_tf_gpt2.TFGPT2Model at 0x7f3650b3b550>,\n",
              " <keras.layers.pooling.average_pooling1d.AveragePooling1D at 0x7f350cc84050>,\n",
              " <keras.layers.reshaping.flatten.Flatten at 0x7f3660317a10>,\n",
              " <keras.layers.core.dense.Dense at 0x7f350cf13d10>,\n",
              " <keras.layers.regularization.dropout.Dropout at 0x7f350c692cd0>,\n",
              " <keras.layers.core.dense.Dense at 0x7f350cf113d0>]"
            ]
          },
          "metadata": {},
          "execution_count": 21
        }
      ],
      "source": [
        "model.layers"
      ],
      "id": "XaMC57JY4YRv"
    },
    {
      "cell_type": "code",
      "execution_count": 22,
      "metadata": {
        "id": "bc4MEFDK4b0b",
        "colab": {
          "base_uri": "https://localhost:8080/"
        },
        "outputId": "68645d95-25e9-4fc4-97bd-c6443c00758c"
      },
      "outputs": [
        {
          "output_type": "stream",
          "name": "stdout",
          "text": [
            "Model: \"model_1\"\n",
            "__________________________________________________________________________________________________\n",
            " Layer (type)                   Output Shape         Param #     Connected to                     \n",
            "==================================================================================================\n",
            " input_5 (InputLayer)           [(None, 32)]         0           []                               \n",
            "                                                                                                  \n",
            " input_6 (InputLayer)           [(None, 32)]         0           []                               \n",
            "                                                                                                  \n",
            " tfgpt2_model (TFGPT2Model)     multiple             124440576   ['input_5[0][0]',                \n",
            "                                                                  'input_6[0][0]']                \n",
            "                                                                                                  \n",
            " average_pooling1d_2 (AveragePo  (None, 1, 768)      0           ['tfgpt2_model[2][0]']           \n",
            " oling1D)                                                                                         \n",
            "                                                                                                  \n",
            " flatten_1 (Flatten)            (None, 768)          0           ['average_pooling1d_2[0][0]']    \n",
            "                                                                                                  \n",
            " dense_2 (Dense)                (None, 32)           24608       ['flatten_1[0][0]']              \n",
            "                                                                                                  \n",
            " dropout_38 (Dropout)           (None, 32)           0           ['dense_2[0][0]']                \n",
            "                                                                                                  \n",
            " dense_3 (Dense)                (None, 7)            231         ['dropout_38[0][0]']             \n",
            "                                                                                                  \n",
            "==================================================================================================\n",
            "Total params: 124,465,415\n",
            "Trainable params: 24,839\n",
            "Non-trainable params: 124,440,576\n",
            "__________________________________________________________________________________________________\n"
          ]
        }
      ],
      "source": [
        "model.layers[2].trainable = False\n",
        "model.summary()"
      ],
      "id": "bc4MEFDK4b0b"
    },
    {
      "cell_type": "code",
      "execution_count": 17,
      "metadata": {
        "colab": {
          "base_uri": "https://localhost:8080/"
        },
        "id": "Ky67OTAeUjwf",
        "outputId": "74031d1c-5b41-4a53-b7fa-865becb795ef"
      },
      "outputs": [
        {
          "output_type": "stream",
          "name": "stdout",
          "text": [
            "Mon Aug  8 05:20:43 2022       \n",
            "+-----------------------------------------------------------------------------+\n",
            "| NVIDIA-SMI 460.32.03    Driver Version: 460.32.03    CUDA Version: 11.2     |\n",
            "|-------------------------------+----------------------+----------------------+\n",
            "| GPU  Name        Persistence-M| Bus-Id        Disp.A | Volatile Uncorr. ECC |\n",
            "| Fan  Temp  Perf  Pwr:Usage/Cap|         Memory-Usage | GPU-Util  Compute M. |\n",
            "|                               |                      |               MIG M. |\n",
            "|===============================+======================+======================|\n",
            "|   0  Tesla T4            Off  | 00000000:00:04.0 Off |                    0 |\n",
            "| N/A   73C    P0    33W /  70W |   2580MiB / 15109MiB |      0%      Default |\n",
            "|                               |                      |                  N/A |\n",
            "+-------------------------------+----------------------+----------------------+\n",
            "                                                                               \n",
            "+-----------------------------------------------------------------------------+\n",
            "| Processes:                                                                  |\n",
            "|  GPU   GI   CI        PID   Type   Process name                  GPU Memory |\n",
            "|        ID   ID                                                   Usage      |\n",
            "|=============================================================================|\n",
            "+-----------------------------------------------------------------------------+\n"
          ]
        }
      ],
      "source": [
        "!nvidia-smi"
      ],
      "id": "Ky67OTAeUjwf"
    },
    {
      "cell_type": "code",
      "execution_count": 23,
      "metadata": {
        "id": "-5Rt2wQFYfuE",
        "colab": {
          "base_uri": "https://localhost:8080/"
        },
        "outputId": "0274d4bf-9e0e-469a-f8e2-a638602d1020"
      },
      "outputs": [
        {
          "output_type": "stream",
          "name": "stdout",
          "text": [
            "Epoch 1/4\n",
            "901/901 [==============================] - 107s 103ms/step - loss: 1.4928 - accuracy: 0.4645 - val_loss: 1.0992 - val_accuracy: 0.6114\n",
            "Epoch 2/4\n",
            "901/901 [==============================] - 94s 104ms/step - loss: 1.2317 - accuracy: 0.5704 - val_loss: 1.0744 - val_accuracy: 0.6235\n",
            "Epoch 3/4\n",
            "901/901 [==============================] - 89s 99ms/step - loss: 1.1883 - accuracy: 0.5869 - val_loss: 1.0513 - val_accuracy: 0.6283\n",
            "Epoch 4/4\n",
            "901/901 [==============================] - 91s 101ms/step - loss: 1.1733 - accuracy: 0.5956 - val_loss: 1.0480 - val_accuracy: 0.6260\n"
          ]
        }
      ],
      "source": [
        "checkpoint_filepath = './tmp/checkpoint'\n",
        "\n",
        "model_checkpoint_callback = tf.keras.callbacks.ModelCheckpoint(\n",
        "    filepath=checkpoint_filepath,\n",
        "    save_weights_only=True,\n",
        "    monitor='val_accuracy',\n",
        "    mode='max',\n",
        "    save_best_only=True)\n",
        "\n",
        "early_stopping_callback = tf.keras.callbacks.EarlyStopping(\n",
        "    monitor=\"val_loss\",\n",
        "    patience=5,\n",
        "    mode=\"auto\",\n",
        ")\n",
        "\n",
        "history = model.fit([train_encodings['input_ids'], \n",
        "                     train_encodings['attention_mask']], \n",
        "                    y_train, \n",
        "                    validation_split=.2,\n",
        "                    epochs=8,\n",
        "                    batch_size=32,\n",
        "                    callbacks=[model_checkpoint_callback, early_stopping_callback])"
      ],
      "id": "-5Rt2wQFYfuE"
    },
    {
      "cell_type": "code",
      "execution_count": null,
      "metadata": {
        "id": "hvCeKeivsE_5"
      },
      "outputs": [],
      "source": [
        "#train_labels = df_train['topic']\n",
        "#test_labels  = df_test['topic']\n",
        "\n",
        "#train_dataset = tf.data.Dataset.from_tensor_slices((dict(train_encodings),\n",
        "#                                                         train_labels))\n",
        "\n",
        "#test_dataset = tf.data.Dataset.from_tensor_slices((dict(test_encodings),\n",
        "#                                                        test_labels))"
      ],
      "id": "hvCeKeivsE_5"
    },
    {
      "cell_type": "code",
      "execution_count": null,
      "metadata": {
        "id": "RW2PaFMTuHww"
      },
      "outputs": [],
      "source": [
        "#training_args.strategy.scope()"
      ],
      "id": "RW2PaFMTuHww"
    },
    {
      "cell_type": "code",
      "execution_count": null,
      "metadata": {
        "id": "yQn9a6J2ynks"
      },
      "outputs": [],
      "source": [
        "# hf_gpt2_model.fit(train_dataset)"
      ],
      "id": "yQn9a6J2ynks"
    },
    {
      "cell_type": "code",
      "execution_count": null,
      "metadata": {
        "id": "mHVXnOWZzVc7"
      },
      "outputs": [],
      "source": [
        "#train_encodings['input_ids']"
      ],
      "id": "mHVXnOWZzVc7"
    },
    {
      "cell_type": "code",
      "execution_count": null,
      "metadata": {
        "id": "RLlGZYeruxnj"
      },
      "outputs": [],
      "source": [
        "#hf_gpt2_model.compile(optimizer='adam',\n",
        "#                      loss='categorical_crossentropy',\n",
        "#                      metrics=['acc'])\n",
        "\n",
        "#hf_gpt2_model.fit(train_encodings['input_ids'])\n",
        "#hf_gpt2_model.fit(train_dataset, epochs=4, validation_data=test_dataset)"
      ],
      "id": "RLlGZYeruxnj"
    },
    {
      "cell_type": "code",
      "execution_count": null,
      "metadata": {
        "id": "Lm7HnV7VuEjD"
      },
      "outputs": [],
      "source": [
        "with training_args.strategy.scope():\n",
        "  model = hf_gpt2_model\n",
        "\n",
        "trainer = TFTrainer(\n",
        "    model=model,\n",
        "    args=training_args,\n",
        "    train_dataset=train_dataset,\n",
        "    eval_dataset=test_dataset\n",
        ")"
      ],
      "id": "Lm7HnV7VuEjD"
    },
    {
      "cell_type": "markdown",
      "metadata": {
        "id": "XPAdQkNTbnBF"
      },
      "source": [
        "### Data Preview"
      ],
      "id": "XPAdQkNTbnBF"
    },
    {
      "cell_type": "code",
      "execution_count": null,
      "metadata": {
        "id": "YZIKcnCiYf-D"
      },
      "outputs": [],
      "source": [
        "for text, label in ds_train.take(5):\n",
        "  print('Text')\n",
        "  print(text)\n",
        "  print('Label')\n",
        "  print(label)"
      ],
      "id": "YZIKcnCiYf-D"
    },
    {
      "cell_type": "code",
      "execution_count": null,
      "metadata": {
        "id": "DmrzbcNs7E_a"
      },
      "outputs": [],
      "source": [
        "\"\"\"## This is currently broken\n",
        "max_len = 384\n",
        "hf_gpt2_tokenizer_bootstrapper = transformers.BertTokenizer.from_pretrained(\"gpt2\")\n",
        "hf_gpt2_model = transformers.TFGPT2Model.from_pretrained(\"gpt2\")\n",
        "\n",
        "save_path = Path(\"data\") / \"models\"\n",
        "if not os.path.exists(save_path):\n",
        "    os.makedirs(save_path, exist_ok=True)\n",
        "hf_gpt2_tokenizer_bootstrapper.save_pretrained(save_path)\n",
        "hf_gpt2_model.save_pretrained(save_path)\n",
        "\n",
        "# Load the fast tokenizer from saved file\n",
        "gpt2_tokenizer = tokenizers.GPT2TokenizerFast(str(save_path/\"vocab.txt\"), lowercase=True)\n",
        "\n",
        "def tf_hf_gpt2encode(features, label):\n",
        "    x = gpt2_tokenizer.encode(tf.compat.as_str(features), add_special_tokens=True)\n",
        "    y = gpt2_tokenizer.encode(tf.compat.as_str(label), add_special_tokens=True)\n",
        "    return x, y\n",
        "\n",
        "def tf_hf_gpt2encodeds(features, label):\n",
        "    encode = tf.py_function(func=tf_hf_gpt2encode, inp=[features, label], Tout=[tf.int64, tf.int64])\n",
        "    return encode\n",
        "\n",
        "encoded_input = ds_train.batch(256).map(tf_hf_gpt2encodeds)\n",
        "output = transformers.TFGPT2Model(config=transformers.PretrainedConfig.from_json_file(str(save_path/\"config.json\")))\n",
        "hf_gpt2 = output(encoded_input)\"\"\""
      ],
      "id": "DmrzbcNs7E_a"
    },
    {
      "cell_type": "code",
      "execution_count": null,
      "metadata": {
        "id": "195d6bac"
      },
      "outputs": [],
      "source": [
        "\"\"\"\n",
        "files = [] # Need to explode train_ds to sep files\n",
        "\n",
        "tokenizer = tokenizers.GPT2TokenizerFast(\n",
        "    clean_text=True,\n",
        "    handle_chinese_chars=True,\n",
        "    strip_accents=True,\n",
        "    lowercase=True,\n",
        ")\n",
        "\n",
        "tokenizer.train(\n",
        "    files,\n",
        "    vocab_size=10000,\n",
        "    min_frequency=2,\n",
        "    show_progress=True,\n",
        "    special_tokens=[\"[PAD]\", \"[UNK]\", \"[CLS]\", \"[SEP]\", \"[MASK]\"],\n",
        "    limit_alphabet=1000,\n",
        "    wordpieces_prefix=\"##\",\n",
        ")\n",
        "\n",
        "# Save the files\n",
        "tokenizer.save_model(args.out, args.name)\"\"\""
      ],
      "id": "195d6bac"
    }
  ],
  "metadata": {
    "accelerator": "GPU",
    "colab": {
      "machine_shape": "hm",
      "name": "gpt2-model.ipynb",
      "provenance": [],
      "collapsed_sections": []
    },
    "gpuClass": "standard",
    "jupytext": {
      "formats": "ipynb,py:percent"
    },
    "kernelspec": {
      "display_name": "Python 3 (ipykernel)",
      "language": "python",
      "name": "python3"
    },
    "language_info": {
      "codemirror_mode": {
        "name": "ipython",
        "version": 3
      },
      "file_extension": ".py",
      "mimetype": "text/x-python",
      "name": "python",
      "nbconvert_exporter": "python",
      "pygments_lexer": "ipython3",
      "version": "3.9.13"
    }
  },
  "nbformat": 4,
  "nbformat_minor": 5
}