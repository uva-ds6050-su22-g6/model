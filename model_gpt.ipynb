{
  "cells": [
    {
      "cell_type": "markdown",
      "metadata": {
        "collapsed": false,
        "id": "17ed0b92"
      },
      "source": [
        "\n",
        "# DS6050 - Group 6\n",
        "* Andrej Erkelens <wsw3fa@virginia.edu>\n",
        "* Robert Knuuti <uqq5zz@virginia.edu>\n",
        "* Khoi Tran <kt2np@virginia.edu>\n",
        "\n",
        "## Abstract\n",
        "English is a verbose language with over 69% redundancy in its construction, and as a result, individuals only need to identify important details to comprehend an intended message.\n",
        "While there are strong efforts to quantify the various elements of language, the average individual can still comprehend a written message that has errors, either in spelling or in grammar.\n",
        "The emulation of the effortless, yet obscure task of reading, writing, and understanding language is the perfect challenge for the biologically-inspired methods of deep learning.\n",
        "Most language and text related problems rely upon finding high-quality latent representations to understand the task at hand. Unfortunately, efforts to overcome such problems are limited to the data and computation power available to individuals; data availability often presents the largest problem, with small, specific domain tasks often proving to be limiting.\n",
        "Currently, these tasks are often aided or overcome by pre-trained large language models (LLMs), designed by large corporations and laboratories.\n",
        "Fine-tuning language models on domain-specific vocabulary with small data sizes still presents a challenge to the language community, but the growing availability of LLMs to augment such models alleviates the challenge.\n",
        "This paper explores different techniques to be applied on existing language models (LMs), built highly complex Deep Learning models, and investigates how to fine-tune these models, such that a pre-trained model is used to enrich a more domain-specific model that may be limited in textual data.\n",
        "\n",
        "## Project Objective\n",
        "\n",
        "We are aiming on using several small domain specific language tasks, particularly classification tasks.\n",
        "We aim to take at least two models, probably BERT and distill-GPT2 as they seem readily available on HuggingFace and TensorFlow's model hub.\n",
        "We will iterate through different variants of layers we fine tune and compare these results with fully trained models, and ideally find benchmarks already in academic papers on all of the datasets.\n",
        "\n",
        "We aim to optimize compute efficiency and also effectiveness of the model on the given dataset. Our goal is to find a high performing and generalizable method for our fine tuning process and share this in our paper.\n"
      ],
      "id": "17ed0b92"
    },
    {
      "cell_type": "code",
      "execution_count": 1,
      "metadata": {
        "colab": {
          "base_uri": "https://localhost:8080/",
          "height": 35
        },
        "id": "f8971652",
        "outputId": "e9d6e6ea-3f73-4f1e-be79-a851836b4038"
      },
      "outputs": [
        {
          "output_type": "display_data",
          "data": {
            "application/javascript": [
              "IPython.notebook.set_autosave_interval(0)"
            ]
          },
          "metadata": {}
        },
        {
          "output_type": "stream",
          "name": "stdout",
          "text": [
            "Autosave disabled\n"
          ]
        }
      ],
      "source": [
        "%autosave 0"
      ],
      "id": "f8971652"
    },
    {
      "cell_type": "code",
      "execution_count": 2,
      "metadata": {
        "colab": {
          "base_uri": "https://localhost:8080/"
        },
        "id": "M7fV1R567PdR",
        "outputId": "4220f3c8-0567-4484-e950-761c8368e6d1"
      },
      "outputs": [
        {
          "output_type": "stream",
          "name": "stdout",
          "text": [
            "\u001b[K     |████████████████████████████████| 4.6 MB 27.8 MB/s \n",
            "\u001b[K     |████████████████████████████████| 6.6 MB 55.2 MB/s \n",
            "\u001b[K     |████████████████████████████████| 4.7 MB 53.2 MB/s \n",
            "\u001b[K     |████████████████████████████████| 511.7 MB 6.4 kB/s \n",
            "\u001b[K     |████████████████████████████████| 1.6 MB 68.2 MB/s \n",
            "\u001b[K     |████████████████████████████████| 5.8 MB 56.0 MB/s \n",
            "\u001b[K     |████████████████████████████████| 438 kB 69.9 MB/s \n",
            "\u001b[K     |████████████████████████████████| 596 kB 66.3 MB/s \n",
            "\u001b[K     |████████████████████████████████| 101 kB 12.3 MB/s \n",
            "\u001b[?25h"
          ]
        }
      ],
      "source": [
        "!pip install -q tensorflow-text tokenizers transformers"
      ],
      "id": "M7fV1R567PdR"
    },
    {
      "cell_type": "code",
      "execution_count": 2,
      "metadata": {
        "id": "CUp8f1yr760r"
      },
      "outputs": [],
      "source": [
        "import tensorflow as tf\n",
        "import tensorflow_text as tf_text"
      ],
      "id": "CUp8f1yr760r"
    },
    {
      "cell_type": "code",
      "execution_count": 3,
      "metadata": {
        "colab": {
          "base_uri": "https://localhost:8080/"
        },
        "id": "vA3eBwuu-Dlf",
        "outputId": "76645e22-fdf9-44a3-acbf-72f3adaf420a"
      },
      "outputs": [
        {
          "output_type": "stream",
          "name": "stdout",
          "text": [
            "Drive already mounted at /content/drive; to attempt to forcibly remount, call drive.mount(\"/content/drive\", force_remount=True).\n"
          ]
        }
      ],
      "source": [
        "from google.colab import drive\n",
        "drive.mount('/content/drive')"
      ],
      "id": "vA3eBwuu-Dlf"
    },
    {
      "cell_type": "code",
      "execution_count": 4,
      "metadata": {
        "colab": {
          "base_uri": "https://localhost:8080/"
        },
        "id": "j8jU9Dao-ZL5",
        "outputId": "e462c52b-17dc-4b96-b3e9-0c154f4c55f8"
      },
      "outputs": [
        {
          "output_type": "stream",
          "name": "stdout",
          "text": [
            "/content/drive/MyDrive/ds6050/git\n"
          ]
        }
      ],
      "source": [
        "%cd /content/drive/MyDrive/ds6050/git/"
      ],
      "id": "j8jU9Dao-ZL5"
    },
    {
      "cell_type": "code",
      "execution_count": 34,
      "metadata": {
        "id": "6eb2e492"
      },
      "outputs": [],
      "source": [
        "import os\n",
        "from pathlib import Path\n",
        "\n",
        "import numpy as np\n",
        "import pandas as pd\n",
        "\n",
        "import tokenizers\n",
        "import torch\n",
        "import transformers\n",
        "\n",
        "from tensorflow import keras\n",
        "from tokenizers import decoders, models, normalizers, pre_tokenizers, processors, trainers\n",
        "\n",
        "np.random.seed(42)\n",
        "tf.random.set_seed(42)\n",
        "\n",
        "df = pd.read_feather(\"data-extractor/data/dataset.feather\")#.set_index('index')\n",
        "df['topic'] = df['topic'].str.split('.').str[0]\n",
        "df_train = df.sample(frac = 0.8)\n",
        "df_test = df.drop(df_train.index)"
      ],
      "id": "6eb2e492"
    },
    {
      "cell_type": "code",
      "execution_count": 6,
      "metadata": {
        "id": "ae8d1c35"
      },
      "outputs": [],
      "source": [
        "features = 'content' # feature for the future - add all the datasets ['categories', 'summary', 'content']\n",
        "label = 'topic'"
      ],
      "id": "ae8d1c35"
    },
    {
      "cell_type": "code",
      "execution_count": null,
      "metadata": {
        "id": "aa1994aa"
      },
      "outputs": [],
      "source": [
        "# strategy = tf.distribute.MirroredStrategy()"
      ],
      "id": "aa1994aa"
    },
    {
      "cell_type": "code",
      "execution_count": null,
      "metadata": {
        "id": "JkZm9g-J6Cge"
      },
      "outputs": [],
      "source": [
        "from sklearn.preprocessing import OneHotEncoder\n",
        "\n",
        "ohe = OneHotEncoder()\n",
        "\n",
        "# (45030, 7): 7 different topics\n",
        "y_ = ohe.fit_transform(df['topic'].values.reshape(-1,1)).toarray()"
      ],
      "id": "JkZm9g-J6Cge"
    },
    {
      "cell_type": "code",
      "execution_count": 37,
      "metadata": {
        "colab": {
          "base_uri": "https://localhost:8080/"
        },
        "id": "k98DISb3X2Yr",
        "outputId": "19b35c95-141a-4afe-b198-eeed08cd2e11"
      },
      "outputs": [
        {
          "output_type": "stream",
          "name": "stderr",
          "text": [
            "All model checkpoint layers were used when initializing TFGPT2Model.\n",
            "\n",
            "All the layers of TFGPT2Model were initialized from the model checkpoint at gpt2.\n",
            "If your task is similar to the task the model of the checkpoint was trained on, you can already use TFGPT2Model for predictions without further training.\n",
            "Using pad_token, but it is not set yet.\n"
          ]
        }
      ],
      "source": [
        "max_len = 512\n",
        "checkpoint = 'gpt2'\n",
        "hf_gpt2_tokenizer = transformers.GPT2Tokenizer.from_pretrained(checkpoint, add_prefix_space=True)\n",
        "hf_gpt2_model = transformers.TFGPT2Model.from_pretrained(checkpoint)\n",
        "# hf_gpt2_model = transformers.GPT2ForSequenceClassification.from_pretrained(checkpoint)\n",
        "\n",
        "# add for gpt2 padding\n",
        "if hf_gpt2_tokenizer.pad_token is None:\n",
        "    hf_gpt2_tokenizer.add_special_tokens({'pad_token': '[PAD]'})\n",
        "hf_gpt2_model.resize_token_embeddings(len(hf_gpt2_tokenizer))\n",
        "\n",
        "# batch encoding\n",
        "encodings = hf_gpt2_tokenizer.batch_encode_plus(list(df.summary.values), \n",
        "                                                return_tensors='tf', \n",
        "                                                padding='max_length',\n",
        "                                                #add_special_tokens=True,\n",
        "                                                max_length=None,\n",
        "                                                truncation=True)"
      ],
      "id": "k98DISb3X2Yr"
    },
    {
      "cell_type": "code",
      "execution_count": null,
      "metadata": {
        "id": "QukShKq2lnak"
      },
      "outputs": [],
      "source": [
        "# train_encodings = hf_bert_tokenizer.batch_encode_plus(list(df_train.summary.values), \n",
        "#                                                 return_tensors='tf', \n",
        "#                                                 padding='max_length',\n",
        "#                                                 max_length=None,\n",
        "#                                                 truncation=True)\n",
        "\n",
        "# test_encodings = hf_bert_tokenizer.batch_encode_plus(list(df_test.summary.values), \n",
        "#                                                 return_tensors='tf', \n",
        "#                                                 padding='max_length',\n",
        "#                                                 max_length=None,\n",
        "#                                                 truncation=True)"
      ],
      "id": "QukShKq2lnak"
    },
    {
      "cell_type": "code",
      "execution_count": 53,
      "metadata": {
        "id": "rIYVgwNF1KSI"
      },
      "outputs": [],
      "source": [
        "def model_top(pretr_model):\n",
        "  input_ids = tf.keras.Input(shape=(1024,), dtype='int32')\n",
        "  attention_mask = tf.keras.Input(shape=(1024,), dtype='int32')\n",
        "\n",
        "  output = pretr_model(input_ids = input_ids, attention_mask = attention_mask)\n",
        "  # output = pretr_model([input_ids, attention_mask])\n",
        "  #pooler_output = output[1]\n",
        "  pooler_output = tf.keras.layers.AveragePooling1D(pool_size=1024)(output[0])\n",
        "  flattened_output = tf.keras.layers.Flatten()(pooler_output)\n",
        "  \n",
        "  output = tf.keras.layers.Dense(32, activation='tanh')(flattened_output)\n",
        "  output = tf.keras.layers.Dropout(0.2)(output)\n",
        "\n",
        "  output = tf.keras.layers.Dense(7, activation='softmax')(output)\n",
        "  model = tf.keras.models.Model(inputs=[input_ids, attention_mask], outputs=output)\n",
        "  model.compile(optimizer='adam', loss='categorical_crossentropy', metrics=['accuracy'])\n",
        "\n",
        "  return model"
      ],
      "id": "rIYVgwNF1KSI"
    },
    {
      "cell_type": "code",
      "source": [
        "model = model_top(hf_gpt2_model)"
      ],
      "metadata": {
        "id": "mFmMogLJw2GO"
      },
      "id": "mFmMogLJw2GO",
      "execution_count": 54,
      "outputs": []
    },
    {
      "cell_type": "code",
      "execution_count": 55,
      "metadata": {
        "colab": {
          "base_uri": "https://localhost:8080/"
        },
        "id": "bHO0s2_z2e07",
        "outputId": "ad2520b0-2b5a-4fe3-fe03-f9075b8ed26d"
      },
      "outputs": [
        {
          "output_type": "stream",
          "name": "stdout",
          "text": [
            "Model: \"model\"\n",
            "__________________________________________________________________________________________________\n",
            " Layer (type)                   Output Shape         Param #     Connected to                     \n",
            "==================================================================================================\n",
            " input_14 (InputLayer)          [(None, 1024)]       0           []                               \n",
            "                                                                                                  \n",
            " input_15 (InputLayer)          [(None, 1024)]       0           []                               \n",
            "                                                                                                  \n",
            " tfgpt2_model_4 (TFGPT2Model)   TFBaseModelOutputWi  124440576   ['input_14[0][0]',               \n",
            "                                thPastAndCrossAtten               'input_15[0][0]']               \n",
            "                                tions(last_hidden_s                                               \n",
            "                                tate=(None, 1024, 7                                               \n",
            "                                68),                                                              \n",
            "                                 past_key_values=((                                               \n",
            "                                2, None, 12, 1024,                                                \n",
            "                                64),                                                              \n",
            "                                 (2, None, 12, 1024                                               \n",
            "                                , 64),                                                            \n",
            "                                 (2, None, 12, 1024                                               \n",
            "                                , 64),                                                            \n",
            "                                 (2, None, 12, 1024                                               \n",
            "                                , 64),                                                            \n",
            "                                 (2, None, 12, 1024                                               \n",
            "                                , 64),                                                            \n",
            "                                 (2, None, 12, 1024                                               \n",
            "                                , 64),                                                            \n",
            "                                 (2, None, 12, 1024                                               \n",
            "                                , 64),                                                            \n",
            "                                 (2, None, 12, 1024                                               \n",
            "                                , 64),                                                            \n",
            "                                 (2, None, 12, 1024                                               \n",
            "                                , 64),                                                            \n",
            "                                 (2, None, 12, 1024                                               \n",
            "                                , 64),                                                            \n",
            "                                 (2, None, 12, 1024                                               \n",
            "                                , 64),                                                            \n",
            "                                 (2, None, 12, 1024                                               \n",
            "                                , 64)),                                                           \n",
            "                                 hidden_states=None                                               \n",
            "                                , attentions=None,                                                \n",
            "                                cross_attentions=No                                               \n",
            "                                ne)                                                               \n",
            "                                                                                                  \n",
            " average_pooling1d (AveragePool  (None, 1, 768)      0           ['tfgpt2_model_4[2][0]']         \n",
            " ing1D)                                                                                           \n",
            "                                                                                                  \n",
            " flatten (Flatten)              (None, 768)          0           ['average_pooling1d[0][0]']      \n",
            "                                                                                                  \n",
            " dense (Dense)                  (None, 32)           24608       ['flatten[0][0]']                \n",
            "                                                                                                  \n",
            " dropout_185 (Dropout)          (None, 32)           0           ['dense[0][0]']                  \n",
            "                                                                                                  \n",
            " dense_1 (Dense)                (None, 7)            231         ['dropout_185[0][0]']            \n",
            "                                                                                                  \n",
            "==================================================================================================\n",
            "Total params: 124,465,415\n",
            "Trainable params: 124,465,415\n",
            "Non-trainable params: 0\n",
            "__________________________________________________________________________________________________\n"
          ]
        }
      ],
      "source": [
        "model.summary()"
      ],
      "id": "bHO0s2_z2e07"
    },
    {
      "cell_type": "code",
      "execution_count": 56,
      "metadata": {
        "colab": {
          "base_uri": "https://localhost:8080/"
        },
        "id": "XaMC57JY4YRv",
        "outputId": "72136286-e52c-4187-a5e3-c55986fdae7f"
      },
      "outputs": [
        {
          "output_type": "execute_result",
          "data": {
            "text/plain": [
              "[<keras.engine.input_layer.InputLayer at 0x7fe3d13f5a10>,\n",
              " <keras.engine.input_layer.InputLayer at 0x7fe3cf346150>,\n",
              " <transformers.models.gpt2.modeling_tf_gpt2.TFGPT2Model at 0x7fe41819efd0>,\n",
              " <keras.layers.pooling.average_pooling1d.AveragePooling1D at 0x7fe3d13fd350>,\n",
              " <keras.layers.reshaping.flatten.Flatten at 0x7fe59888ac90>,\n",
              " <keras.layers.core.dense.Dense at 0x7fe4c755b7d0>,\n",
              " <keras.layers.regularization.dropout.Dropout at 0x7fe41847a650>,\n",
              " <keras.layers.core.dense.Dense at 0x7fe41853d050>]"
            ]
          },
          "metadata": {},
          "execution_count": 56
        }
      ],
      "source": [
        "model.layers"
      ],
      "id": "XaMC57JY4YRv"
    },
    {
      "cell_type": "code",
      "execution_count": 57,
      "metadata": {
        "id": "bc4MEFDK4b0b"
      },
      "outputs": [],
      "source": [
        "model.layers[2].trainable = False"
      ],
      "id": "bc4MEFDK4b0b"
    },
    {
      "cell_type": "code",
      "execution_count": 58,
      "metadata": {
        "colab": {
          "base_uri": "https://localhost:8080/"
        },
        "id": "zMC_xhvt4hfL",
        "outputId": "f68dd669-a2b4-4302-bfbc-2504f443e517"
      },
      "outputs": [
        {
          "output_type": "stream",
          "name": "stdout",
          "text": [
            "Model: \"model\"\n",
            "__________________________________________________________________________________________________\n",
            " Layer (type)                   Output Shape         Param #     Connected to                     \n",
            "==================================================================================================\n",
            " input_14 (InputLayer)          [(None, 1024)]       0           []                               \n",
            "                                                                                                  \n",
            " input_15 (InputLayer)          [(None, 1024)]       0           []                               \n",
            "                                                                                                  \n",
            " tfgpt2_model_4 (TFGPT2Model)   TFBaseModelOutputWi  124440576   ['input_14[0][0]',               \n",
            "                                thPastAndCrossAtten               'input_15[0][0]']               \n",
            "                                tions(last_hidden_s                                               \n",
            "                                tate=(None, 1024, 7                                               \n",
            "                                68),                                                              \n",
            "                                 past_key_values=((                                               \n",
            "                                2, None, 12, 1024,                                                \n",
            "                                64),                                                              \n",
            "                                 (2, None, 12, 1024                                               \n",
            "                                , 64),                                                            \n",
            "                                 (2, None, 12, 1024                                               \n",
            "                                , 64),                                                            \n",
            "                                 (2, None, 12, 1024                                               \n",
            "                                , 64),                                                            \n",
            "                                 (2, None, 12, 1024                                               \n",
            "                                , 64),                                                            \n",
            "                                 (2, None, 12, 1024                                               \n",
            "                                , 64),                                                            \n",
            "                                 (2, None, 12, 1024                                               \n",
            "                                , 64),                                                            \n",
            "                                 (2, None, 12, 1024                                               \n",
            "                                , 64),                                                            \n",
            "                                 (2, None, 12, 1024                                               \n",
            "                                , 64),                                                            \n",
            "                                 (2, None, 12, 1024                                               \n",
            "                                , 64),                                                            \n",
            "                                 (2, None, 12, 1024                                               \n",
            "                                , 64),                                                            \n",
            "                                 (2, None, 12, 1024                                               \n",
            "                                , 64)),                                                           \n",
            "                                 hidden_states=None                                               \n",
            "                                , attentions=None,                                                \n",
            "                                cross_attentions=No                                               \n",
            "                                ne)                                                               \n",
            "                                                                                                  \n",
            " average_pooling1d (AveragePool  (None, 1, 768)      0           ['tfgpt2_model_4[2][0]']         \n",
            " ing1D)                                                                                           \n",
            "                                                                                                  \n",
            " flatten (Flatten)              (None, 768)          0           ['average_pooling1d[0][0]']      \n",
            "                                                                                                  \n",
            " dense (Dense)                  (None, 32)           24608       ['flatten[0][0]']                \n",
            "                                                                                                  \n",
            " dropout_185 (Dropout)          (None, 32)           0           ['dense[0][0]']                  \n",
            "                                                                                                  \n",
            " dense_1 (Dense)                (None, 7)            231         ['dropout_185[0][0]']            \n",
            "                                                                                                  \n",
            "==================================================================================================\n",
            "Total params: 124,465,415\n",
            "Trainable params: 24,839\n",
            "Non-trainable params: 124,440,576\n",
            "__________________________________________________________________________________________________\n"
          ]
        }
      ],
      "source": [
        "model.summary()"
      ],
      "id": "zMC_xhvt4hfL"
    },
    {
      "cell_type": "code",
      "execution_count": 59,
      "metadata": {
        "colab": {
          "base_uri": "https://localhost:8080/"
        },
        "id": "Ky67OTAeUjwf",
        "outputId": "9ffde4a4-713d-426f-943f-5e4f8d20f2bf"
      },
      "outputs": [
        {
          "output_type": "stream",
          "name": "stdout",
          "text": [
            "Mon Aug  8 04:47:51 2022       \n",
            "+-----------------------------------------------------------------------------+\n",
            "| NVIDIA-SMI 460.32.03    Driver Version: 460.32.03    CUDA Version: 11.2     |\n",
            "|-------------------------------+----------------------+----------------------+\n",
            "| GPU  Name        Persistence-M| Bus-Id        Disp.A | Volatile Uncorr. ECC |\n",
            "| Fan  Temp  Perf  Pwr:Usage/Cap|         Memory-Usage | GPU-Util  Compute M. |\n",
            "|                               |                      |               MIG M. |\n",
            "|===============================+======================+======================|\n",
            "|   0  Tesla T4            Off  | 00000000:00:04.0 Off |                    0 |\n",
            "| N/A   77C    P0    34W /  70W |   4628MiB / 15109MiB |      0%      Default |\n",
            "|                               |                      |                  N/A |\n",
            "+-------------------------------+----------------------+----------------------+\n",
            "                                                                               \n",
            "+-----------------------------------------------------------------------------+\n",
            "| Processes:                                                                  |\n",
            "|  GPU   GI   CI        PID   Type   Process name                  GPU Memory |\n",
            "|        ID   ID                                                   Usage      |\n",
            "|=============================================================================|\n",
            "+-----------------------------------------------------------------------------+\n"
          ]
        }
      ],
      "source": [
        "!nvidia-smi"
      ],
      "id": "Ky67OTAeUjwf"
    },
    {
      "cell_type": "code",
      "execution_count": 60,
      "metadata": {
        "id": "-5Rt2wQFYfuE"
      },
      "outputs": [],
      "source": [
        "checkpoint_filepath = './tmp/checkpoint'\n",
        "\n",
        "model_checkpoint_callback = tf.keras.callbacks.ModelCheckpoint(\n",
        "    filepath=checkpoint_filepath,\n",
        "    save_weights_only=True,\n",
        "    monitor='val_accuracy',\n",
        "    mode='max',\n",
        "    save_best_only=True)\n",
        "\n",
        "early_stopping_callback = tf.keras.callbacks.EarlyStopping(\n",
        "    monitor=\"val_loss\",\n",
        "    patience=5,\n",
        "    mode=\"auto\",\n",
        ")"
      ],
      "id": "-5Rt2wQFYfuE"
    },
    {
      "cell_type": "code",
      "execution_count": null,
      "metadata": {
        "colab": {
          "background_save": true,
          "base_uri": "https://localhost:8080/"
        },
        "id": "m11hJnqM4kc0",
        "outputId": "d0b1373a-80fe-4ea9-8376-f8840d522b8e"
      },
      "outputs": [
        {
          "output_type": "stream",
          "name": "stdout",
          "text": [
            "Epoch 1/10\n"
          ]
        }
      ],
      "source": [
        "history = model.fit([encodings['input_ids'], \n",
        "                     encodings['attention_mask']], \n",
        "                    y_, \n",
        "                    validation_split=.2,\n",
        "                    epochs=10,\n",
        "                    batch_size=4,\n",
        "                    callbacks=[model_checkpoint_callback, early_stopping_callback])"
      ],
      "id": "m11hJnqM4kc0"
    },
    {
      "cell_type": "code",
      "execution_count": null,
      "metadata": {
        "id": "hvCeKeivsE_5"
      },
      "outputs": [],
      "source": [
        "train_labels = df_train['topic']\n",
        "test_labels = df_test['topic']\n",
        "\n",
        "train_dataset = tf.data.Dataset.from_tensor_slices((dict(train_encodings),\n",
        "                                                         train_labels))\n",
        "\n",
        "test_dataset = tf.data.Dataset.from_tensor_slices((dict(test_encodings),\n",
        "                                                        test_labels))"
      ],
      "id": "hvCeKeivsE_5"
    },
    {
      "cell_type": "code",
      "execution_count": null,
      "metadata": {
        "colab": {
          "base_uri": "https://localhost:8080/"
        },
        "id": "RW2PaFMTuHww",
        "outputId": "f8ad3a6a-f6ba-40a3-ee42-976e6b1cd51e"
      },
      "outputs": [
        {
          "data": {
            "text/plain": [
              "<tensorflow.python.distribute.distribute_lib._CurrentDistributionContext at 0x7f6135b3cf50>"
            ]
          },
          "execution_count": 121,
          "metadata": {},
          "output_type": "execute_result"
        }
      ],
      "source": [
        "training_args.strategy.scope()"
      ],
      "id": "RW2PaFMTuHww"
    },
    {
      "cell_type": "code",
      "execution_count": null,
      "metadata": {
        "colab": {
          "base_uri": "https://localhost:8080/",
          "height": 693
        },
        "id": "yQn9a6J2ynks",
        "outputId": "d78668c0-7a16-4327-909b-d30e42e76feb"
      },
      "outputs": [
        {
          "ename": "ValueError",
          "evalue": "ignored",
          "output_type": "error",
          "traceback": [
            "\u001b[0;31m---------------------------------------------------------------------------\u001b[0m",
            "\u001b[0;31mValueError\u001b[0m                                Traceback (most recent call last)",
            "\u001b[0;32m<ipython-input-130-ad031aa8fbaa>\u001b[0m in \u001b[0;36m<module>\u001b[0;34m()\u001b[0m\n\u001b[0;32m----> 1\u001b[0;31m \u001b[0mhf_bert_model\u001b[0m\u001b[0;34m.\u001b[0m\u001b[0mfit\u001b[0m\u001b[0;34m(\u001b[0m\u001b[0mtrain_dataset\u001b[0m\u001b[0;34m)\u001b[0m\u001b[0;34m\u001b[0m\u001b[0;34m\u001b[0m\u001b[0m\n\u001b[0m",
            "\u001b[0;32m/usr/local/lib/python3.7/dist-packages/keras/utils/traceback_utils.py\u001b[0m in \u001b[0;36merror_handler\u001b[0;34m(*args, **kwargs)\u001b[0m\n\u001b[1;32m     65\u001b[0m     \u001b[0;32mexcept\u001b[0m \u001b[0mException\u001b[0m \u001b[0;32mas\u001b[0m \u001b[0me\u001b[0m\u001b[0;34m:\u001b[0m  \u001b[0;31m# pylint: disable=broad-except\u001b[0m\u001b[0;34m\u001b[0m\u001b[0;34m\u001b[0m\u001b[0m\n\u001b[1;32m     66\u001b[0m       \u001b[0mfiltered_tb\u001b[0m \u001b[0;34m=\u001b[0m \u001b[0m_process_traceback_frames\u001b[0m\u001b[0;34m(\u001b[0m\u001b[0me\u001b[0m\u001b[0;34m.\u001b[0m\u001b[0m__traceback__\u001b[0m\u001b[0;34m)\u001b[0m\u001b[0;34m\u001b[0m\u001b[0;34m\u001b[0m\u001b[0m\n\u001b[0;32m---> 67\u001b[0;31m       \u001b[0;32mraise\u001b[0m \u001b[0me\u001b[0m\u001b[0;34m.\u001b[0m\u001b[0mwith_traceback\u001b[0m\u001b[0;34m(\u001b[0m\u001b[0mfiltered_tb\u001b[0m\u001b[0;34m)\u001b[0m \u001b[0;32mfrom\u001b[0m \u001b[0;32mNone\u001b[0m\u001b[0;34m\u001b[0m\u001b[0;34m\u001b[0m\u001b[0m\n\u001b[0m\u001b[1;32m     68\u001b[0m     \u001b[0;32mfinally\u001b[0m\u001b[0;34m:\u001b[0m\u001b[0;34m\u001b[0m\u001b[0;34m\u001b[0m\u001b[0m\n\u001b[1;32m     69\u001b[0m       \u001b[0;32mdel\u001b[0m \u001b[0mfiltered_tb\u001b[0m\u001b[0;34m\u001b[0m\u001b[0;34m\u001b[0m\u001b[0m\n",
            "\u001b[0;32m/usr/local/lib/python3.7/dist-packages/keras/engine/training.py\u001b[0m in \u001b[0;36mtf__train_function\u001b[0;34m(iterator)\u001b[0m\n\u001b[1;32m     13\u001b[0m                 \u001b[0;32mtry\u001b[0m\u001b[0;34m:\u001b[0m\u001b[0;34m\u001b[0m\u001b[0;34m\u001b[0m\u001b[0m\n\u001b[1;32m     14\u001b[0m                     \u001b[0mdo_return\u001b[0m \u001b[0;34m=\u001b[0m \u001b[0;32mTrue\u001b[0m\u001b[0;34m\u001b[0m\u001b[0;34m\u001b[0m\u001b[0m\n\u001b[0;32m---> 15\u001b[0;31m                     \u001b[0mretval_\u001b[0m \u001b[0;34m=\u001b[0m \u001b[0mag__\u001b[0m\u001b[0;34m.\u001b[0m\u001b[0mconverted_call\u001b[0m\u001b[0;34m(\u001b[0m\u001b[0mag__\u001b[0m\u001b[0;34m.\u001b[0m\u001b[0mld\u001b[0m\u001b[0;34m(\u001b[0m\u001b[0mstep_function\u001b[0m\u001b[0;34m)\u001b[0m\u001b[0;34m,\u001b[0m \u001b[0;34m(\u001b[0m\u001b[0mag__\u001b[0m\u001b[0;34m.\u001b[0m\u001b[0mld\u001b[0m\u001b[0;34m(\u001b[0m\u001b[0mself\u001b[0m\u001b[0;34m)\u001b[0m\u001b[0;34m,\u001b[0m \u001b[0mag__\u001b[0m\u001b[0;34m.\u001b[0m\u001b[0mld\u001b[0m\u001b[0;34m(\u001b[0m\u001b[0miterator\u001b[0m\u001b[0;34m)\u001b[0m\u001b[0;34m)\u001b[0m\u001b[0;34m,\u001b[0m \u001b[0;32mNone\u001b[0m\u001b[0;34m,\u001b[0m \u001b[0mfscope\u001b[0m\u001b[0;34m)\u001b[0m\u001b[0;34m\u001b[0m\u001b[0;34m\u001b[0m\u001b[0m\n\u001b[0m\u001b[1;32m     16\u001b[0m                 \u001b[0;32mexcept\u001b[0m\u001b[0;34m:\u001b[0m\u001b[0;34m\u001b[0m\u001b[0;34m\u001b[0m\u001b[0m\n\u001b[1;32m     17\u001b[0m                     \u001b[0mdo_return\u001b[0m \u001b[0;34m=\u001b[0m \u001b[0;32mFalse\u001b[0m\u001b[0;34m\u001b[0m\u001b[0;34m\u001b[0m\u001b[0m\n",
            "\u001b[0;32m/usr/local/lib/python3.7/dist-packages/transformers/modeling_tf_utils.py\u001b[0m in \u001b[0;36mtrain_step\u001b[0;34m(self, data)\u001b[0m\n\u001b[1;32m   1149\u001b[0m \u001b[0;34m\u001b[0m\u001b[0m\n\u001b[1;32m   1150\u001b[0m             \u001b[0;32mif\u001b[0m \u001b[0mloss\u001b[0m \u001b[0;32mis\u001b[0m \u001b[0;32mNone\u001b[0m\u001b[0;34m:\u001b[0m\u001b[0;34m\u001b[0m\u001b[0;34m\u001b[0m\u001b[0m\n\u001b[0;32m-> 1151\u001b[0;31m                 \u001b[0mloss\u001b[0m \u001b[0;34m=\u001b[0m \u001b[0mself\u001b[0m\u001b[0;34m.\u001b[0m\u001b[0mcompiled_loss\u001b[0m\u001b[0;34m(\u001b[0m\u001b[0my\u001b[0m\u001b[0;34m,\u001b[0m \u001b[0my_pred\u001b[0m\u001b[0;34m,\u001b[0m \u001b[0msample_weight\u001b[0m\u001b[0;34m,\u001b[0m \u001b[0mregularization_losses\u001b[0m\u001b[0;34m=\u001b[0m\u001b[0mself\u001b[0m\u001b[0;34m.\u001b[0m\u001b[0mlosses\u001b[0m\u001b[0;34m)\u001b[0m\u001b[0;34m\u001b[0m\u001b[0;34m\u001b[0m\u001b[0m\n\u001b[0m\u001b[1;32m   1152\u001b[0m \u001b[0;34m\u001b[0m\u001b[0m\n\u001b[1;32m   1153\u001b[0m         \u001b[0;31m# Run backwards pass.\u001b[0m\u001b[0;34m\u001b[0m\u001b[0;34m\u001b[0m\u001b[0;34m\u001b[0m\u001b[0m\n",
            "\u001b[0;31mValueError\u001b[0m: in user code:\n\n    File \"/usr/local/lib/python3.7/dist-packages/keras/engine/training.py\", line 1051, in train_function  *\n        return step_function(self, iterator)\n    File \"/usr/local/lib/python3.7/dist-packages/keras/engine/training.py\", line 1040, in step_function  **\n        outputs = model.distribute_strategy.run(run_step, args=(data,))\n    File \"/usr/local/lib/python3.7/dist-packages/keras/engine/training.py\", line 1030, in run_step  **\n        outputs = model.train_step(data)\n    File \"/usr/local/lib/python3.7/dist-packages/transformers/modeling_tf_utils.py\", line 1151, in train_step\n        loss = self.compiled_loss(y, y_pred, sample_weight, regularization_losses=self.losses)\n    File \"/usr/local/lib/python3.7/dist-packages/keras/engine/compile_utils.py\", line 201, in __call__\n        loss_value = loss_obj(y_t, y_p, sample_weight=sw)\n    File \"/usr/local/lib/python3.7/dist-packages/keras/losses.py\", line 139, in __call__\n        losses = call_fn(y_true, y_pred)\n    File \"/usr/local/lib/python3.7/dist-packages/keras/losses.py\", line 243, in call  **\n        return ag_fn(y_true, y_pred, **self._fn_kwargs)\n    File \"/usr/local/lib/python3.7/dist-packages/keras/losses.py\", line 1788, in categorical_crossentropy\n        y_true, y_pred, from_logits=from_logits, axis=axis)\n    File \"/usr/local/lib/python3.7/dist-packages/keras/backend.py\", line 5119, in categorical_crossentropy\n        target.shape.assert_is_compatible_with(output.shape)\n\n    ValueError: Shapes () and (512, 1, 768) are incompatible\n"
          ]
        }
      ],
      "source": [
        "# hf_bert_model.fit(train_dataset)"
      ],
      "id": "yQn9a6J2ynks"
    },
    {
      "cell_type": "code",
      "execution_count": null,
      "metadata": {
        "colab": {
          "base_uri": "https://localhost:8080/"
        },
        "id": "mHVXnOWZzVc7",
        "outputId": "e68e673f-58ea-49e7-e6b2-f0985c25bdc6"
      },
      "outputs": [
        {
          "data": {
            "text/plain": [
              "<tf.Tensor: shape=(27716, 512), dtype=int32, numpy=\n",
              "array([[  101,  3078,  3864, ...,     0,     0,     0],\n",
              "       [  101, 26033,  2271, ...,     0,     0,     0],\n",
              "       [  101,  7145,  1010, ...,  3939,  7286,   102],\n",
              "       ...,\n",
              "       [  101,  8934,  3258, ...,     0,     0,     0],\n",
              "       [  101,  3972,  8873, ...,     0,     0,     0],\n",
              "       [  101,  1037,  8754, ...,     0,     0,     0]], dtype=int32)>"
            ]
          },
          "execution_count": 134,
          "metadata": {},
          "output_type": "execute_result"
        }
      ],
      "source": [
        "train_encodings['input_ids']"
      ],
      "id": "mHVXnOWZzVc7"
    },
    {
      "cell_type": "code",
      "execution_count": null,
      "metadata": {
        "colab": {
          "base_uri": "https://localhost:8080/",
          "height": 550
        },
        "id": "OIyPDA64zYjY",
        "outputId": "a113ac63-b015-4d6e-e8e9-6e74db0d61e7"
      },
      "outputs": [
        {
          "ename": "AttributeError",
          "evalue": "ignored",
          "output_type": "error",
          "traceback": [
            "\u001b[0;31m---------------------------------------------------------------------------\u001b[0m",
            "\u001b[0;31mAttributeError\u001b[0m                            Traceback (most recent call last)",
            "\u001b[0;32m<ipython-input-135-a5ec43e7d420>\u001b[0m in \u001b[0;36m<module>\u001b[0;34m()\u001b[0m\n\u001b[1;32m      3\u001b[0m                       metrics=['acc'])\n\u001b[1;32m      4\u001b[0m \u001b[0;34m\u001b[0m\u001b[0m\n\u001b[0;32m----> 5\u001b[0;31m \u001b[0mhf_bert_model\u001b[0m\u001b[0;34m.\u001b[0m\u001b[0mfit\u001b[0m\u001b[0;34m(\u001b[0m\u001b[0mtrain_encodings\u001b[0m\u001b[0;34m[\u001b[0m\u001b[0;34m'input_ids'\u001b[0m\u001b[0;34m]\u001b[0m\u001b[0;34m)\u001b[0m\u001b[0;34m\u001b[0m\u001b[0;34m\u001b[0m\u001b[0m\n\u001b[0m",
            "\u001b[0;32m/usr/local/lib/python3.7/dist-packages/keras/utils/traceback_utils.py\u001b[0m in \u001b[0;36merror_handler\u001b[0;34m(*args, **kwargs)\u001b[0m\n\u001b[1;32m     65\u001b[0m     \u001b[0;32mexcept\u001b[0m \u001b[0mException\u001b[0m \u001b[0;32mas\u001b[0m \u001b[0me\u001b[0m\u001b[0;34m:\u001b[0m  \u001b[0;31m# pylint: disable=broad-except\u001b[0m\u001b[0;34m\u001b[0m\u001b[0;34m\u001b[0m\u001b[0m\n\u001b[1;32m     66\u001b[0m       \u001b[0mfiltered_tb\u001b[0m \u001b[0;34m=\u001b[0m \u001b[0m_process_traceback_frames\u001b[0m\u001b[0;34m(\u001b[0m\u001b[0me\u001b[0m\u001b[0;34m.\u001b[0m\u001b[0m__traceback__\u001b[0m\u001b[0;34m)\u001b[0m\u001b[0;34m\u001b[0m\u001b[0;34m\u001b[0m\u001b[0m\n\u001b[0;32m---> 67\u001b[0;31m       \u001b[0;32mraise\u001b[0m \u001b[0me\u001b[0m\u001b[0;34m.\u001b[0m\u001b[0mwith_traceback\u001b[0m\u001b[0;34m(\u001b[0m\u001b[0mfiltered_tb\u001b[0m\u001b[0;34m)\u001b[0m \u001b[0;32mfrom\u001b[0m \u001b[0;32mNone\u001b[0m\u001b[0;34m\u001b[0m\u001b[0;34m\u001b[0m\u001b[0m\n\u001b[0m\u001b[1;32m     68\u001b[0m     \u001b[0;32mfinally\u001b[0m\u001b[0;34m:\u001b[0m\u001b[0;34m\u001b[0m\u001b[0;34m\u001b[0m\u001b[0m\n\u001b[1;32m     69\u001b[0m       \u001b[0;32mdel\u001b[0m \u001b[0mfiltered_tb\u001b[0m\u001b[0;34m\u001b[0m\u001b[0;34m\u001b[0m\u001b[0m\n",
            "\u001b[0;32m/usr/local/lib/python3.7/dist-packages/keras/engine/training.py\u001b[0m in \u001b[0;36mtf__train_function\u001b[0;34m(iterator)\u001b[0m\n\u001b[1;32m     13\u001b[0m                 \u001b[0;32mtry\u001b[0m\u001b[0;34m:\u001b[0m\u001b[0;34m\u001b[0m\u001b[0;34m\u001b[0m\u001b[0m\n\u001b[1;32m     14\u001b[0m                     \u001b[0mdo_return\u001b[0m \u001b[0;34m=\u001b[0m \u001b[0;32mTrue\u001b[0m\u001b[0;34m\u001b[0m\u001b[0;34m\u001b[0m\u001b[0m\n\u001b[0;32m---> 15\u001b[0;31m                     \u001b[0mretval_\u001b[0m \u001b[0;34m=\u001b[0m \u001b[0mag__\u001b[0m\u001b[0;34m.\u001b[0m\u001b[0mconverted_call\u001b[0m\u001b[0;34m(\u001b[0m\u001b[0mag__\u001b[0m\u001b[0;34m.\u001b[0m\u001b[0mld\u001b[0m\u001b[0;34m(\u001b[0m\u001b[0mstep_function\u001b[0m\u001b[0;34m)\u001b[0m\u001b[0;34m,\u001b[0m \u001b[0;34m(\u001b[0m\u001b[0mag__\u001b[0m\u001b[0;34m.\u001b[0m\u001b[0mld\u001b[0m\u001b[0;34m(\u001b[0m\u001b[0mself\u001b[0m\u001b[0;34m)\u001b[0m\u001b[0;34m,\u001b[0m \u001b[0mag__\u001b[0m\u001b[0;34m.\u001b[0m\u001b[0mld\u001b[0m\u001b[0;34m(\u001b[0m\u001b[0miterator\u001b[0m\u001b[0;34m)\u001b[0m\u001b[0;34m)\u001b[0m\u001b[0;34m,\u001b[0m \u001b[0;32mNone\u001b[0m\u001b[0;34m,\u001b[0m \u001b[0mfscope\u001b[0m\u001b[0;34m)\u001b[0m\u001b[0;34m\u001b[0m\u001b[0;34m\u001b[0m\u001b[0m\n\u001b[0m\u001b[1;32m     16\u001b[0m                 \u001b[0;32mexcept\u001b[0m\u001b[0;34m:\u001b[0m\u001b[0;34m\u001b[0m\u001b[0;34m\u001b[0m\u001b[0m\n\u001b[1;32m     17\u001b[0m                     \u001b[0mdo_return\u001b[0m \u001b[0;34m=\u001b[0m \u001b[0;32mFalse\u001b[0m\u001b[0;34m\u001b[0m\u001b[0;34m\u001b[0m\u001b[0m\n",
            "\u001b[0;32m/usr/local/lib/python3.7/dist-packages/transformers/modeling_tf_utils.py\u001b[0m in \u001b[0;36mtrain_step\u001b[0;34m(self, data)\u001b[0m\n\u001b[1;32m   1105\u001b[0m                         \u001b[0mx\u001b[0m\u001b[0;34m[\u001b[0m\u001b[0moutput_to_label\u001b[0m\u001b[0;34m[\u001b[0m\u001b[0mkey\u001b[0m\u001b[0;34m]\u001b[0m\u001b[0;34m]\u001b[0m \u001b[0;34m=\u001b[0m \u001b[0mval\u001b[0m\u001b[0;34m\u001b[0m\u001b[0;34m\u001b[0m\u001b[0m\n\u001b[1;32m   1106\u001b[0m         \u001b[0;32mif\u001b[0m \u001b[0my\u001b[0m \u001b[0;32mis\u001b[0m \u001b[0;32mNone\u001b[0m\u001b[0;34m:\u001b[0m\u001b[0;34m\u001b[0m\u001b[0;34m\u001b[0m\u001b[0m\n\u001b[0;32m-> 1107\u001b[0;31m             \u001b[0my\u001b[0m \u001b[0;34m=\u001b[0m \u001b[0;34m{\u001b[0m\u001b[0mkey\u001b[0m\u001b[0;34m:\u001b[0m \u001b[0mval\u001b[0m \u001b[0;32mfor\u001b[0m \u001b[0mkey\u001b[0m\u001b[0;34m,\u001b[0m \u001b[0mval\u001b[0m \u001b[0;32min\u001b[0m \u001b[0mx\u001b[0m\u001b[0;34m.\u001b[0m\u001b[0mitems\u001b[0m\u001b[0;34m(\u001b[0m\u001b[0;34m)\u001b[0m \u001b[0;32mif\u001b[0m \u001b[0mkey\u001b[0m \u001b[0;32min\u001b[0m \u001b[0mlabel_kwargs\u001b[0m\u001b[0;34m}\u001b[0m\u001b[0;34m\u001b[0m\u001b[0;34m\u001b[0m\u001b[0m\n\u001b[0m\u001b[1;32m   1108\u001b[0m             \u001b[0;32mif\u001b[0m \u001b[0;32mnot\u001b[0m \u001b[0my\u001b[0m \u001b[0;32mand\u001b[0m \u001b[0;32mnot\u001b[0m \u001b[0mself\u001b[0m\u001b[0;34m.\u001b[0m\u001b[0m_using_dummy_loss\u001b[0m\u001b[0;34m:\u001b[0m\u001b[0;34m\u001b[0m\u001b[0;34m\u001b[0m\u001b[0m\n\u001b[1;32m   1109\u001b[0m                 \u001b[0;32mraise\u001b[0m \u001b[0mValueError\u001b[0m\u001b[0;34m(\u001b[0m\u001b[0;34m\"Could not find label column(s) in input dict and no separate labels were provided!\"\u001b[0m\u001b[0;34m)\u001b[0m\u001b[0;34m\u001b[0m\u001b[0;34m\u001b[0m\u001b[0m\n",
            "\u001b[0;31mAttributeError\u001b[0m: in user code:\n\n    File \"/usr/local/lib/python3.7/dist-packages/keras/engine/training.py\", line 1051, in train_function  *\n        return step_function(self, iterator)\n    File \"/usr/local/lib/python3.7/dist-packages/keras/engine/training.py\", line 1040, in step_function  **\n        outputs = model.distribute_strategy.run(run_step, args=(data,))\n    File \"/usr/local/lib/python3.7/dist-packages/keras/engine/training.py\", line 1030, in run_step  **\n        outputs = model.train_step(data)\n    File \"/usr/local/lib/python3.7/dist-packages/transformers/modeling_tf_utils.py\", line 1107, in train_step\n        y = {key: val for key, val in x.items() if key in label_kwargs}\n\n    AttributeError: 'Tensor' object has no attribute 'items'\n"
          ]
        }
      ],
      "source": [
        "hf_bert_model.compile(optimizer='adam',\n",
        "                      loss='categorical_crossentropy',\n",
        "                      metrics=['acc'])\n",
        "\n",
        "hf_bert_model.fit(train_encodings['input_ids'])"
      ],
      "id": "OIyPDA64zYjY"
    },
    {
      "cell_type": "code",
      "execution_count": null,
      "metadata": {
        "colab": {
          "base_uri": "https://localhost:8080/",
          "height": 746
        },
        "id": "RLlGZYeruxnj",
        "outputId": "568a23c4-9da7-40f7-c1c3-b0bdc444cc0d"
      },
      "outputs": [
        {
          "name": "stdout",
          "output_type": "stream",
          "text": [
            "Epoch 1/10\n"
          ]
        },
        {
          "ename": "ValueError",
          "evalue": "ignored",
          "output_type": "error",
          "traceback": [
            "\u001b[0;31m---------------------------------------------------------------------------\u001b[0m",
            "\u001b[0;31mValueError\u001b[0m                                Traceback (most recent call last)",
            "\u001b[0;32m<ipython-input-132-3bde48972c28>\u001b[0m in \u001b[0;36m<module>\u001b[0;34m()\u001b[0m\n\u001b[1;32m      3\u001b[0m                       metrics=['acc'])\n\u001b[1;32m      4\u001b[0m \u001b[0;34m\u001b[0m\u001b[0m\n\u001b[0;32m----> 5\u001b[0;31m \u001b[0mhf_bert_model\u001b[0m\u001b[0;34m.\u001b[0m\u001b[0mfit\u001b[0m\u001b[0;34m(\u001b[0m\u001b[0mtrain_dataset\u001b[0m\u001b[0;34m,\u001b[0m \u001b[0mepochs\u001b[0m\u001b[0;34m=\u001b[0m\u001b[0;36m10\u001b[0m\u001b[0;34m,\u001b[0m \u001b[0mvalidation_data\u001b[0m\u001b[0;34m=\u001b[0m\u001b[0mtest_dataset\u001b[0m\u001b[0;34m)\u001b[0m\u001b[0;34m\u001b[0m\u001b[0;34m\u001b[0m\u001b[0m\n\u001b[0m",
            "\u001b[0;32m/usr/local/lib/python3.7/dist-packages/keras/utils/traceback_utils.py\u001b[0m in \u001b[0;36merror_handler\u001b[0;34m(*args, **kwargs)\u001b[0m\n\u001b[1;32m     65\u001b[0m     \u001b[0;32mexcept\u001b[0m \u001b[0mException\u001b[0m \u001b[0;32mas\u001b[0m \u001b[0me\u001b[0m\u001b[0;34m:\u001b[0m  \u001b[0;31m# pylint: disable=broad-except\u001b[0m\u001b[0;34m\u001b[0m\u001b[0;34m\u001b[0m\u001b[0m\n\u001b[1;32m     66\u001b[0m       \u001b[0mfiltered_tb\u001b[0m \u001b[0;34m=\u001b[0m \u001b[0m_process_traceback_frames\u001b[0m\u001b[0;34m(\u001b[0m\u001b[0me\u001b[0m\u001b[0;34m.\u001b[0m\u001b[0m__traceback__\u001b[0m\u001b[0;34m)\u001b[0m\u001b[0;34m\u001b[0m\u001b[0;34m\u001b[0m\u001b[0m\n\u001b[0;32m---> 67\u001b[0;31m       \u001b[0;32mraise\u001b[0m \u001b[0me\u001b[0m\u001b[0;34m.\u001b[0m\u001b[0mwith_traceback\u001b[0m\u001b[0;34m(\u001b[0m\u001b[0mfiltered_tb\u001b[0m\u001b[0;34m)\u001b[0m \u001b[0;32mfrom\u001b[0m \u001b[0;32mNone\u001b[0m\u001b[0;34m\u001b[0m\u001b[0;34m\u001b[0m\u001b[0m\n\u001b[0m\u001b[1;32m     68\u001b[0m     \u001b[0;32mfinally\u001b[0m\u001b[0;34m:\u001b[0m\u001b[0;34m\u001b[0m\u001b[0;34m\u001b[0m\u001b[0m\n\u001b[1;32m     69\u001b[0m       \u001b[0;32mdel\u001b[0m \u001b[0mfiltered_tb\u001b[0m\u001b[0;34m\u001b[0m\u001b[0;34m\u001b[0m\u001b[0m\n",
            "\u001b[0;32m/usr/local/lib/python3.7/dist-packages/keras/engine/training.py\u001b[0m in \u001b[0;36mtf__train_function\u001b[0;34m(iterator)\u001b[0m\n\u001b[1;32m     13\u001b[0m                 \u001b[0;32mtry\u001b[0m\u001b[0;34m:\u001b[0m\u001b[0;34m\u001b[0m\u001b[0;34m\u001b[0m\u001b[0m\n\u001b[1;32m     14\u001b[0m                     \u001b[0mdo_return\u001b[0m \u001b[0;34m=\u001b[0m \u001b[0;32mTrue\u001b[0m\u001b[0;34m\u001b[0m\u001b[0;34m\u001b[0m\u001b[0m\n\u001b[0;32m---> 15\u001b[0;31m                     \u001b[0mretval_\u001b[0m \u001b[0;34m=\u001b[0m \u001b[0mag__\u001b[0m\u001b[0;34m.\u001b[0m\u001b[0mconverted_call\u001b[0m\u001b[0;34m(\u001b[0m\u001b[0mag__\u001b[0m\u001b[0;34m.\u001b[0m\u001b[0mld\u001b[0m\u001b[0;34m(\u001b[0m\u001b[0mstep_function\u001b[0m\u001b[0;34m)\u001b[0m\u001b[0;34m,\u001b[0m \u001b[0;34m(\u001b[0m\u001b[0mag__\u001b[0m\u001b[0;34m.\u001b[0m\u001b[0mld\u001b[0m\u001b[0;34m(\u001b[0m\u001b[0mself\u001b[0m\u001b[0;34m)\u001b[0m\u001b[0;34m,\u001b[0m \u001b[0mag__\u001b[0m\u001b[0;34m.\u001b[0m\u001b[0mld\u001b[0m\u001b[0;34m(\u001b[0m\u001b[0miterator\u001b[0m\u001b[0;34m)\u001b[0m\u001b[0;34m)\u001b[0m\u001b[0;34m,\u001b[0m \u001b[0;32mNone\u001b[0m\u001b[0;34m,\u001b[0m \u001b[0mfscope\u001b[0m\u001b[0;34m)\u001b[0m\u001b[0;34m\u001b[0m\u001b[0;34m\u001b[0m\u001b[0m\n\u001b[0m\u001b[1;32m     16\u001b[0m                 \u001b[0;32mexcept\u001b[0m\u001b[0;34m:\u001b[0m\u001b[0;34m\u001b[0m\u001b[0;34m\u001b[0m\u001b[0m\n\u001b[1;32m     17\u001b[0m                     \u001b[0mdo_return\u001b[0m \u001b[0;34m=\u001b[0m \u001b[0;32mFalse\u001b[0m\u001b[0;34m\u001b[0m\u001b[0;34m\u001b[0m\u001b[0m\n",
            "\u001b[0;32m/usr/local/lib/python3.7/dist-packages/transformers/modeling_tf_utils.py\u001b[0m in \u001b[0;36mtrain_step\u001b[0;34m(self, data)\u001b[0m\n\u001b[1;32m   1149\u001b[0m \u001b[0;34m\u001b[0m\u001b[0m\n\u001b[1;32m   1150\u001b[0m             \u001b[0;32mif\u001b[0m \u001b[0mloss\u001b[0m \u001b[0;32mis\u001b[0m \u001b[0;32mNone\u001b[0m\u001b[0;34m:\u001b[0m\u001b[0;34m\u001b[0m\u001b[0;34m\u001b[0m\u001b[0m\n\u001b[0;32m-> 1151\u001b[0;31m                 \u001b[0mloss\u001b[0m \u001b[0;34m=\u001b[0m \u001b[0mself\u001b[0m\u001b[0;34m.\u001b[0m\u001b[0mcompiled_loss\u001b[0m\u001b[0;34m(\u001b[0m\u001b[0my\u001b[0m\u001b[0;34m,\u001b[0m \u001b[0my_pred\u001b[0m\u001b[0;34m,\u001b[0m \u001b[0msample_weight\u001b[0m\u001b[0;34m,\u001b[0m \u001b[0mregularization_losses\u001b[0m\u001b[0;34m=\u001b[0m\u001b[0mself\u001b[0m\u001b[0;34m.\u001b[0m\u001b[0mlosses\u001b[0m\u001b[0;34m)\u001b[0m\u001b[0;34m\u001b[0m\u001b[0;34m\u001b[0m\u001b[0m\n\u001b[0m\u001b[1;32m   1152\u001b[0m \u001b[0;34m\u001b[0m\u001b[0m\n\u001b[1;32m   1153\u001b[0m         \u001b[0;31m# Run backwards pass.\u001b[0m\u001b[0;34m\u001b[0m\u001b[0;34m\u001b[0m\u001b[0;34m\u001b[0m\u001b[0m\n",
            "\u001b[0;31mValueError\u001b[0m: in user code:\n\n    File \"/usr/local/lib/python3.7/dist-packages/keras/engine/training.py\", line 1051, in train_function  *\n        return step_function(self, iterator)\n    File \"/usr/local/lib/python3.7/dist-packages/keras/engine/training.py\", line 1040, in step_function  **\n        outputs = model.distribute_strategy.run(run_step, args=(data,))\n    File \"/usr/local/lib/python3.7/dist-packages/keras/engine/training.py\", line 1030, in run_step  **\n        outputs = model.train_step(data)\n    File \"/usr/local/lib/python3.7/dist-packages/transformers/modeling_tf_utils.py\", line 1151, in train_step\n        loss = self.compiled_loss(y, y_pred, sample_weight, regularization_losses=self.losses)\n    File \"/usr/local/lib/python3.7/dist-packages/keras/engine/compile_utils.py\", line 201, in __call__\n        loss_value = loss_obj(y_t, y_p, sample_weight=sw)\n    File \"/usr/local/lib/python3.7/dist-packages/keras/losses.py\", line 139, in __call__\n        losses = call_fn(y_true, y_pred)\n    File \"/usr/local/lib/python3.7/dist-packages/keras/losses.py\", line 243, in call  **\n        return ag_fn(y_true, y_pred, **self._fn_kwargs)\n    File \"/usr/local/lib/python3.7/dist-packages/keras/losses.py\", line 1788, in categorical_crossentropy\n        y_true, y_pred, from_logits=from_logits, axis=axis)\n    File \"/usr/local/lib/python3.7/dist-packages/keras/backend.py\", line 5119, in categorical_crossentropy\n        target.shape.assert_is_compatible_with(output.shape)\n\n    ValueError: Shapes () and (512, 2) are incompatible\n"
          ]
        }
      ],
      "source": [
        "hf_bert_model.compile(optimizer='adam',\n",
        "                      loss='categorical_crossentropy',\n",
        "                      metrics=['acc'])\n",
        "\n",
        "hf_bert_model.fit(train_dataset, epochs=10, validation_data=test_dataset)"
      ],
      "id": "RLlGZYeruxnj"
    },
    {
      "cell_type": "code",
      "execution_count": null,
      "metadata": {
        "colab": {
          "base_uri": "https://localhost:8080/"
        },
        "id": "Lm7HnV7VuEjD",
        "outputId": "793d41e8-7d39-4ab3-9c15-ea42da81f41f"
      },
      "outputs": [
        {
          "name": "stderr",
          "output_type": "stream",
          "text": [
            "/usr/local/lib/python3.7/dist-packages/transformers/trainer_tf.py:120: FutureWarning: The class `TFTrainer` is deprecated and will be removed in version 5 of Transformers. We recommend using native Keras instead, by calling methods like `fit()` and `predict()` directly on the model object. Detailed examples of the Keras style can be found in our examples at https://github.com/huggingface/transformers/tree/main/examples/tensorflow\n",
            "  FutureWarning,\n"
          ]
        }
      ],
      "source": [
        "with training_args.strategy.scope():\n",
        "  model = hf_bert_model\n",
        "\n",
        "trainer = TFTrainer(\n",
        "    model=model,\n",
        "    args=training_args,\n",
        "    train_dataset=train_dataset,\n",
        "    eval_dataset=test_dataset\n",
        ")"
      ],
      "id": "Lm7HnV7VuEjD"
    },
    {
      "cell_type": "markdown",
      "metadata": {
        "id": "XPAdQkNTbnBF"
      },
      "source": [
        "### Data Preview"
      ],
      "id": "XPAdQkNTbnBF"
    },
    {
      "cell_type": "code",
      "execution_count": null,
      "metadata": {
        "colab": {
          "base_uri": "https://localhost:8080/"
        },
        "id": "YZIKcnCiYf-D",
        "outputId": "f051dc04-f214-418c-c97a-22a54fcdf7c7"
      },
      "outputs": [
        {
          "name": "stdout",
          "output_type": "stream",
          "text": [
            "Text\n",
            "tf.Tensor(b\"Primary elections were first introduced in Italy by Lega Nord in 1995, but were seldom used until before the 2005 regional elections.\\nIn January 2005 the centre-left The Union coalition held open primaries in order to select its candidate for President in Apulia. More importantly, in October 2005, The Union asked its voters to choose the candidate for Prime Minister in the 2006 general election: 4.3 million voters showed up and Romano Prodi won hands down. Two years later, in October 2007: 3.5 million voters of the Democratic Party were called to elect Walter Veltroni as their first leader, the party's constituent assembly and regional leaders.\\nThe centre-right (see House of Freedoms, The People of Freedom, centre-right coalition and Forza Italia) has held primary elections only at the local level.\\n\\n\\n== Regulatory rules ==\\nThere are no laws at country level to govern the conduct of any primary election.\\nIn 2004 Tuscany introduced a regional law regulating primaries, but parties are not mandated to hold primaries. As of today, these rules were used in occasion of the 2005 regional election by the Democrats of the Left and Future Tuscany, and in the 2010 regional election by the Democratic Party and Left Ecology Freedom.\\n\\n\\n== List of primary elections ==\\nThe list includes the results of (open) primary elections for prime minister, president of region, mayor of a city with 150,000 inhabitants and leader of major party. All the following primaries were funded and ran by parties, with the sole exception of those for the Regional Council of Tuscany.\\n\\nHighlighted rows denote country-level primary elections.\\nO : Open primary\\nC: Closed primary\\n\\n\\n=== 2000s ===\\n\\n\\n=== 2010s ===\\n\\n\\n=== 2020s ===\\n\\n\\n== References ==\", shape=(), dtype=string)\n",
            "Label\n",
            "tf.Tensor(b'political-science.txt', shape=(), dtype=string)\n",
            "Text\n",
            "tf.Tensor(b'Gallus Anonymus (Polonized variant: Gall Anonim) is the name traditionally given to the anonymous author of Gesta principum Polonorum (Deeds of the Princes of the Poles), composed in Latin between 1112 and 1118.\\nGallus is generally regarded as the first historian to have described the history of Poland. His Chronicles are an obligatory text for university courses in Polish history. Very little is known of the author himself and it is widely believed that he was a foreigner.\\n\\n\\n== Kromer ==\\n\\nThe only source for Gallus\\' real name is a note made by Prince-Bishop of Warmia Marcin Kromer (1512\\xe2\\x80\\x9389) in the margin of folio 119 of the \"Heilsberg manuscript.\" It reads: Gallus hanc historiam scripsit, monachus, opinor, aliquis, ut ex proemiis coniicere licet qui Boleslai tertii tempore vixit (Gallus wrote this history, some monk, in my opinion, who lived in the time of Boleslaus III Wrymouth, as can be conjectured from the preface.\\') It is not known whether Kromer intended the word \"Gallus\" as a proper name or as a reference to the author\\'s nationality (Gallus in this period normally means \"a Frenchman\"), nor what he based his identification on.The Heilsberg manuscript, one of three extant witnesses of the Gesta, was written between 1469 and 1471. From the mid-16th to 18th centuries, it was kept in the town of Heilsberg (today Lidzbark Warmi\\xc5\\x84ski, Poland). It was later published at the behest of Prince-Bishop of Warmia Adam Stanis\\xc5\\x82aw Grabowski (1698\\xe2\\x80\\x931766).\\n\\n\\n== Origin ==\\nThe author of the Gesta wrote little about himself and  was not written about in contemporary sources. What Gallus did write about himself may be summed up as follows: Before going to Poland, he  likely spent some time in Hungary, where he met Polish duke Boleslaus III Wrymouth; he was a pilgrim; he revered Saint Giles; and he knew little about Scandinavia.\\nHistorians agree that Gallus\\' writing style indicates a substantial education, available only to nobles and monks; and that he was an experienced writer, thus likely also to have authored earlier works. The clericus de penna vivens (\"cleric living by his pen\") is suspected by Danuta Borawska and Marian Plezia to have earlier penned the Gesta Hungarorum (Deeds of the Hungarians) and the Translatio Sancti Nicolai (The Transfer of St. Nicholas); and his writing style is thought to have been influenced by recent literary developments that were then common only in northern France and the Netherlands.\\n\\nBudapest\\'s Vajdahunyad Castle features an evocative bronze statue of a seated Anonymus in monk\\'s habit, the cowl obscuring his face.\\nGallus\\' place of origin is unknown. Several theories have been advanced. Traditional scholarship has assumed that he was French (hence Gallus), perhaps from France or Flanders. Plezia has suggested that he was a monk from Saint Giles\\' Monastery in Provence, France.Some scholars have pointed out that Gallus\\' writing style resembles that of Hildebert of Lavardin (aka Hildebert of Tours) and have thought that Gallus had been educated at Le Mans or, according to Zathey, at Chartres or Bec in Normandy.\\nBefore World War II, French historian Pierre David advanced a theory that Gallus might have been a Hungarian monk from Saint Giles\\' Monastery in Somogyv\\xc3\\xa1r who accompanied Boleslaus in his return from Hungary to Poland. This theory enjoys little support.Another theory has been gaining ground in Poland. Professors Danuta Borawska and Tomasz Jasi\\xc5\\x84ski of Pozna\\xc5\\x84 University have presented a case for a Venetian origin. It has been argued that Gallus may have been a monk from St. Giles\\' Monastery at the Lido, Venice, Italy, and Professor Plezia has subsequently concurred.The Venetian theory was first broached in 1904 by Polish historian Tadeusz Wojciechowski. In 1965 it was  proposed again by Borawska but did not win acceptance. In recent years, however, it has been revisited and has now gained positive reviews from several Polish medievalists. It has been supported by Professors Janusz Bieniak, Roman Micha\\xc5\\x82owski and Wojciech Fa\\xc5\\x82kowski. Fa\\xc5\\x82kowski has noted that the two theories\\xe2\\x80\\x94French and Italian\\xe2\\x80\\x94may be less mutually exclusive than some think, as Gallus might have been born in Italy, been a monk at the Lido, and have later traveled to France and Hungary.According to Tomasz Jasi\\xc5\\x84ski, who in 2008 published a book on Gallus, the chronicler came to Poland over the Via Egnatia across the Slavic-speaking countries of \"Epirus, Thrace, Dalmatia, Croatia, Istria.\" When Jasi\\xc5\\x84ski compared the Chronicle with the Transfer of St. Nicholas, he found over 100 similarities. Jasi\\xc5\\x84ski has concluded that Gallus, like many Venetian clergymen of the time, had a native knowledge of both Italian and Slavic languages.However, Paul W. Knoll and Frank Schaer regard the Venetian suggestion as \"too weak to be considered seriously.\" In Poland, medievalist Professor Jacek Banaszkiewicz supports a French over an Italian origin for Gallus Anonymus.\\n\\n\\n== Influence ==\\nThe anonymous author of the Gesta influenced the subsequent course of Poland\\'s history, in that his version of early Polish history held the ruler\\'s authority to be inferior to that of God, as expressed by the voice of the people (as in the Latin proverb, \"Vox populi, vox Dei\").\\nThis concept reinforced Poles\\' electoral traditions and their tendency to disobey and question authority.  Via the Chronicles of Wincenty Kad\\xc5\\x82ubek and the Sermons of Stanis\\xc5\\x82aw of Skarbimierz, it contributed to the development of the unique \"Golden Liberty\" that would characterize the Polish\\xe2\\x80\\x93Lithuanian Commonwealth, whose kings were elected and were obliged to obey the Sejm (parliament).\\n\\n\\n== See also ==\\nAnonymus (notary of B\\xc3\\xa9la III)\\nGesta Hungarorum\\n\\n\\n== Notes ==\\n\\n\\n== External links ==\\nEdmund Kotarski: Gall Anonim (in English and Polish)\\nGazeta Wyborcza article about Gallus Anonymus\\' Venetian origins (in Polish)\\nKim naprawd\\xc4\\x99 by\\xc5\\x82 Gall Anonim? (Who Actually Was Gallus Anonymus?) (in Polish)', shape=(), dtype=string)\n",
            "Label\n",
            "tf.Tensor(b'political-science.txt', shape=(), dtype=string)\n",
            "Text\n",
            "tf.Tensor(b'Historically, cavalry (from the French word cavalerie, itself derived from \"cheval\" meaning \"horse\") are soldiers or warriors who fight mounted on horseback. Cavalry were the most mobile of the combat arms, operating as light cavalry in the roles of reconnaissance, screening, and skirmishing in many armies, or as heavy cavalry for decisive shock attacks in other armies. An individual soldier in the cavalry is known by a number of designations depending on era and tactics, such as cavalryman, horseman, trooper, cataphract, knight, hussar, uhlan, mamluk, cuirassier, lancer, dragoon, or horse archer. The designation of cavalry was not usually given to any military forces that used other animals for mounts, such as camels or elephants. Infantry who moved on horseback, but dismounted to fight on foot, were known in the early 17th to the early 18th century as dragoons, a class of mounted infantry which in most armies later evolved into standard cavalry while retaining their historic designation.\\nCavalry had the advantage of improved mobility, and a soldier fighting from horseback also had the advantages of greater height, speed, and inertial mass over an opponent on foot. Another element of horse mounted warfare is the psychological impact a mounted soldier can inflict on an opponent.\\nThe speed, mobility, and shock value of cavalry was greatly appreciated and exploited in armed forces in the Ancient and Middle Ages; some forces were mostly cavalry, particularly in nomadic societies of Asia, notably the Huns of Attila and the later Mongol armies. In Europe, cavalry became increasingly armoured (heavy), and eventually evolving into the mounted knights of the medieval period. During the 17th century, cavalry in Europe discarded most of its armor, which was ineffective against the muskets and cannons that were coming into common use, and by the mid-18th century armor had mainly fallen into obsolescence, although some regiments retained a small thickened cuirass that offered protection against lances, sabres, and bayonets; including some protection against a shot from distance.\\nIn the interwar period, while some cavalry still served during World War II (notably in the Red Army, the Mongolian People\\'s Army, the Royal Italian Army, the Romanian Army, the Polish Land Forces, and light reconnaissance units within the Waffen SS) many cavalry units were converted into motorized infantry and mechanized infantry units, or reformed as tank troops. The cavalry tank or cruiser tank was one designed with a speed and purpose beyond that of infantry tanks and would subsequently develop into the main battle tank.\\nMost cavalry units that are horse-mounted in modern armies serve in purely ceremonial roles, or as mounted infantry in difficult terrain such as mountains or heavily forested areas. Modern usage of the term generally refers to units performing the role of reconnaissance, surveillance, and target acquisition (analogous to historical light cavalry) or main battle tank units (analogous to historical heavy cavalry).\\n\\n\\n== Role ==\\n\\nHistorically, cavalry was divided into light cavalry and heavy cavalry. The differences were their roles in combat, the size of their mounts, and how much armor was worn by the mount and rider.\\nHeavy cavalry, such as Byzantine cataphracts and knights of the Early Middle Ages in Europe, were used as shock troops, charging the main body of the enemy at the height of a battle; in many cases their actions decided the outcome of the battle, hence the later term battle cavalry. Light cavalry, such as horse archers, hussars, and Cossack cavalry, were assigned all the numerous roles that were ill-suited to more narrowly-focused heavy forces. This includes scouting, deterring enemy scouts, foraging, raiding, skirmishing, pursuit of retreating enemy forces, screening of retreating friendly forces, linking separated friendly forces, and countering enemy light forces in all these same roles.\\nLight and heavy cavalry roles continued through early modern warfare, but armor was reduced, with light cavalry mostly unarmored.  Yet many cavalry units still retained cuirasses and helmets for their protective value against sword and bayonet strikes, and the morale boost these provide to the wearers, despite these giving little protection from firearms. By this time the main difference between light and heavy cavalry was their training; the former was regarded as best suited for harassment and reconnaissance, while the latter was considered best for close-order charges.  By the start of the 20th century, as total battlefield firepower increased, all cavalry tended to become dragoons in practice, riding mounted between battles, but dismounting to act as infantry during any battle, even if many retained their unit names that reflected their older cavalry roles.\\nWith the development of armored warfare, the heavy cavalry role of decisive shock troops had been taken over by armored units employing medium and heavy tanks, and later main battle tanks. Despite horse-born cavalry becoming obsolete, the term cavalry is still used, referring in modern times to units continuing to fulfill the traditional light cavalry roles, employing fast armored cars. light tanks, and infantry fighting vehicles instead of horses, while air cavalry employs helicopters.\\n\\n\\n== Early history ==\\n\\n\\n=== Origins ===\\n\\nBefore the Iron Age, the role of cavalry on the battlefield was largely performed by light chariots. The chariot originated with the Sintashta-Petrovka culture in Central Asia and spread by nomadic or semi-nomadic Indo-Iranians. The chariot was quickly adopted by settled peoples both as a military technology and an object of ceremonial status, especially by the pharaohs of the New Kingdom of Egypt from 1550 BC as well as the Assyrian army and Babylonian royalty.The power of mobility given by mounted units was recognized early on, but was offset by the difficulty of raising large forces and by the inability of horses (then mostly small) to carry heavy armor. Nonetheless, there are indications that, from the 15th century BC onwards, horseback riding was practiced amongst the military elites of the great states of the ancient Near East, most notably those in Egypt, Assyria, the Hittite Empire, and Mycenaean Greece.Cavalry techniques, and the rise of true cavalry, were an innovation of equestrian nomads of the Central Asian and Iranian steppe and pastoralist tribes such as the Iranic Parthians and Sarmatians.\\n\\nThe photograph above left shows Assyrian cavalry from reliefs of 865\\xe2\\x80\\x93860 BC. At this time, the men had no spurs, saddles, saddle cloths, or stirrups. Fighting from the back of a horse was much more difficult than mere riding. The cavalry acted in pairs; the reins of the mounted archer were controlled by his neighbour\\'s hand. Even at this early time, cavalry used swords, shields, spears, and bows. The sculpture implies two types of cavalry, but this might be a simplification by the artist. Later images of Assyrian cavalry show saddle cloths as primitive saddles, allowing each archer to control his own horse.As early as 490 BC a breed of large horses was bred in the Nisaean plain in Media to carry men with increasing amounts of armour (Herodotus 7,40 & 9,20), but large horses were still very exceptional at this time. By the fourth century BC the Chinese during the Warring States period (403\\xe2\\x80\\x93221 BC) began to use cavalry against rival states, and by 331 BC when Alexander the Great defeated the Persians the use of chariots in battle was obsolete in most nations; despite a few ineffective attempts to revive scythed chariots. The last recorded use of chariots as a shock force in continental Europe was during the Battle of Telamon in 225 BC.\\nHowever, chariots remained in use for ceremonial purposes such as carrying the victorious general in a Roman triumph, or for racing.\\nOutside of mainland Europe, the southern Britons met Julius Caesar with chariots in 55 and 54 BC, but by the time of the Roman conquest of Britain a century later chariots were obsolete, even in Britannia. The last mention of chariot use in Britain was by the Caledonians at the Mons Graupius, in 84 AD.\\n\\n\\n=== Ancient Greece: city-states, Thebes, Thessaly and Macedonia ===\\n\\nDuring the classical Greek period cavalry were usually limited to those citizens who could afford expensive war-horses. Three types of cavalry became common: light cavalry, whose riders, armed with javelins, could harass and skirmish; heavy cavalry, whose troopers, using lances, had the ability to close in on their opponents; and finally those whose equipment allowed them to fight either on horseback or foot. The role of horsemen did however remain secondary to that of the hoplites or heavy infantry who comprised the main strength of the citizen levies of the various city states.Cavalry played a relatively minor role in ancient Greek city-states, with conflicts decided by massed armored infantry. However, Thebes produced Pelopidas, their first great cavalry commander, whose tactics and skills were absorbed by Philip II of Macedon when Philip was a guest-hostage in Thebes. Thessaly was widely known for producing competent cavalrymen, and later experiences in wars both with and against the Persians taught the Greeks the value of cavalry in skirmishing and pursuit. The Athenian author and soldier Xenophon in particular advocated the creation of a small but well-trained cavalry force; to that end, he wrote several manuals on horsemanship and cavalry operations.The Macedonian Kingdom in the north, on the other hand, developed a strong cavalry force that culminated in the hetairoi (Companion cavalry) of Philip II of Macedon and Alexander the Great. In addition to these heavy cavalry, the Macedonian army also employed lighter horsemen called prodromoi for scouting and screening, as well as the Macedonian pike phalanx and various kinds of light infantry. There were also the Ippiko (or \"Horserider\"), Greek \"heavy\" cavalry, armed with kontos (or cavalry lance), and sword. These wore leather armour or mail plus a helmet. They were medium rather than heavy cavalry, meaning that they were better suited to be scouts, skirmishers, and pursuers rather than front line fighters. The effectiveness of this combination of cavalry and infantry helped to break enemy lines and was most dramatically demonstrated in Alexander\\'s conquests of Persia, Bactria, and northwestern India.\\n\\n\\n=== Roman Republic and Early Empire ===\\n\\nThe cavalry in the early Roman Republic remained the preserve of the wealthy landed class known as the equites\\xe2\\x80\\x94men who could afford the expense of maintaining a horse in addition to arms and armor heavier than those of the common legions. Horses were provided by the Republic and could be withdrawn if neglected or misused, together with the status of being a cavalryman.As the class grew to be more of a social elite instead of a functional property-based military grouping, the Romans began to employ Italian socii for filling the ranks of their cavalry. The weakness of Roman cavalry was demonstrated by Hannibal Barca during the Second Punic War where he used his superior mounted forces to win several battles. The most notable of these was the Battle of Cannae, where he inflicted a catastrophic defeat on the Romans. At about the same time the Romans began to recruit foreign auxiliary cavalry from among Gauls, Iberians, and Numidians, the last being highly valued as mounted skirmishers and scouts (see Numidian cavalry). Julius Caesar had a high opinion of his escort of Germanic mixed cavalry, giving rise to the Cohortes Equitatae. Early emperors maintained an ala of Batavian cavalry as their personal bodyguards until the unit was dismissed by Galba after the Batavian Rebellion.For the most part, Roman cavalry during the early Republic functioned as an adjunct to the legionary infantry and formed only one-fifth of the standing force comprising a consular army. Except in times of major mobilisation about 1,800 horsemen were maintained, with three hundred attached to each legion. \\nThe relatively low ratio of horsemen to infantry does not mean that the utility of cavalry should be underestimated, as its strategic role in scouting, skirmishing, and outpost duties was crucial to the Romans\\' capability to conduct operations over long distances in hostile or unfamiliar territory. On some occasions Roman cavalry also proved its ability to strike a decisive tactical blow against a weakened or unprepared enemy, such as the final charge at the Battle of Aquilonia.After defeats such as the Battle of Carrhae, the Romans learned the importance of large cavalry formations from the Parthians. \\nAt the same time heavy spears and shields modelled on those favoured by the horsemen of the Greek city-states were adopted to replace the lighter weaponry of early Rome. \\nThese improvements in tactics and equipment reflected those of a thousand years earlier when the first Iranians to reach the Iranian Plateau forced the Assyrians to undertake similar reform. Nonetheless, the Romans would continue to rely mainly on their heavy infantry supported by auxiliary cavalry.\\n\\n\\n=== Late Roman Empire and the Migration Period ===\\n\\nIn the army of the late Roman Empire, cavalry played an increasingly important role. The Spatha, the classical sword throughout most of the 1st millennium was adopted as the standard model for the Empire\\'s cavalry forces. By the 6th century these had evolved into lengthy straight weapons influenced by Persian and other eastern patterns.The most widespread employment of heavy cavalry at this time was found in the forces of the Iranian empires, the Parthians and their Persian Sasanian successors. Both, but especially the former, were famed for the cataphract (fully armored cavalry armed with lances) even though the majority of their forces consisted of lighter horse archers. The West first encountered this eastern heavy cavalry during the Hellenistic period with further intensive contacts during the eight centuries of the Roman\\xe2\\x80\\x93Persian Wars. At first the Parthians\\' mobility greatly confounded the Romans, whose armoured close-order infantry proved unable to match the speed of the Parthians. However, later the Romans would successfully adapt such heavy armor and cavalry tactics by creating their own units of cataphracts and clibanarii.The decline of the Roman infrastructure made it more difficult to field large infantry forces, and during the 4th and 5th centuries cavalry began to take a more dominant role on the European battlefield, also in part made possible by the appearance of new, larger breeds of horses. The replacement of the Roman saddle by variants on the Scythian model, with pommel and cantle, was also a significant factor as was the adoption of stirrups and the concomitant increase in stability of the rider\\'s seat. Armored cataphracts began to be deployed in eastern Europe and the Near East, following the precedents established by Persian forces, as the main striking force of the armies in contrast to the earlier roles of cavalry as scouts, raiders, and outflankers.The late-Roman cavalry tradition of organized units in a standing army differed fundamentally from the nobility of the Germanic invaders\\xe2\\x80\\x94individual warriors who could afford to provide their own horses and equipment. While there was no direct linkage with these predecessors the early medieval knight also developed as a member of a social and martial elite, able to meet the considerable expenses required by his role from grants of land and other incomes.\\n\\n\\n== Asia ==\\n\\n\\n=== Central Asia ===\\n\\nXiongnu, Tujue, Avars, Kipchaks, Khitans, Mongols, Don Cossacks and the various Turkic peoples are also examples of the horse-mounted groups that managed to gain substantial successes in military conflicts with settled agrarian and urban societies, due to their strategic and tactical mobility. As European states began to assume the character of bureaucratic nation-states supporting professional standing armies, recruitment of these mounted warriors was undertaken in order to fill the strategic roles of scouts and raiders.\\n\\nThe best known instance of the continued employment of mounted tribal auxiliaries were the Cossack cavalry regiments of the Russian Empire. In Eastern Europe, and out onto the steppes, cavalry remained important much longer and dominated the scene of warfare until the early 17th century and even beyond, as the strategic mobility of cavalry was crucial for the semi-nomadic pastoralist lives that many steppe cultures led. Tibetans also had a tradition of cavalry warfare, in several military engagements with the Chinese Tang dynasty (618\\xe2\\x80\\x93907 AD).\\n\\n\\n==== Khanates of Central Asia ====\\n\\n\\t\\t\\n\\n\\n=== East Asia ===\\n\\n\\n==== China ====\\n\\nFurther east, the military history of China, specifically northern China, held a long tradition of intense military exchange between Han Chinese infantry forces of the settled dynastic empires and the mounted nomads or \"barbarians\" of the north. The naval history of China was centered more to the south, where mountains, rivers, and large lakes necessitated the employment of a large and well-kept navy.\\nIn 307 BC, King Wuling of Zhao, the ruler of the former state of Jin, ordered his commanders and troops to adopt the trousers of the nomads as well as practice the nomads\\' form of mounted archery to hone their new cavalry skills.\\n\\nThe adoption of massed cavalry in China also broke the tradition of the chariot-riding Chinese aristocracy in battle, which had been in use since the ancient Shang Dynasty (c 1600\\xe2\\x80\\x931050 BC). By this time large Chinese infantry-based armies of 100,000 to 200,000 troops were now buttressed with several hundred thousand mounted cavalry in support or as an effective striking force. The handheld pistol-and-trigger crossbow was invented in China in the fourth century BC; it was written by the Song dynasty scholars Zeng Gongliang, Ding Du, and Yang Weide in their book Wujing Zongyao (1044 AD) that massed missile fire by crossbowmen was the most effective defense against enemy cavalry charges.\\n\\nOn many occasions the Chinese studied nomadic cavalry tactics and applied the lessons in creating their own potent cavalry forces, while in others they simply recruited the tribal horsemen wholesale into their armies; and in yet other cases nomadic empires proved eager to enlist Chinese infantry and engineering, as in the case of the Mongol Empire and its sinicized part, the Yuan Dynasty (1279\\xe2\\x80\\x931368). The Chinese recognized early on during the Han Dynasty (202 BC \\xe2\\x80\\x93 220 AD) that they were at a disadvantage in lacking the number of horses the northern nomadic peoples mustered in their armies. Emperor Wu of Han (r 141\\xe2\\x80\\x9387 BC) went to war with the Dayuan for this reason, since the Dayuan were hoarding a massive amount of tall, strong, Central Asian bred horses in the Hellenized\\xe2\\x80\\x93Greek region of Fergana (established slightly earlier by Alexander the Great). Although experiencing some defeats early on in the campaign, Emperor Wu\\'s war from 104 BC to 102 BC succeeded in gathering the prized tribute of horses from Fergana.\\nCavalry tactics in China were enhanced by the invention of the saddle-attached stirrup by at least the 4th century, as the oldest reliable depiction of a rider with paired stirrups was found in a Jin Dynasty tomb of the year 322 AD. The Chinese invention of the horse collar by the 5th century was also a great improvement from the breast harness, allowing the horse to haul greater weight without heavy burden on its skeletal structure.\\n\\n\\n==== Korea ====\\nThe horse warfare of Korea was first started during the ancient Korean kingdom Gojoseon. Since at least the 3rd century BC, there was influence of northern nomadic peoples and Yemaek peoples on Korean warfare. By roughly the first century BC, the ancient kingdom of Buyeo also had mounted warriors. The cavalry of Goguryeo, one of the Three Kingdoms of Korea, were called Gaemamusa (\\xea\\xb0\\x9c\\xeb\\xa7\\x88\\xeb\\xac\\xb4\\xec\\x82\\xac, \\xe9\\x8e\\xa7\\xe9\\xa6\\xac\\xe6\\xad\\xa6\\xe5\\xa3\\xab), and were renowned as a fearsome heavy cavalry force. King Gwanggaeto the Great often led expeditions into the Baekje, Gaya confederacy, Buyeo, Later Yan and against Japanese invaders with his cavalry.\\nIn the 12th century, Jurchen tribes began to violate the Goryeo\\xe2\\x80\\x93Jurchen borders, and eventually invaded Goryeo Korea. After experiencing the invasion by the Jurchen, Korean general Yun Gwan realized that Goryeo lacked efficient cavalry units. He reorganized the Goryeo military into a professional army that would contain decent and well-trained cavalry units. In 1107, the Jurchen were ultimately defeated, and surrendered to Yun Gwan. To mark the victory, General Yun built nine fortresses to the northeast of the Goryeo\\xe2\\x80\\x93Jurchen borders (\\xeb\\x8f\\x99\\xeb\\xb6\\x81 9\\xec\\x84\\xb1, \\xe6\\x9d\\xb1\\xe5\\x8c\\x97 \\xe4\\xb9\\x9d\\xe5\\x9f\\x8e).\\n\\n\\n==== Japan ====\\n\\nThe ancient Japanese of the Kofun period also adopted cavalry and equine culture by the 5th century AD. The emergence of the samurai aristocracy led to the development of armoured horse archers, themselves to develop into charging lancer cavalry as gunpowder weapons rendered bows obsolete.  Japanese cavalry was largely made up of landowners who would be upon a horse to better survey the troops they were called upon to bring to an engagement, rather than traditional mounted warfare seen in other cultures with massed cavalry units.\\nAn example is Yabusame (\\xe6\\xb5\\x81\\xe9\\x8f\\x91\\xe9\\xa6\\xac?), a type of mounted archery in traditional Japanese archery. An archer on a running horse shoots three special \"turnip-headed\" arrows successively at three wooden targets.\\nThis style of archery has its origins at the beginning of the Kamakura period. Minamoto no Yoritomo became alarmed at the lack of archery skills his samurai had. He organized yabusame as a form of practice.\\nCurrently, the best places to see yabusame performed are at the Tsurugaoka Hachiman-g\\xc5\\xab in Kamakura and Shimogamo Shrine in Kyoto (during Aoi Matsuri in early May). It is also performed in Samukawa and on the beach at Zushi, as well as other locations.\\nKasagake or Kasakake (\\xe7\\xac\\xa0\\xe6\\x87\\xb8, \\xe3\\x81\\x8b\\xe3\\x81\\x95\\xe3\\x81\\x8c\\xe3\\x81\\x91 lit. \"hat shooting\") is a type of Japanese mounted archery. In contrast to yabusame, the types of targets are various and the archer shoots without stopping the horse. While yabusame has been played as a part of formal ceremonies, kasagake has developed as a game or practice of martial arts, focusing on technical elements of horse archery.\\n\\n\\n=== South Asia ===\\n\\n\\n==== Indian subcontinent ====\\nIn the Indian subcontinent, cavalry played a major role from the Gupta Dynasty (320\\xe2\\x80\\x93600) period onwards. India has also the oldest evidence for the introduction of toe-stirrups.Indian literature contains numerous references to the mounted warriors of the Central Asian horse nomads, notably the Sakas, Kambojas, Yavanas, Pahlavas and Paradas. Numerous Puranic texts refer to a conflict in ancient India (16th century BC) in which the horsemen of five nations, called the \"Five Hordes\" (pa\\xc3\\xb1ca.ganan) or K\\xe1\\xb9\\xa3atriya hordes (K\\xe1\\xb9\\xa3atriya ganah), attacked and captured the state of Ayudhya by dethroning its Vedic King Bahu\\n\\nThe Mahabharata, Ramayana, numerous Puranas and some foreign sources attest that the Kamboja cavalry frequently played role in ancient wars. V. R. Ramachandra Dikshitar writes: \"Both the Puranas and the epics agree that the horses of the Sindhu and Kamboja regions were of the finest breed, and that the services of the Kambojas as cavalry troopers were utilised in ancient wars\". J.A.O.S. writes: \"Most famous horses are said to come either from Sindhu or Kamboja; of the latter (i.e. the Kamboja), the Indian epic Mahabharata speaks among the finest horsemen\".\\n\\nThe Mahabharata speaks of the esteemed cavalry of the Kambojas, Sakas, Yavanas and Tusharas, all of whom had participated in the Kurukshetra war under the supreme command of Kamboja ruler Sudakshin Kamboj.Mahabharata and Vishnudharmottara Purana pay especial attention to the Kambojas, Yavansa, Gandharas etc. being ashva.yuddha.kushalah (expert cavalrymen). In the Mahabharata war, the Kamboja cavalry along with that of the Sakas, Yavanas is reported to have been enlisted by the Kuru king Duryodhana of Hastinapura.Herodotus (c 484 \\xe2\\x80\\x93 c 425 BC) attests that the Gandarian mercenaries (i.e. Gandharans/Kambojans of Gandari Strapy of Achaemenids) from the 20th strapy of the Achaemenids were recruited in the army of emperor Xerxes I (486\\xe2\\x80\\x93465 BC), which he led against the Hellas. Similarly, the men of the Mountain Land  from north of Kabul-River equivalent to medieval Kohistan (Pakistan), figure in the army of Darius III against Alexander at Arbela, providing a cavalry force and 15 elephants. This obviously refers to Kamboja cavalry south of Hindukush.\\nThe Kambojas were famous for their horses, as well as cavalrymen (asva-yuddha-Kushalah). On account of their supreme position in horse (Ashva) culture, they were also popularly known as Ashvakas, i.e. the \"horsemen\" and their land was known as \"Home of Horses\". They are the Assakenoi and Aspasioi of the Classical writings, and the Ashvakayanas and Ashvayanas in P\\xc4\\x81\\xe1\\xb9\\x87ini\\'s Ashtadhyayi. The Assakenoi had faced Alexander with 30,000 infantry, 20,000 cavalry and 30 war elephants. Scholars have identified the Assakenoi and Aspasioi clans of Kunar and Swat valleys as a section of the Kambojas. These hardy tribes had offered stubborn resistance to Alexander (c 326 BC) during latter\\'s campaign of the Kabul, Kunar and Swat valleys and had even extracted the praise of the Alexander\\'s historians. These highlanders, designated as \"parvatiya Ayudhajivinah\" in P\\xc4\\x81\\xe1\\xb9\\x87ini\\'s Astadhyayi, were rebellious, fiercely independent and freedom-loving cavalrymen who never easily yielded to any overlord.The Sanskrit drama Mudra-rakashas by Visakha Dutta and the Jaina work Parishishtaparvan refer to Chandragupta\\'s (c 320 BC \\xe2\\x80\\x93 c 298 BC) alliance with Himalayan king Parvataka. The Himalayan alliance gave Chandragupta a formidable composite army made up of the cavalry forces of the Shakas, Yavanas, Kambojas, Kiratas, Parasikas and Bahlikas as attested by Mudra-Rakashas (Mudra-Rakshasa 2). These hordes had helped Chandragupta Maurya defeat the ruler of Magadha and placed Chandragupta on the throne, thus laying the foundations of Mauryan Dynasty in Northern India.\\nThe cavalry of Hunas and the Kambojas is also attested in the Raghu Vamsa epic poem of Sanskrit poet Kalidasa. Raghu of Kalidasa is believed to be Chandragupta II (Vikaramaditya) (375\\xe2\\x80\\x93413/15 AD), of the well-known Gupta Dynasty.\\nAs late as the mediaeval era, the Kamboja cavalry had also formed part of the Gurjara-Pratihara armed forces from the eighth to the 10th centuries AD. They had come to Bengal with the Pratiharas when the latter conquered part of the province.Ancient Kambojas organised military sanghas and shrenis (corporations) to manage their political and military affairs, as Arthashastra of Kautiliya as well as the Mahabharata record. They are described as Ayuddha-jivi or Shastr-opajivis (nations-in-arms), which also means that the Kamboja cavalry offered its military services to other nations as well. There are numerous references to Kambojas having been requisitioned as cavalry troopers in ancient wars by outside nations.\\n\\n\\n==== Mughal Empire ====\\n\\nThe Mughal armies (lashkar) were primarily a cavalry force. The elite corps were the ahadi who provided direct service to the Emperor and acted as guard cavalry. Supplementary cavalry or dakhilis were recruited, equipped and paid by the central state. This was in contrast to the tabinan horsemen who were the followers of individual noblemen. Their training and equipment varied widely but they made up the backbone of the Mughal cavalry. Finally there were tribal irregulars led by and loyal to tributary chiefs. These included Hindus, Afghans and Turks summoned for military service when their autonomous leaders were called on by the Imperial government.\\n\\n\\n== European Middle Ages ==\\n\\nAs the quality and availability of heavy infantry declined in Europe with the fall of the Roman Empire, heavy cavalry became more effective. Infantry that lack the cohesion and discipline of tight formations are more susceptible to being broken and scattered by shock combat\\xe2\\x80\\x94the main role of heavy cavalry, which rose to become the dominant force on the European battlefield.As heavy cavalry increased in importance, it became the main focus of military development. The arms and armour for heavy cavalry increased, the high-backed saddle developed, and stirrups and spurs were added, increasing the advantage of heavy cavalry even more.This shift in military importance was reflected in society as well; knights took centre stage both on and off the battlefield. These are considered the \"ultimate\" in heavy cavalry: well-equipped with the best weapons, state-of-the-art armour from head to foot, leading with the lance in battle in a full-gallop, close-formation \"knightly charge\" that might prove irresistible, winning the battle almost as soon as it begun.\\n\\nBut knights remained the minority of total available combat forces; the expense of arms, armour, and horses was only affordable to a select few. While mounted men-at-arms focused on a narrow combat role of shock combat, medieval armies relied on a large variety of foot troops to fulfill all the rest (skirmishing, flank guards, scouting, holding ground, etc.). Medieval chroniclers tended to pay undue attention to the knights at the expense of the common soldiers, which led early students of military history to suppose that heavy cavalry was the only force that mattered on medieval European battlefields. But well-trained and disciplined infantry could defeat knights.\\nMassed English longbowmen triumphed over French cavalry at Cr\\xc3\\xa9cy, Poitiers and Agincourt, while at Gisors (1188), Bannockburn (1314), and Laupen (1339), foot-soldiers proved they could resist cavalry charges as long as they held their formation. Once the Swiss developed their pike squares for offensive as well as defensive use, infantry started to become the principal arm. This aggressive new doctrine gave the Swiss victory over a range of adversaries, and their enemies found that the only reliable way to defeat them was by the use of an even more comprehensive combined arms doctrine, as evidenced in the Battle of Marignano. The introduction of missile weapons that required less skill than the longbow, such as the crossbow and hand cannon, also helped remove the focus somewhat from cavalry elites to masses of cheap infantry equipped with easy-to-learn weapons. These missile weapons were very successfully used in the Hussite Wars, in combination with Wagenburg tactics.\\nThis gradual rise in the dominance of infantry led to the adoption of dismounted tactics. From the earliest times knights and mounted men-at-arms had frequently dismounted to handle enemies they could not overcome on horseback, such as in the Battle of the Dyle (891) and the Battle of Bremule (1119), but after the 1350s this trend became more marked with the dismounted men-at-arms fighting as super-heavy infantry with two-handed swords and poleaxes. In any case, warfare in the Middle Ages tended to be dominated by raids and sieges rather than pitched battles, and mounted men-at-arms rarely had any choice other than dismounting when faced with the prospect of assaulting a fortified position.\\n\\n\\n== Greater Middle East ==\\n\\n\\n=== Arabs ===\\n\\nThe Islamic Prophet Muhammad made use of cavalry in many of his military campaigns including the Expedition of Dhu Qarad, and the expedition of Zaid ibn Haritha in al-Is which took place in September, 627 AD, fifth month of 6 AH of the Islamic calendar.Early organized Arab mounted forces under the Rashidun caliphate comprised a light cavalry armed with lance and sword. Its main role was to attack the enemy flanks and rear. These relatively lightly armored horsemen formed the most effective element of the Muslim armies during the later stages of the Islamic conquest of the Levant. The best use of this lightly armed fast moving cavalry was revealed at the Battle of Yarmouk (636 AD) in which Khalid ibn Walid, knowing the skills of his horsemen, used them to turn the tables at every critical instance of the battle with their ability to engage, disengage, then turn back and attack again from the flank or rear. A strong cavalry regiment was formed by Khalid ibn Walid which included the veterans of the campaign of Iraq and Syria. Early Muslim historians have given it the name Tali\\xe2\\x80\\x99a mutaharrikah(\\xd8\\xb7\\xd9\\x84\\xd9\\x8a\\xd8\\xb9\\xd8\\xa9 \\xd9\\x85\\xd8\\xaa\\xd8\\xad\\xd8\\xb1\\xd9\\x83\\xd8\\xa9), or the Mobile guard. This was used as an advance guard and a strong striking force to route the opposing armies with its greater mobility that give it an upper hand when maneuvering against any Byzantine army. With this mobile striking force, the conquest of Syria was made easy.The Battle of Talas in 751 AD was a conflict between the Arab Abbasid Caliphate and the Chinese Tang dynasty over the control of Central Asia. Chinese infantry were routed by Arab cavalry near the bank of the River Talas.\\nLater Mamluks were trained as cavalry soldiers. Mamluks were to follow the dictates of al-furusiyya, a code of conduct that included values like courage and generosity but also doctrine of cavalry tactics, horsemanship, archery and treatment of wounds.\\n\\n\\n=== Maghreb ===\\n\\nThe Islamic Berber states of North Africa employed elite horse mounted cavalry armed with spears and following the model of the original Arab occupiers of the region. Horse-harness and weapons were manufactured locally and the six-monthly stipends for horsemen were double those of their infantry counterparts. During the 8th century Islamic conquest of Iberia large numbers of horses and riders were shipped from North Africa, to specialise in raiding and the provision of support for the massed Berber footmen of the main armies.Maghrebi traditions of mounted warfare eventually influenced a number of sub-Saharan African polities in the medieval era. The Esos of Ikoyi, military aristocrats of the Yoruba peoples, were a notable manifestation of this phenomenon.\\n\\n\\n=== Al-Andalus ===\\n\\n\\n=== Iran ===\\n\\nQizilbash, were a class of Safavid militant warriors in Iran during the 15th to 18th centuries, who often fought as elite cavalry.\\n\\n\\t\\t\\n\\n\\n=== Ottoman Empire ===\\n\\nDuring its period of greatest expansion, from the 14th to 17th centuries, cavalry formed the powerful core of the Ottoman armies. Registers dated 1475 record 22,000 Sipahi  feudal cavalry levied in Europe, 17,000 Sipahis recruited from Anatolia, and 3,000 Kapikulu (regular body-guard cavalry). During the 18th century however the Ottoman mounted troops evolved into light cavalry serving in the thinly populated regions of the Middle East and North Africa. Such frontier horsemen were largely raised by local governors and were separate from the main field armies of the Ottoman Empire. At the beginning of the 19th century modernised Nizam-I Credit (\"New Army\") regiments appeared, including full-time cavalry units officered from the horse guards of the Sultan.\\n\\n\\t\\t\\n\\t\\t\\n\\t\\t\\n\\n\\n== Renaissance Europe ==\\n\\nIronically, the rise of infantry in the early 16th century coincided with the \"golden age\" of heavy cavalry; a French or Spanish army at the beginning of the century could have up to half its numbers made up of various kinds of light and heavy cavalry, whereas in earlier medieval and later 17th-century armies the proportion of cavalry was seldom more than a quarter.\\nKnighthood largely lost its military functions and became more closely tied to social and economic prestige in an increasingly capitalistic Western society. With the rise of drilled and trained infantry, the mounted men-at-arms, now sometimes called gendarmes and often part of the standing army themselves, adopted the same role as in the Hellenistic age, that of delivering a decisive blow once the battle was already engaged, either by charging the enemy in the flank or attacking their commander-in-chief.\\n\\nFrom the 1550s onwards, the use of gunpowder weapons solidified infantry\\'s dominance of the battlefield and began to allow true mass armies to develop. This is closely related to the increase in the size of armies throughout the early modern period; heavily armored cavalrymen were expensive to raise and maintain and it took years to train a skilled horseman or a horse, while arquebusiers and later musketeers could be trained and kept in the field at much lower cost, and were much easier to recruit.\\nThe Spanish tercio and later formations relegated cavalry to a supporting role. The pistol was specifically developed to try to bring cavalry back into the conflict, together with manoeuvres such as the caracole. The caracole was not particularly successful, however, and the charge (whether with lance, sword, or pistol) remained as the primary mode of employment for many types of European cavalry, although by this time it was delivered in much deeper formations and with greater discipline than before. The demi-lancers and the heavily armored sword-and-pistol reiters were among the types of cavalry whose heyday was in the 16th and 17th centuries, as for the Polish winged hussars, a heavy cavalry force that achieved great success against Swedes, Russians, and Turks.\\n\\n\\n== 18th-century Europe and Napoleonic Wars ==\\n\\nCavalry retained an important role in this age of regularization and standardization across European armies. They remained the primary choice for confronting enemy cavalry. Attacking an unbroken infantry force head-on usually resulted in failure, but extended linear infantry formations were vulnerable to flank or rear attacks. Cavalry was important at Blenheim (1704), Rossbach (1757), Marengo (1800), Eylau and Friedland (1807), remaining significant throughout the Napoleonic Wars.\\nEven with the increasing prominence of infantry, cavalry still had an irreplaceable role in armies, due to their greater mobility. Their non-battle duties often included patrolling the fringes of army encampments, with standing orders to intercept suspected shirkers and deserters as well as:\\xe2\\x80\\x8a257,\\xe2\\x80\\x8a266\\xe2\\x80\\x8a serving as outpost pickets in advance of the main body. During battle, lighter cavalry such as hussars and uhlans might skirmish with other cavalry, attack light infantry, or charge and either capture enemy artillery or render them useless by plugging the touchholes with iron spikes. Heavier cavalry such as cuirassiers, dragoons, and carabiniers usually charged towards infantry formations or opposing cavalry in order to rout them. Both light and heavy cavalry pursued retreating enemies, the point where most battle casualties occurred.:\\xe2\\x80\\x8a266\\xe2\\x80\\x8a\\n\\nThe greatest cavalry charge of modern history was at the 1807 Battle of Eylau, when the entire 11,000-strong French cavalry reserve, led by Joachim Murat, launched a huge charge on and through the Russian infantry lines. Cavalry\\'s dominating and menacing presence on the battlefield was countered by the use of infantry squares. The most notable examples are at the Battle of Quatre Bras and later at the Battle of Waterloo, the latter which the repeated charges by up to 9,000 French cavalrymen ordered by Michel Ney failed to break the British-Allied army, who had formed into squares.Massed infantry, especially those formed in squares were deadly to cavalry, but offered an excellent target for artillery. Once a bombardment had disordered the infantry formation, cavalry were able to rout and pursue the scattered foot soldiers. It was not until individual firearms gained accuracy and improved rates of fire that cavalry was diminished in this role as well. Even then light cavalry remained an indispensable tool for scouting, screening the army\\'s movements, and harassing the enemy\\'s supply lines until military aircraft supplanted them in this role in the early stages of World War I.\\n\\n\\n== 19th century ==\\n\\n\\n=== Europe ===\\nBy the beginning of the 19th century, European cavalry fell into four main categories:\\n\\nCuirassiers, heavy cavalry\\nDragoons, originally mounted infantry, but later regarded as medium cavalry\\nHussars, light cavalry\\nLancers or Uhlans, light cavalry, primarily armed with lances\\nThere were cavalry variations for individual nations as well: France had the chasseurs \\xc3\\xa0 cheval; Prussia had the J\\xc3\\xa4ger zu Pferde; Bavaria, Saxony and Austria had the Chevaulegers; and Russia had Cossacks. Britain, from the mid-18th century, had Light Dragoons as light cavalry and Dragoons, Dragoon Guards and Household Cavalry as heavy cavalry. Only after the end of the Napoleonic wars were the Household Cavalry equipped with cuirasses, and some other regiments were converted to lancers. In the United States Army prior to 1862 the cavalry were almost always dragoons. The Imperial Japanese Army had its cavalry uniformed as hussars, but they fought as dragoons.\\nIn the Crimean War, the Charge of the Light Brigade and the Thin Red Line at the Battle of Balaclava showed the vulnerability of cavalry, when deployed without effective support.\\n\\n\\n==== Franco-Prussian War ====\\n\\nDuring the Franco-Prussian War, at the Battle of Mars-la-Tour in 1870, a Prussian cavalry brigade decisively smashed the centre of the French battle line, after skilfully concealing their approach. This event became known as Von Bredow\\'s Death Ride after the brigade commander Adalbert von Bredow; it would be used in the following decades to argue that massed cavalry charges still had a place on the modern battlefield.\\n\\n\\n==== Imperial expansion ====\\nCavalry found a new role in colonial campaigns (irregular warfare), where modern weapons were lacking and the slow moving infantry-artillery train or fixed fortifications were often ineffective against indigenous insurgents (unless the latter offered a fight on an equal footing, as at Tel-el-Kebir, Omdurman, etc.). Cavalry \"flying columns\" proved effective, or at least cost-effective, in many campaigns\\xe2\\x80\\x94although an astute native commander (like Samori in western Africa, Shamil in the Caucasus, or any of the better Boer commanders) could turn the tables and use the greater mobility of their cavalry to offset their relative lack of firepower compared with European forces.\\nIn 1903 the British Indian Army maintained forty regiments of cavalry, numbering about 25,000 Indian sowars (cavalrymen), with British and Indian officers.\\n Among the more famous regiments in the lineages of the modern Indian and Pakistani armies are:\\n\\nGovernor General\\'s Bodyguard (now President\\'s Bodyguard)\\nSkinner\\'s Horse (now India\\'s 1st Horse (Skinner\\'s Horse))\\nGardner\\'s Lancers (now India\\'s 2nd Lancers (Gardner\\'s Horse))\\nHodson\\'s Horse (now India\\'s 3rd Horse (Hodson\\'s)) of the Bengal Lancers fame\\n6th Bengal Cavalry (later amalgamated with 7th Hariana Lancers to form 18th King Edward\\'s Own Cavalry) now 18th Cavalry of the Indian Army\\nProbyn\\'s Horse (now 5th Horse, Pakistan)\\nRoyal Deccan Horse (now India\\'s The Deccan Horse)\\nPoona Horse (now India\\'s The Poona Horse)\\nScinde Horse (now India\\'s The Scinde Horse)\\nQueen\\'s Own Guides Cavalry (now Pakistan).\\n11th Prince Albert Victor\\'s Own Cavalry (Frontier Force) (now 11th Cavalry (Frontier Force), Pakistan)Several of these formations are still active, though they now are armoured formations, for example the Guides Cavalry of Pakistan.\\n\\nThe French Army maintained substantial cavalry forces in Algeria and Morocco from 1830 until the end of the Second World War. Much of the Mediterranean coastal terrain was suitable for mounted action and there was a long established culture of horsemanship amongst the Arab and Berber inhabitants. The French forces included Spahis, Chasseurs d\\' Afrique, Foreign Legion cavalry and mounted Goumiers. Both Spain and Italy raised cavalry regiments from amongst the indigenous horsemen of their North African territories (see regulares, Italian Spahis and savari respectively).\\nImperial Germany employed mounted formations in South West Africa as part of the Schutztruppen (colonial army) garrisoning the territory.\\n\\n\\n=== United States ===\\n\\nIn the early American Civil War the regular United States Army mounted rifle, dragoon, and two existing cavalry regiments were reorganized and renamed cavalry regiments, of which there were six. Over a hundred other federal and state cavalry regiments were organized, but the infantry played a much larger role in many battles due to its larger numbers, lower cost per rifle fielded, and much easier recruitment. However, cavalry saw a role as part of screening forces and in foraging and scouting. The later phases of the war saw the Federal army developing a truly effective cavalry force fighting as scouts, raiders, and, with repeating rifles, as mounted infantry. The distinguished 1st Virginia Cavalry ranks as one of the most effectual and successful cavalry units on the Confederate side. Noted cavalry commanders included Confederate general J.E.B. Stuart, Nathan Bedford Forrest, and John Singleton Mosby (a.k.a. \"The Grey Ghost\") and on the Union side, Philip Sheridan and George Armstrong Custer.\\nPost Civil War, as the volunteer armies disbanded, the regular army cavalry regiments increased in number from six to ten, among them Custer\\'s U.S. 7th Cavalry Regiment of Little Bighorn fame, and the African-American U.S. 9th Cavalry Regiment and U.S. 10th Cavalry Regiment. The black units, along with others (both cavalry and infantry), collectively became known as the Buffalo Soldiers. According to Robert M. Utley: \\n\\nthe frontier army was a conventional military force trying to control, by conventional military methods, a people that did not behave like conventional enemies and, indeed, quite often were not enemies at all. This is the most difficult of all military assignments, whether in Africa, Asia, or the American West.These regiments, which rarely took the field as complete organizations, served throughout the American Indian Wars through the close of the frontier in the 1890s. Volunteer cavalry regiments like the Rough Riders consisted of horsemen such as cowboys, ranchers and other outdoorsmen, that served as a cavalry in the United States Military.\\n\\n\\n== Developments 1900-1914 ==\\n\\nAt the beginning of the 20th century all armies still maintained substantial cavalry forces, although there was contention over whether their role should revert to that of mounted infantry (the historic dragoon function).\\n\\n\\n=== Britain ===\\nFollowing the experience of the South African War of 1899\\xe2\\x80\\x931902 (where mounted Boer citizen commandos fighting on foot from cover proved more effective than regular cavalry) the British Army withdrew lances for all but ceremonial purposes and placed a new emphasis on training for dismounted action in 1903.\\n\\n\\n=== Russia ===\\nIn 1882 the Imperial Russian Army converted all its line hussar and lancer regiments to dragoons, with an emphasis on mounted infantry training. In 1910 these regiments reverted to their historic roles, designations and uniforms.\\n\\n\\n=== Germany ===\\nBy 1909 official regulations dictating the role of the Imperial German cavalry had been revised to indicate an increasing realization of the realities of modern warfare. The massive cavalry charge in three waves which had previously marked the end of annual maneuvers was discontinued and a new emphasis was placed in training on scouting, raiding and pursuit; rather than main battle involvement. The perceived importance of cavalry was however still evident, with thirteen new regiments of mounted rifles (J\\xc3\\xa4ger zu Pferde) being raised shortly before the outbreak of war in 1914.\\n\\n\\n=== France ===\\nIn spite of significant experience in mounted warfare in Morocco during 1908\\xe2\\x80\\x9314, the French cavalry remained a highly conservative institution. The traditional tactical distinctions between heavy, medium, and light cavalry branches were retained. French cuirassiers wore breastplates and plumed helmets unchanged from the Napoleonic period, during the early months of World War I. Dragoons were similarly equipped, though they did not wear cuirasses and did carry lances.\\nLight cavalry were described as being \"a blaze of colour\". French cavalry of all branches were well mounted and were trained to change position and charge at full gallop. One weakness in training was that French cavalrymen seldom dismounted on the march and their horses suffered heavily from raw backs in August 1914.\\n\\n\\n== First World War ==\\n\\n\\n=== Opening stages ===\\n\\n\\n=== Europe 1914 ===\\nIn August 1914 all combatant armies still retained substantial numbers of cavalry and the mobile nature of the opening battles on both Eastern and Western Fronts provided a number of instances of traditional cavalry actions, though on a smaller and more scattered scale than those of previous wars. The 110 regiments of Imperial German cavalry, while as colourful and traditional as any in peacetime appearance, had adopted a practice of falling back on infantry support when any substantial opposition was encountered. These cautious tactics aroused derision amongst their more conservative French and Russian opponents but proved appropriate to the new nature of warfare. A single attempt by the German army, on 12 August 1914, to use six regiments of massed cavalry to cut off the Belgian field army from Antwerp foundered when they were driven back in disorder by rifle fire. The two German cavalry brigades involved lost 492 men and 843 horses in repeated charges against dismounted Belgian lancers and infantry. One of the last recorded charges by French cavalry took place on the night of 9/10 September 1914 when a squadron of the 16th Dragoons overran a German airfield at Soissons, while suffering heavy losses.\\nOnce the front lines stabilised on the Western Front with the start of Trench Warfare, a combination of barbed wire, uneven muddy terrain, machine guns and rapid fire rifles proved deadly to horse mounted troops and by early 1915 most cavalry units were no longer seeing front line action.\\nOn the Eastern Front a more fluid form of warfare arose from flat open terrain favorable to mounted warfare. On the outbreak of war in 1914 the bulk of the Russian cavalry was deployed at full strength in frontier garrisons and, during the period that the main armies were mobilizing, scouting and raiding into East Prussia and Austrian Galicia was undertaken by mounted troops trained to fight with sabre and lance in the traditional style. On 21 August 1914 the 4th Austro-Hungarian Kavalleriedivison fought a major mounted engagement at Jaroslavic with the Russian 10th Cavalry Division, in what was arguably the final historic battle to involve thousands of horsemen on both sides. While this was the last massed cavalry encounter on the Eastern Front, the absence of good roads limited the use of mechanized transport and even the technologically advanced Imperial German Army continued to deploy up to twenty-four horse-mounted divisions in the East, as late as 1917.\\n\\n\\n=== Europe 1915\\xe2\\x80\\x9318 ===\\n\\nFor the remainder of the War on the Western Front cavalry had virtually no role to play. The British and French armies dismounted many of their cavalry regiments and used them in infantry and other roles: the Life Guards for example spent the last months of the War as a machine gun corps; and the Australian Light Horse served as light infantry during the Gallipoli campaign. In September 1914 cavalry comprised 9.28% of the total manpower of the British Expeditionary Force in France\\xe2\\x80\\x94by July 1918 this proportion had fallen to 1.65%. As early as the first winter of the war most French cavalry regiments had dismounted a squadron each, for service in the trenches. The French cavalry numbered 102,000 in May 1915 but had been reduced to 63,000 by October 1918.\\nThe German Army dismounted nearly all their cavalry in the West, maintaining only one mounted division on that front by January 1917.\\n\\nItaly entered the war in 1915 with thirty regiments of line cavalry, lancers and light horse. While employed effectively against their Austro-Hungarian counterparts during the initial offensives across the Isonzo River, the Italian mounted forces ceased to have a significant role as the front shifted into mountainous terrain. By 1916 most cavalry machine-gun sections and two complete cavalry divisions had been dismounted and seconded to the infantry.Some cavalry were retained as mounted troops in reserve behind the lines, in anticipation of a penetration of the opposing trenches that it seemed would never come. Tanks, introduced on the Western Front by the British in September 1916 during the Battle of the Somme, had the capacity to achieve such breakthroughs but did not have the reliable range to exploit them. In their first major use at the Battle of Cambrai (1917), the plan was for a cavalry division to follow behind the tanks, however they were not able to cross a canal because a tank had broken the only bridge. On a few other occasions, throughout the war, cavalry were readied in significant numbers for involvement in major offensives; such as in the Battle of Caporetto and the Battle of Moreuil Wood. However it was not until the German Army had been forced to retreat in the Hundred Days Offensive of 1918, that limited numbers of cavalry were again able to operate with any effectiveness in their intended role. There was a successful charge by the British 7th Dragoon Guards on the last day of the war.In the wider spaces of the Eastern Front a more fluid form of warfare continued and there was still a use for mounted troops. Some wide-ranging actions were fought, again mostly in the early months of the war. However, even here the value of cavalry was overrated and the maintenance of large mounted formations at the front by the Russian Army put a major strain on the railway system, to little strategic advantage. In February 1917 the Russian regular cavalry (exclusive of Cossacks) was reduced by nearly a third from its peak number of 200,000, as two squadrons of each regiment were dismounted and incorporated into additional infantry battalions. Their Austro-Hungarian opponents, plagued by a shortage of trained infantry, had been obliged to progressively convert most horse cavalry regiments to dismounted rifle units starting in late 1914.\\n\\n\\n=== Middle East ===\\nIn the Middle East, during the Sinai and Palestine Campaign mounted forces (British, Indian, Ottoman, Australian, Arab and New Zealand) retained an important strategic role both as mounted infantry and cavalry.\\nIn Egypt the mounted infantry formations like the New Zealand Mounted Rifles Brigade and Australian Light Horse of ANZAC Mounted Division, operating as mounted infantry, drove German and Ottoman forces back from Romani to Magdhaba and Rafa and out of the Egyptian Sinai Peninsula in 1916.\\nAfter a stalemate on the Gaza\\xe2\\x80\\x94Beersheba line between March and October 1917, Beersheba was captured by the Australian Mounted Division\\'s 4th Light Horse Brigade. Their mounted charge succeeded after a coordinated attack by the British Infantry and Yeomanry cavalry and the Australian and New Zealand Light Horse and Mounted Rifles brigades. A series of coordinated attacks by these Egyptian Expeditionary Force infantry and mounted troops were also successful at the Battle of Mughar Ridge, during which the British infantry divisions and the Desert Mounted Corps drove two Ottoman armies back to the Jaffa\\xe2\\x80\\x94Jerusalem line. The infantry with mainly dismounted cavalry and mounted infantry fought in the Judean Hills to eventually almost encircle Jerusalem which was occupied shortly after.\\nDuring a pause in operations necessitated by the German spring offensive in 1918 on the Western Front joint infantry and mounted infantry attacks towards Amman and Es Salt resulted in retreats back to the Jordan Valley which continued to be occupied by mounted divisions during the summer of 1918.\\nThe Australian Mounted Division was armed with swords and in September, after the successful breaching of the Ottoman line on the Mediterranean coast by the British Empire infantry XXI Corps was followed by cavalry attacks by the 4th Cavalry Division, 5th Cavalry Division and Australian Mounted Divisions which almost encircled two Ottoman armies in the Judean Hills forcing their retreat. Meanwhile, Chaytor\\'s Force of infantry and mounted infantry in ANZAC Mounted Division held the Jordan Valley, covering the right flank to later advance eastwards to capture Es Salt and Amman and half of a third Ottoman army. A subsequent pursuit by the 4th Cavalry Division and the Australian Mounted Division followed by the 5th Cavalry Division to Damascus. Armoured cars and 5th Cavalry Division lancers were continuing the pursuit of Ottoman units north of Aleppo when the Armistice of Mudros was signed by the Ottoman Empire.\\n\\n\\n== Post\\xe2\\x80\\x93World War I ==\\nA combination of military conservatism in almost all armies and post-war financial constraints prevented the lessons of 1914\\xe2\\x80\\x931918 being acted on immediately. There was a general reduction in the number of cavalry regiments in the British, French, Italian and other Western armies but it was still argued with conviction (for example in the 1922 edition of the Encyclop\\xc3\\xa6dia Britannica) that mounted troops had a major role to play in future warfare. The 1920s saw an interim period during which cavalry remained as a proud and conspicuous element of all major armies, though much less so than prior to 1914.\\nCavalry was extensively used in the Russian Civil War and the Soviet-Polish War. The last major cavalry battle was the Battle of Komar\\xc3\\xb3w in 1920, between Poland and the Russian Bolsheviks. Colonial warfare in Morocco, Syria, the Middle East and the North West Frontier of India provided some opportunities for mounted action against enemies lacking advanced weaponry.\\n\\nThe post-war German Army (Reichsheer) was permitted a large proportion of cavalry (18 regiments or 16.4% of total manpower) under the conditions of the Treaty of Versailles.The British Army mechanised all cavalry regiments between 1929 and 1941, redefining their role from horse to armoured vehicles to form the Royal Armoured Corps together with the Royal Tank Regiment. The U.S. Cavalry abandoned its sabres in 1934 and commenced the conversion of its horsed regiments to mechanized cavalry, starting with the First Regiment of Cavalry in January 1933.\\nDuring the Turkish War of Independence Turkish cavalry under General Fahrettin Altay was instrumental in Kemalist victory over the invading Greek Army in 1922, during the Battle of Dumlup\\xc4\\xb1nar. V. Cavalry division was able to slip behind the Greek army, cutting off all communication and supply lines as well as all retreat venues, forcing the surrender of the remaining Greek army which may have been the last time in history cavalry played a definitive role in the outcome of a battle. \\nDuring the 1930s the French Army experimented with integrating mounted and mechanised cavalry units into larger formations. Dragoon regiments were converted to motorised infantry (trucks and motor cycles), and cuirassiers to armoured units; while light cavalry (Chasseurs a\\' Cheval, Hussars and Spahis) remained as mounted sabre squadrons. The theory was that mixed forces comprising these diverse units could utilise the strengths of each according to circumstances. In practice mounted troops proved unable to keep up with fast moving mechanised units over any distance.\\nThe thirty-nine cavalry regiments of the British Indian Army were reduced to twenty-one as the result of a series of amalgamations immediately following World War I. The new establishment remained unchanged until 1936 when three regiments were redesignated as permanent training units, each with six, still mounted, regiments linked to them. In 1938 the process of mechanization began with the conversion of a full cavalry brigade (two Indian regiments and one British) to armoured car and tank units. By the end of 1940 all of the Indian cavalry had been mechanized, initially and in the majority of cases, to motorized infantry transported in 15cwt trucks. The last horsed regiment of the British Indian Army (other than the Viceroy\\'s Bodyguard and some Indian States Forces regiments) was the 19th King George\\'s Own Lancers which had its final mounted parade at Rawalpindi on 28 October 1939. This unit still exists in the Pakistan Army as an armored regiment.\\n\\n\\n== World War II ==\\n\\nWhile most armies still maintained cavalry units at the outbreak of World War II in 1939, significant mounted action was largely restricted to the Polish, Balkan, and Soviet campaigns. Rather than charge their mounts into battle, cavalry units were either used as mounted infantry (using horses to move into position and then dismounting for combat) or as reconnaissance units (especially in areas not suited to tracked or wheeled vehicles).\\n\\n\\n=== Polish ===\\n\\nA popular myth is that Polish cavalry armed with lances charged German tanks during the September 1939 campaign. This arose from misreporting of a single clash on 1 September near Krojanty, when two squadrons of the Polish 18th Lancers armed with sabres scattered German infantry before being caught in the open by German armoured cars.\\nTwo examples illustrate how the myth developed. First, because motorised vehicles were in short supply, the Poles used horses to pull anti-tank weapons into position. Second, there were a few incidents when Polish cavalry was trapped by German tanks, and attempted to fight free. However, this did not mean that the Polish army chose to attack tanks with horse cavalry. Later, on the Eastern Front, the Red Army did deploy cavalry units effectively against the Germans.\\n\\nA more correct term would be \"mounted infantry\" instead of \"cavalry\", as horses were primarily used as a means of transportation, for which they were very suitable in view of the very poor road conditions in pre-war Poland. Another myth describes Polish cavalry as being armed with both sabres and lances; lances were used for peacetime ceremonial purposes only and the primary weapon of the Polish cavalryman in 1939 was a rifle. Individual equipment did include a sabre, probably because of well-established tradition, and in the case of a melee combat this secondary weapon would probably be more effective than a rifle and bayonet. Moreover, the Polish cavalry brigade order of battle in 1939 included, apart from the mounted soldiers themselves, light and heavy machine guns (wheeled), the Anti-tank rifle, model 35, anti-aircraft weapons, anti tank artillery such as the Bofors 37 mm, also light and scout tanks, etc. The last cavalry vs. cavalry mutual charge in Europe took place in Poland during the Battle of Krasnobr\\xc3\\xb3d, when Polish and German cavalry units clashed with each other.\\nThe last classical cavalry charge of the war took place on March 1, 1945, during the Battle of Schoenfeld by the 1st \"Warsaw\" Independent Cavalry Brigade. Infantry and tanks had been employed to little effect against the German position, both of which floundered in the open wetlands only to be dominated by infantry and antitank fire from the German fortifications on the forward slope of Hill 157, overlooking the wetlands. The Germans had not taken cavalry into consideration when fortifying their position which, combined with the \"Warsaw\"s swift assault, overran the German anti-tank guns and consolidated into an attack into the village itself, now supported by infantry and tanks.\\n\\n\\n=== Greek ===\\nThe Italian invasion of Greece in October 1940 saw mounted cavalry used effectively by the Greek defenders along the mountainous frontier with Albania. Three Greek cavalry regiments (two mounted and one partially mechanized) played an important role in the Italian defeat in this difficult terrain.\\n\\n\\n=== Soviet ===\\n\\nThe contribution of Soviet cavalry to the development of modern military operational doctrine and its importance in defeating Nazi Germany has been eclipsed by the higher profile of tanks and airplanes. Despite the view portrayed by German propaganda, Soviet cavalry contributed significantly to the defeat of the Axis armies. Their contributions included being the most mobile troops in the early stages, when trucks and other equipment were low in quality; as well as providing cover for retreating forces.\\nConsidering their relatively limited numbers, the Soviet cavalry played a significant role in giving Germany its first real defeats in the early stages of the war. The continuing potential of mounted troops was demonstrated during the Battle of Moscow, against Guderian and the powerful central German 9th Army. Cavalry were amongst the first Soviet units to complete the encirclement in the Battle of Stalingrad, thus sealing the fate of the German 6th Army. Mounted Soviet forces also played a role in the encirclement of Berlin, with some Cossack cavalry units reaching the Reichstag in April 1945. Throughout the war they performed important tasks such as the capture of bridgeheads which is considered one of the hardest jobs in battle, often doing so with inferior numbers. For instance the 8th Guards Cavalry Regiment of the 2nd Guards Cavalry Division, often fought outnumbered against the best German units.\\nBy the final stages of the war only the Soviet Union was still fielding mounted units in substantial numbers, some in combined mechanized and horse units. The advantage of this approach was that in exploitation mounted infantry could keep pace with advancing tanks. Other factors favoring the retention of mounted forces included the high quality of Russian Cossacks which made about half of all cavalry; and the relative lack of roads suitable for wheeled vehicles in many parts of the Eastern Front. Another consideration was that the logistic capacity required to support very large motorized forces exceeded that necessary for mounted troops. The main usage of the Soviet cavalry involved infiltration through front lines with subsequent deep raids, which disorganized German supply lines. Another role was the pursuit of retreating enemy forces during major frontline operations and breakthroughs.\\n\\n\\n=== Hungarian ===\\nDuring World War 2 the Royal Hungarian Army\\'s hussars were typically making only reconnaissance tasks against the Soviets, and only in a section or a squadron.\\nHowever, there was an incident documented by a German military officer. The last documentable hussar attack was conducted by Lieutenant Colonel K\\xc3\\xa1lm\\xc3\\xa1n Mikecz on August 16, 1941, at Nikolaev. The hussars arrived as reinforcements, they had to break through Russian positions in front of German soldiers who, according to their own confessions, tried in vain to break through Russian lines. The hussars equipped with swords and submachine guns broke through the front in a single attack. According to the accounts of astonished eyewitnesses, they came into history as if they had run the Red Army with a sword.\\nEyewitness account of the last hussar attack:\\n\"\\xe2\\x80\\xa6 We were again in a tough fight with the desperately defensive enemy who dug himself along a high railway embankment. We\\xe2\\x80\\x99ve been attacked four times already, and we\\xe2\\x80\\x99ve been kicked back all four times. The battalion commander swore, but the company commanders were helpless. Then, instead of the artillery support we asked for countless times, a Hungarian hussar regiment appeared on the scene. We laughed. What the hell do they want here with their graceful, elegant horses? We froze at once: these Hungarians went crazy. Cavalry Squadron approached after a cavalry squdron. The command word rang. The bronze-brown, slender riders almost grew to their saddle.\\nTheir shining colonel of golden parolis jerked his sword. Four or five armored cars cut out of the wings, and the regiment slashed across the wide plain with flashing swords in the afternoon sun. Seydlitz attacked like this once before. Forgetting all caution, we climbed out of our covers. It was all like a great equestrian movie. The first shots rumbled, then became less frequent. With astonished eyes, in disbelief, we watched as the Soviet regiment, which had so far repulsed our attacks with desperate determination, now turned around and left its positions in panic. And the triumphant Hungarians chased the Russian in front of them and shredded them with their glittering sabers. The hussar sword, it seems, was a bit much for the nerves of Russians. Now, for once, the ancient weapon has triumphed over modern equipment .... \" - Erich Kern, a German officer, wrote his memoir in 1948.\\n\\n\\n=== Italian ===\\nThe last mounted sabre charge by Italian cavalry occurred on August 24, 1942, at Isbuscenski (Russia), when a squadron of the Savoia Cavalry Regiment charged the 812th Siberian Infantry Regiment. The remainder of the regiment, together with the Novara Lancers made a dismounted attack in an action that ended with the retreat of the Russians after heavy losses on both sides. The final Italian cavalry action occurred on October 17, 1942, in Poloj (now Croatia) by a squadron of the Alexandria Cavalry Regiment against a large group of Yugoslav partisans.\\n\\n\\n=== Other Axis ===\\nRomanian, Hungarian and Italian cavalry were dispersed or disbanded following the retreat of the Axis forces from Russia. Germany still maintained some mounted (mixed with bicycles) SS and Cossack units until the last days of the War.\\n\\n\\n=== Finnish ===\\nFinland used mounted troops against Russian forces effectively in forested terrain during the Continuation War. The last Finnish cavalry unit was not disbanded until 1947.\\n\\n\\n=== United States ===\\nThe U.S. Army\\'s last horse cavalry actions were fought during World War II: a) by the 26th Cavalry Regiment\\xe2\\x80\\x94a small mounted regiment of Philippine Scouts which fought the Japanese during the retreat down the Bataan peninsula, until it was effectively destroyed by January 1942; and b) on captured German horses by the mounted reconnaissance section of the U.S. 10th Mountain Division in a spearhead pursuit of the German Army across the Po Valley in Italy in April 1945. The last horsed U.S. Cavalry (the Second Cavalry Division) were dismounted in March 1944.\\n\\n\\n=== British Empire ===\\nAll British Army cavalry regiments had been mechanised since 1 March 1942 when the Queen\\'s Own Yorkshire Dragoons (Yeomanry) was converted to a motorised role, following mounted service against the Vichy French in Syria the previous year. The final cavalry charge by British Empire forces occurred on 21 March 1942 when a 60 strong patrol of the Burma Frontier Force encountered Japanese infantry near Toungoo airfield in central Myanmar. The Sikh sowars of the Frontier Force cavalry, led by Captain Arthur Sandeman of The Central India Horse (21st King George V\\'s Own Horse), charged in the old style with sabres and most were killed.\\n\\n\\n=== Mongolia ===\\n\\nIn the early stages of World War II, mounted units of the Mongolian People\\'s Army were involved in the Battle of Khalkhin Gol against invading Japanese forces. Soviet forces under the command of Georgy Zhukov, together with Mongolian forces, defeated the Japanese Sixth army and effectively ended the Soviet\\xe2\\x80\\x93Japanese Border Wars. After the Soviet\\xe2\\x80\\x93Japanese Neutrality Pact of 1941, Mongolia remained neutral throughout most of the war, but its geographical situation meant that the country served as a buffer between Japanese forces and the Soviet Union. In addition to keeping around 10% of the population under arms, Mongolia provided half a million trained horses for use by the Soviet Army. In 1945 a partially mounted Soviet-Mongolian Cavalry Mechanized Group played a supporting role on the western flank of the Soviet invasion of Manchuria. The last active service seen by cavalry units of the Mongolian Army occurred in 1946\\xe2\\x80\\x931948, during border clashes between Mongolia and the Republic of China.\\n\\n\\n== Post\\xe2\\x80\\x93World War II to the present day ==\\n\\nWhile most modern \"cavalry\" units have some historic connection with formerly mounted troops this is not always the case. The modern Irish Defence Forces (DF) includes a \"Cavalry Corps\" equipped with armoured cars and Scorpion tracked combat reconnaissance vehicles. The DF has never included horse cavalry since its establishment in 1922 (other than a small mounted escort of Blue Hussars drawn from the Artillery Corps when required for ceremonial occasions). However, the mystique of the cavalry is such that the name has been introduced for what was always a mechanised force.\\nSome engagements in late 20th and early 21st century guerrilla wars involved mounted troops, particularly against partisan or guerrilla fighters in areas with poor transport infrastructure. Such units were not used as cavalry but rather as mounted infantry. Examples occurred in Afghanistan, Portuguese Africa and Rhodesia. The French Army used existing mounted squadrons of Spahis to a limited extent for patrol work during the Algerian War (1954\\xe2\\x80\\x9362). The Swiss Army maintained a mounted dragoon regiment for combat purposes until 1973. The Portuguese Army used horse mounted cavalry with some success in the wars of independence in Angola and Mozambique in the 1960s and 1970s. During the 1964\\xe2\\x80\\x9379 Rhodesian Bush War the Rhodesian Army created an elite mounted infantry unit called Grey\\'s Scouts to fight unconventional actions against the rebel forces of Robert Mugabe and Joshua Nkomo. The horse mounted infantry of the Scouts were effective and reportedly feared by their opponents in the rebel African forces. In the 1978 to present Afghan Civil War period there have been several instances of horse mounted combat.\\nCentral and South American armies maintained mounted cavalry for longer than those of Asia, Europe, or North America. The Mexican Army included a number of horse mounted cavalry regiments as late as the mid-1990s and the Chilean Army had five such regiments in 1983 as mounted mountain troops.The Soviet Army retained horse cavalry divisions until 1955. At the dissolution of the Soviet Union in 1991, there was still an independent horse mounted cavalry squadron in Kyrgyzstan.\\n\\n\\n=== Operational horse cavalry ===\\nToday the Indian Army\\'s 61st Cavalry is reported to be the largest existing horse-mounted cavalry unit still having operational potential. It was raised in 1951 from the amalgamated state cavalry squadrons of Gwalior, Jodhpur, and Mysore. While primarily utilised for ceremonial purposes, the regiment can be deployed for internal security or police roles if required. The 61st Cavalry and the President\\'s Body Guard parade in full dress uniform in New Delhi each year in what is probably the largest assembly of traditional cavalry still to be seen in the world. Both the Indian and the Pakistani armies maintain armoured regiments with the titles of Lancers or Horse, dating back to the 19th century.\\nAs of 2007, the Chinese People\\'s Liberation Army employed two battalions of horse-mounted border guards in Xinjiang for border patrol purposes. PLA mounted units last saw action during border clashes with Vietnam in the 1970s and 1980s, after which most cavalry units were disbanded as part of major military downsizing in the 1980s. In the wake of the 2008 Sichuan earthquake, there were calls to rebuild the army horse inventory for disaster relief in difficult terrain. Subsequent Chinese media reports confirm that the PLA maintains operational horse cavalry at squadron strength in Xinjiang and Inner Mongolia for scouting, logistical, and border security purposes.\\nThe Chilean Army still maintains a mixed armoured cavalry regiment, with elements of it acting as mounted mountain exploration troops, based in the city of Angol, being part of the III Mountain Division, and another independent exploration cavalry detachment in the town of Chait\\xc3\\xa9n. The rugged mountain terrain calls for the use of special horses suited for that use.\\nThe Argentine Army has two mounted cavalry units: the Regiment of Horse Grenadiers, which performs mostly ceremonial duties but at the same time is responsible for the president\\'s security (in this case, acting as infantry), and the 4th Mountain Cavalry Regiment (which comprises both horse and light armoured squadrons), stationed in San Mart\\xc3\\xadn de los Andes, where it has an exploration role as part the 6th Mountain Brigade. Most armoured cavalry units of the Army are considered successors to the old cavalry regiments from the Independence Wars, and keep their traditional names, such as Hussars, Cuirassiers, Lancers, etc., and uniforms. Equestrian training remains an important part of their tradition, especially among officers.\\n\\n\\n=== Ceremonial horse cavalry and armored cavalry retaining traditional titles ===\\n\\nCavalry or mounted gendarmerie units continue to be maintained for purely or primarily ceremonial purposes by the Algerian, Argentine, Bolivian, Brazilian, British, Bulgarian, Canadian, Chilean, Colombian, Danish, Dutch, Finnish, French, Hungarian, Indian, Italian, Jordanian, Malaysian, Moroccan, Nepalese, Nigerian, North Korean, Omani, Pakistani, Panamanian, Paraguayan, Peruvian, Polish, Portuguese, Russian, Senegalese, Spanish, Swedish, Thai, Tunisian, Turkmenistan, United States, Uruguayan and Venezuelan armed forces.\\nA number of armoured regiments in the British Army retain the historic designations of Hussars, Dragoons, Light Dragoons, Dragoon Guards, Lancers and Yeomanry. Only the Household Cavalry (consisting of the Life Guards\\' mounted squadron, The Blues and Royals\\' mounted squadron, the State Trumpeters of The Household Cavalry and the Household Cavalry Mounted Band) are maintained for mounted (and dismounted) ceremonial duties in London.\\nThe French Army still has regiments with the historic designations of Cuirassiers, Hussars, Chasseurs, Dragoons and Spahis. Only the cavalry of the Republican Guard and a ceremonial fanfare detachment of trumpeters for the cavalry/armoured branch as a whole are now mounted.\\nIn the Canadian Army, a number of regular and reserve units have cavalry roots, including The Royal Canadian Hussars (Montreal), the Governor General\\'s Horse Guards, Lord Strathcona\\'s Horse, The British Columbia Dragoons, The Royal Canadian Dragoons, and the South Alberta Light Horse. Of these, only Lord Strathcona\\'s Horse and the Governor General\\'s Horse Guards maintain an official ceremonial horse-mounted cavalry troop or squadron.The modern Pakistan army maintains about 40 armoured regiments with the historic titles of Lancers, Cavalry or Horse. Six of these date back to the 19th century, although only the President\\'s Body Guard remains horse-mounted.\\nIn 2002 the Army of the Russian Federation reintroduced a ceremonial mounted squadron wearing historic uniforms.\\nBoth the Australian and New Zealand armies follow the British practice of maintaining traditional titles (Light Horse or Mounted Rifles) for modern mechanised units. However, neither country retains a horse-mounted unit.\\nSeveral armored units of the modern United States Army retain the designation of \"armored cavalry\". The United States also has \"air cavalry\" units equipped with helicopters. The Horse Cavalry Detachment of the U.S. Army\\'s 1st Cavalry Division, made up of active duty soldiers, still functions as an active unit, trained to approximate the weapons, tools, equipment and techniques used by the United States Cavalry in the 1880s.\\n\\n\\n=== Non-combat support roles ===\\nThe First Troop Philadelphia City Cavalry is a volunteer unit within the Pennsylvania Army National Guard which serves as a combat force when in federal service but acts in a mounted disaster relief role when in state service. In addition, the Parsons\\' Mounted Cavalry is a Reserve Officer Training Corps unit which forms part of the Corps of Cadets at Texas A&M University. Valley Forge Military Academy and College also has a Mounted Company, known as D-Troop .\\nSome individual U.S. states maintain cavalry units as a part of their respective state defense forces. The Maryland Defense Force includes a cavalry unit, Cavalry Troop A, which serves primarily as a ceremonial unit. The unit training includes a saber qualification course based upon the 1926 U.S. Army course. Cavalry Troop A also assists other Maryland agencies as a rural search and rescue asset. In Massachusetts, The National Lancers trace their lineage to a volunteer cavalry militia unit established in 1836 and are currently organized as an official part of the Massachusetts Organized Militia. The National Lancers maintain three units, Troops A, B, and C, which serve in a ceremonial role and assist in search and rescue missions. In July 2004, the National Lancers were ordered into active state service to guard Camp Curtis Guild during the 2004 Democratic National Convention. The Governor\\'s Horse Guard of Connecticut maintains two companies which are trained in urban crowd control. In 2020, the California State Guard stood up the 26th Mounted Operations Detachment, a search-and-rescue cavalry unit.\\n\\n\\n== Social status ==\\nFrom the beginning of civilization to the 20th century, ownership of heavy cavalry horses has been a mark of wealth amongst settled peoples. A cavalry horse involves considerable expense in breeding, training, feeding, and equipment, and has very little productive use except as a mode of transport.\\nFor this reason, and because of their often decisive military role, the cavalry has typically been associated with high social status. This was most clearly seen in the feudal system, where a lord was expected to enter combat armored and on horseback and bring with him an entourage of lightly armed peasants on foot. If landlords and peasant levies came into conflict, the poorly trained footmen would be ill-equipped to defeat armored knights.\\nIn later national armies, service as an officer in the cavalry was generally a badge of high social status. For instance prior to 1914 most officers of British cavalry regiments came from a socially privileged background and the considerable expenses associated with their role generally required private means, even after it became possible for officers of the line infantry regiments to live on their pay. Options open to poorer cavalry officers in the various European armies included service with less fashionable (though often highly professional) frontier or colonial units. These included the British Indian cavalry, the Russian Cossacks or the French Chasseurs d\\'Afrique.\\nDuring the 19th and early 20th centuries most monarchies maintained a mounted cavalry element in their royal or imperial guards. These ranged from small units providing ceremonial escorts and palace guards, through to large formations intended for active service. The mounted escort of the Spanish Royal Household provided an example of the former and the twelve cavalry regiments of the Prussian Imperial Guard an example of the latter. In either case the officers of such units were likely to be drawn from the aristocracies of their respective societies.\\n\\n\\n== On film ==\\nSome sense of the noise and power of a cavalry charge can be gained from the 1970 film Waterloo, which featured some 2,000 cavalrymen, some of them Cossacks. It included detailed displays of the horsemanship required to manage animal and weapons in large numbers at the gallop (unlike the real battle of Waterloo, where deep mud significantly slowed the horses). The Gary Cooper movie They Came to Cordura contains a scene of a cavalry regiment deploying from march to battle line formation. A smaller-scale cavalry charge can be seen in The Lord of the Rings: The Return of the King (2003); although the finished scene has substantial computer-generated imagery, raw footage and reactions of the riders are shown in the Extended Version DVD Appendices.\\nOther films that show cavalry actions include:\\n\\nThe Charge of the Light Brigade, about the Battle of Balaclava in the Crimean War\\n40,000 Horsemen, about the Australian Light Horse during the Sinai and Palestine campaign of World War I\\nThe Lighthorsemen, about the Battle of Beersheba, 1917\\nWar Horse, about the British cavalry in Europe during World War I\\nHubal, about the last months (September 1939 \\xe2\\x80\\x93 April 1940) of Poland\\'s first World War II guerrilla, Major Henryk Dobrza\\xc5\\x84ski, \"Hubal\"\\nThe Patriot includes light cavalry usage.\\nAnd Quiet Flows the Don depicts Don Cossacks during World War I\\nKingdom of Heaven includes a cavalry charge during the Siege of Kerak\\n\\n\\n== Examples ==\\n\\n\\n=== Types ===\\n\\n\\n=== Units ===\\n\\n\\n== Notable horse cavalrymen ==\\nGeorgios Stanotas, commander of the Hellenic Army\\'s Cavalry Division during World War II\\nDidier Courr\\xc3\\xa8ges, major in the French Army, member of \\xc3\\x89cole Nationale d\\'\\xc3\\x89quitation\\'s Cadre Noir, Olympian at 2004 Summer Olympics\\nEdwin Ramsey, lieutenant colonel in the 26th Cavalry Regiment during World War II, recipient of the Distinguished Service Cross, led the last cavalry charge in American military history\\nGeneral Fahrettin Altay, commander of the V. Cavalry Division of the Turkish 1st Army during the Turkish War of Independence, which was instrumental in victory over the invading Greek Army. His name is given to the new Turkish battle tank Altay. Atat\\xc3\\xbcrk\\'\\xc3\\xbcn B\\xc3\\xbct\\xc3\\xbcn Eserleri, Cilt 27, Kaynak Yay\\xc4\\xb1nlar\\xc4\\xb1, 1998, ISBN 978-975-343-235-1, p. 81.\\n\\n\\n== Gallery ==\\n\\n\\t\\t\\n\\t\\t\\n\\t\\t\\n\\t\\t\\n\\t\\t\\n\\t\\t\\n\\t\\t\\n\\t\\t\\n\\t\\t\\n\\t\\t\\n\\n\\n== See also ==\\nCavalry tactics\\nShock tactics\\nHorses in warfare\\nArmored reconnaissance \\xe2\\x80\\x93 a modern role in most militaries for \\'cavalry\\' titled units\\n\\n\\n== Notes ==\\n\\n\\n== References ==\\nEbrey, Walthall, Palais (2006). East Asia: A Cultural, Social, and Political History. Boston: Houghton Mifflin Company.{{cite book}}:  CS1 maint: uses authors parameter (link)\\nEbrey, Patricia Buckley (1999). The Cambridge Illustrated History of China. Cambridge: Cambridge University Press. ISBN 0-521-43519-6.\\nFalls, Cyril; G. MacMunn (1930). Military Operations Egypt & Palestine from the outbreak of war with Germany to June 1917. Official History of the Great War Based on Official Documents by Direction of the Historical Section of the Committee of Imperial Defence. Vol. 1. London: HM Stationery Office. OCLC 610273484.\\nFalls, Cyril; A. F. Becke (maps) (1930). Military Operations Egypt & Palestine from June 1917 to the End of the War. Official History of the Great War Based on Official Documents by Direction of the Historical Section of the Committee of Imperial Defence. Vol. 2 Part I. London: HM Stationery Office. OCLC 644354483.\\nFalls, Cyril; A. F. Becke (maps) (1930). Military Operations Egypt & Palestine from June 1917 to the End of the War. Official History of the Great War Based on Official Documents by Direction of the Historical Section of the Committee of Imperial Defence. Vol. 2 Part II. London: HM Stationery Office. OCLC 256950972.\\nLynn, John Albert, Giant of the Grand Si\\xc3\\xa8cle: The French Army, 1610\\xe2\\x80\\x931715, Cambridge University Press, 1997\\nMenon, Shanti (April 1995). \"Chariot racers of the Steppes\". Discover. Archived from the original on 2007-10-13.\\nMuir, William (1883). Annals of the Early Caliphate: From Original Sources. London: Smith, Elder & co.\\nNeedham, Joseph (1986). Science and Civilization in China. Vol. 4, Physics and Physical Technology, Part 2, Mechanical Engineering. Taipei: Caves Books, Ltd.\\nPargiter, Frederick Eden, Dr., Chronology based on: Ancient Indian Historical Tradition, Oxford University Press, H. Milford, 1924, Reprint 1997\\nPeers, C. J. (2006). Soldiers of the Dragon: Chinese Armies 1500 BC\\xe2\\x80\\x93AD 1840. Oxford: Osprey Publishing.\\nRodger, N. A. M. (1999). The Safeguard of the Sea: A Naval History of Britain 660\\xe2\\x80\\x931649. W. W. Norton & Co Ltd. ISBN 0-393-04579-X.\\n\\n\\n== External links ==\\n\\nCavalryScouts.org\\nNapoleonic Cavalry\\nCavalry tactics from Francis J. Lippitt\\'s, A Treatise on the Tactical Use of the Three Arms: Infantry, Artillery and Cavalry (1865)\\nCavalry in Mass (U.S. report on Russian cavalry organization and operations in World War II)\\nSociety of the Military Horse\\nGesellschaft der Freunde der Kavallerie (German)\\nThe Horse and Mule in the British Army during WW1\\nHistoric films showing cavalry during World War I at europeanfilmgateway.eu', shape=(), dtype=string)\n",
            "Label\n",
            "tf.Tensor(b'political-science.txt', shape=(), dtype=string)\n",
            "Text\n",
            "tf.Tensor(b'Bernard Bailyn (September 10, 1922 \\xe2\\x80\\x93 August 7, 2020) was an American historian, author, and academic specializing in U.S. Colonial and Revolutionary-era History. He was a professor at Harvard University from 1953.  Bailyn won the Pulitzer Prize for History twice (in 1968 and 1987). In 1998 the National Endowment for the Humanities selected him for the Jefferson Lecture. He was a recipient of the 2010 National Humanities Medal.\\nHe specialized in American colonial and revolutionary-era history, looking at merchants, demographic trends, Loyalists, international links across the Atlantic, and especially the political ideas that motivated the Patriots. He was best known for studies of republicanism and Atlantic history that transformed the scholarship in those fields. He was elected a Fellow of the American Academy of Arts and Sciences in 1963.\\n\\n\\n== Education ==\\nBailyn was born in Hartford, Connecticut in 1922, the son of Esther (Schloss) and Charles Manuel Bailyn. His family was Jewish. Bailyn earned his bachelor\\'s degree from Williams College in 1945 and in 1953 earned his Ph.D from Harvard University. He was associated with Harvard for the rest of his life. As a graduate student at Harvard, he studied under Perry Miller, Samuel Eliot Morison, and Oscar Handlin.  He was made a full professor in 1961, and professor emeritus in 1993.  In 1979, he received an honorary doctorate from Grinnell College in Grinnell, Iowa.\\n\\n\\n== History books ==\\nBernard Bailyn was the author and editor of The ideological origins of the American Revolution, an extensive work covering the pamphlets of the American Revolution, the first volume of which, published in 1965, was awarded the Faculty Prize of the Harvard University Press for that year, and editor of The Apologia of Robert Keayne (1965) and the two-volume Debate on the Constitution (1993).\\nHe co-authored The Great Republic (1977), an American history textbook, and was co-editor of The Intellectual Migration, Europe and America, 1930\\xe2\\x80\\x931960 (1969), Law in American History (1972), The Press and the American Revolution (1980), and Strangers within the Realm: Cultural Margins of the First British Empire.\\n\\n\\n== Major themes and ideas ==\\nBailyn\\'s dissertation and first publications dealt with New England merchants. He argued that international commerce was an uncertain business, given the high risk of losses at sea in the very long turnaround times meant that  information was  often too old to be useful.  Merchants reduced the uncertainty by pooling their resources, especially with  marriages to other merchant families, and placing their kinfolk as trusted agents  in London and other foreign ports.\\nInternational commerce became a chief means of growing rich in  colonial Massachusetts. However, there was an ongoing tension between  the entrepreneurial spirit on the one hand  and traditional Puritan culture on the other.   The world of merchants became an engine of social change, undermining the isolationism, scholasticism, and religious zeal of the Puritan leadership. Bailyn pointed the younger generation of historians away from Puritan theology and toward broader social and economic forces. Bailyn expanded his research to the social structure of Virginia, showing how its leadership class was transformed in the 1660s. Like Edmund Morgan at Brown University and Yale, Bailyn emphasized the multiple roles of the family in the colonial social system.Bailyn is known for meticulous research and for interpretations that sometimes challenge the conventional wisdom, especially those dealing with the causes and effects of the American Revolution. In his most influential work, The Ideological Origins of the American Revolution, Bailyn analyzed pre-Revolutionary political pamphlets to show that colonists believed the British intended to establish a tyrannical state that would abridge the historical British rights. He thus argued that the Revolutionary rhetoric of liberty and freedom was not simply propagandistic but rather central to their understanding of the situation. This evidence was used to displace Charles A. Beard\\'s theory, then the dominant understanding of the American Revolution, that the American Revolution was primarily a matter of class warfare and that the rhetoric of liberty was meaningless.  Bailyn maintained that ideology was ingrained in the revolutionaries, an attitude he said exemplified the \"transforming radicalism of the American Revolution.\"Bailyn argued that republicanism was at the core of the values French radical thinkers had striven to affirm.  He located the intellectual sources of the American Revolution within a broader British political framework, explaining how English country Whig ideas about civic virtue, corruption, ancient rights, and fear of autocracy were, in the colonies, transformed into the ideology of republicanism.\\nAccording to Bailyn,\\n\\nThe modernization of American Politics and government during and after the Revolution took the form of a sudden, radical realization of the program that had first been fully set forth by the opposition intelligentsia ... in the reign of George the First. Where the English opposition, forcing its way against a complacent social and political order, had only striven and dreamed, Americans driven by the same aspirations but living in a society in many ways modern, and now released politically, could suddenly act.  Where the French opposition had vainly agitated for partial reforms ... American leaders moved swiftly and with little social disruption to implement systematically the outermost possibilities of the whole range of radically libertarian ideas.\\nIn the process they ... infused into American political culture ... the major themes of eighteenth-century radical libertarianism brought to realization here. The first is the belief that power is evil, a necessity perhaps but an evil necessity; that it is infinitely corrupting; and that it must be controlled, limited, restricted in every way compatible with a minimum of civil order.  Written constitutions; the separation of powers; bill of rights; limitations on executives, on legislatures, and courts; restrictions on the right to coerce and wage war\\xe2\\x80\\x94all express the profound distrust of power that lies at the ideological heart of the American Revolution and that has remained with us as a permanent legacy ever after.\\nBailyn\\'s approach to the constellation of Whig ideas is artfully diachronic rather than structural; that is, contested libertarian meanings change through time as \"the colonists\" struggle to define, and to pursue, the property of independence. Recent historians, such as Tufts University wiki-skeptic and CUNY professor Benjamin Carp, hold that more than any other \"colonist,\" Boston waterfront rebels channeled their \"cosmopolitanism into a belief that \\'the cause of America\\' was a libertarian \\'cause for all mankind\\'\" (Carp, Rebels Rising, 61).\\n\\n\\n== Social history ==\\nIn the 1980s, Bailyn turned from political and intellectual history to social and demographic history. His histories of the peopling of colonial North America explored questions of immigration, cultural contact, and settlement that his mentor Handlin had pioneered decades earlier.\\nBailyn was a major innovator in new research techniques, such as quantification, collective biography, and kinship analysis.Bailyn is representative of those scholars who believe in the concept of American exceptionalism but avoid the terminology, and thereby avoid getting entangled in rhetorical debates. According to Michael Kammen and Stanley N. Katz:\\n\\n[Bailyn] is very clearly a believer in the distinctiveness of American civilization. Although he rarely, if ever, uses the phrase \"American exceptionalism,\" he repeatedly insists upon the \"distinctive characteristics of British North American life.\" He has argued...that the process of social and cultural transmission resulted in peculiarly American patterns of education (in the broadest sense of the word); and he believes in the unique character of the American Revolution.\\n\\n\\n== Atlantic history ==\\nAs a leading advocate of Atlantic history, Bailyn organized an annual international seminar on the \"History of the Atlantic World\" from the mid-1980s onward. Through the seminar, he promoted social and demographic studies, especially regarding flows of population into colonial America.  Bailyn\\'s Atlantic History: Concepts and Contours (2005) explores the borders and contents of the emerging field, which emphasizes cosmopolitan and multicultural elements that have tended to be neglected or considered in isolation by traditional historiography dealing with the Americas.\\n\\n\\n== Personal life ==\\nBailyn was married to MIT Professor of Management Lotte Bailyn (n\\xc3\\xa9e Lazarsfeld). His two sons are Charles Bailyn, who is an astrophysicist at Yale University, and John Bailyn, a linguist at Stony Brook University.Bailyn died on August 7, 2020, at his home in Belmont, Massachusetts.  He was 97, and suffered from heart failure.\\n\\n\\n== Students ==\\nFormer students of Bailyn include Pulitzer Prize winners Michael Kammen, Jack N. Rakove, and Gordon S. Wood, as well as Pulitzer Prize finalist Mary Beth Norton. Other notable Bailyn students include:\\n\\nFred Anderson (Crucible of War and A People\\'s Army);\\nVirginia DeJohn Anderson (Creatures of Empire)\\nMary Sarah Bilder\\nRichard L. Bushman (From Puritan to Yankee);\\nPhilip J. Greven (The Protestant Temperament, Spare the Child);\\nRichard D. Brown (Revolutionary Politics in Massachusetts: The Boston Committee of Correspondence and the Towns, 1772\\xe2\\x80\\x931774 and Knowledge Is Power: The Diffusion of Information in Early America, 1700\\xe2\\x80\\x931865);\\nSally E. Hadden (Slave Patrols)\\nDavid Hancock (historian) (\"Oceans of Wine: Madeira and the Emergence of American Trade and Taste,\" \"Citizens of the World: London Merchants and the Integration of the British Atlantic Community, 1735\\xe2\\x80\\x931785)\\nJames Henretta (Families and farms: Mentalit\\xc3\\xa9 in Pre-Industrial America);\\nPeter Charles Hoffer (Law and People in Colonial America, among others)\\nDaniel Hulsebosch, Russell D. Niles Professor of Law at New York University School of Law\\nStanley N. Katz (Newcastle\\'s New York)\\nJames Kettner (The Development of American Citizenship, 1608-1870)\\nDavid Konig, Washington University in St. Louis professor of law and history\\nPauline Maier (American Scripture on the Declaration and Ratification: The People Debate the Constitution, 1787\\xe2\\x80\\x931788, winner of the 2011 George Washington Book Prize and the Fraunces Tavern Book Prize);\\nWilliam E. Nelson, legal and constitutional historian and Edward Weinfeld Professor of Law at New York University School of Law, author of The Fourteenth Amendment: From Political Principle to Judicial Doctrine (1988), winner of the Littleton-Griswold Prize of the American Historical Association, and many other books\\nDaniel Oliver (policymaker), former executive editor of National Review and former chairman of the Federal Trade Commission\\nJeffrey Pasley (The First Presidential Contest, The Tyranny of Printers, Beyond the Founders\\nMark A. Peterson (The City State of Boston);\\nGeorge David Smith (practitioner of applied economic and business history and founding partner of The Winthrop Group, Inc.  Anatomy  of a Business Strategy\" [Co-winner: Best book on Business and Industry, American Publishers\\' Assn.]; \"From Monopoly to Competition;\" \"The New Financial Capitalists, with George Baker; History of The Firm [McKinsey & Co.], lead author,\\nPeter H. Wood (Black Majority);\\nMichael Zuckerman (Peaceable Kingdoms)Many of these historians have gone on to train a new generation of American historians; others have branched out into fields as diverse as law and the history of science.\\n\\n\\n== See also ==\\nEarly American publishers and printers#American Revolution\\n\\n\\n== Bibliography ==\\nBailyn, Bernard (1955). The New England merchants in the Seventeenth Century. Harvard University Press. ISBN 978-0-674-61280-8.\\nMassachusetts Shipping, 1697\\xe2\\x80\\x931714: A Statistical Study. (with Lotte Bailyn) Harvard University Press, 1959.\\nEducation in the Forming of American Society: Needs and Opportunities for Study. University of North Carolina Press, 1960.\\nBailyn, Bernard (1967). The ideological origins of the American Revolution. Cambridge, Belknap Press of Harvard University Press.\\nThe Ideological Origins of the American Revolution. Harvard University Press, 1967; awarded the Pulitzer Prize and the Bancroft Prize in 1968.\\nThe Origins of American Politics. Knopf, 1968.\\nThe Ordeal of Thomas Hutchinson. Harvard University Press, 1974; winner of the 1975 National Book Award in History.\\nThe Great Republic: A History of the American People. Little, Brown, 1977; coauthored college textbook; several editions.\\nThe Peopling of British North America: An Introduction. Knopf, 1986.\\nVoyagers to the West: A Passage in the Peopling of America on the Eve of the Revolution. Knopf, 1986; won the Pulitzer Prize in History, the Saloutos Award of the Immigration History Society, and distinguished book awards from the Society of Colonial Wars and the Society of the Cincinnati.\\nFaces of Revolution: Personalities and Themes in the Struggle for American Independence. Knopf, 1990.\\nBailyn, Bernard, ed. The Debate on the Constitution: Federalist and Antifederalist Speeches, Articles, and Letters During the Struggle for Ratification. Part One: September 1787 to February 1788. Library of America, 1993. ISBN 978-0-940450-42-4\\nBailyn, Bernard, ed. The Debate on the Constitution: Federalist and Antifederalist Speeches, Articles, and Letters During the Struggle for Ratification. Part Two: January to August 1788. Library of America, 1993. ISBN 978-0-940450-64-6\\nOn the Teaching and Writing of History. 1994.\\n\\xe2\\x80\\x94 (March 1996). \"Context in history\". History. Quadrant. 40 (3): 9\\xe2\\x80\\x9315.\\nTo Begin the World Anew: The Genius and Ambiguities of the American Founders. Knopf, 2003.\\nAtlantic History: Concept and Contours. Harvard University Press, 2005.\\nThe Barbarous Years: The Peopling of British North America: The Conflict of Civilizations, 1600\\xe2\\x80\\x931675, Alfred A. Knopf, 2012, ISBN 978-0-394-51570-0.\\nSometimes an Art: Nine Essays on History, Alfred A. Knopf, 2015, ISBN 978-1-101-87447-9.\\n\\n\\n== References ==\\n\\n\\n== Further reading ==\\nBoyd, Kelly, ed. Encyclopedia of Historians and Historical Writers (Rutledge, 1999)  1:66\\xe2\\x80\\x9368.\\nCoclanis, Peter A. \"Drang Nach Osten: Bernard Bailyn, the World-Island, and the Idea of Atlantic History.\" Journal of World History 13.1 (2002): 169\\xe2\\x80\\x93182.\\nEkirch, A. Roger  \"Bernard Bailyn,\" in Clyde N. Wilson, ed. Twentieth-century American Historians  (Gale Research Company, 1983) pp 19\\xe2\\x80\\x9326\\nKammen,  Michael and Stanley N. Katz, \"Bernard Bailyn, Historian, and Teacher: An Appreciation.\" in James A. Henretta, Michael K\\xc3\\xa4mmen, and Stanley N. Katz, eds. The Transformation of Early American History: Society, Authority, and Ideology (1991) pp 3\\xe2\\x80\\x9315\\nRakove, Jack N. \"\\'How Else Could It End?\\' Bernard Bailyn and the Problem of Authority and Early America.\"  in James A. Henretta, Michael K\\xc3\\xa4mmen, and Stanley N. Katz, eds. The Transformation of Early American History: Society, Authority, and Ideology (1991) pp 51\\xe2\\x80\\x9369\\nRakove, Jack N. \"Bernard Bailyn\" in Robert Allen Rutland, ed. \"Clio\\'s Favorites: Leading Historians of the United States, 1945\\xe2\\x80\\x932000\" (U of Missouri Press. 2000) pp  5\\xe2\\x80\\x9322.\\nWood, Gordon. \"The creative imagination of Bernard Bailyn,\" in James A. Henretta, Michael K\\xc3\\xa4mmen, and Stanley N. Katz, eds. The Transformation of Early American History: Society, Authority, and Ideology (1991) pp 16\\xe2\\x80\\x9350.\\n\\n\\n== External links ==\\n\\n\"To Begin the World Anew\"-Politics and the Creative Imagination Jefferson Lecture for the National Endowment for the Humanities\\nBernard Bailyn: An Appreciation\\nConsidering the Slave Trade: History and Memory\\nHistory News Network\\nAppearances on C-SPAN\\n\"Into the Wilderness: \\xe2\\x80\\x98The Barbarous Years,\\xe2\\x80\\x99 by Bernard Bailyn\", Charles C. Mann, The New York Times, 4 January 2013', shape=(), dtype=string)\n",
            "Label\n",
            "tf.Tensor(b'political-science.txt', shape=(), dtype=string)\n",
            "Text\n",
            "tf.Tensor(b'The House of Representatives (Majlis al-Nuwaab) is the lower house of the Parliament of Yemen. It shares the legislative power with the Shura Council, the upper house. The Assembly of Representatives has 301 members, elected for a six-year term in single-seat constituencies. It is one of the rare parliamentary chambers in the world to currently have no female representation.The House of Representatives was established in 1990 after the unification of Yemen for a transitional period. An election hasn\\'t been held for the body since 2003. An election was set for 27 April 2009, but president Saleh postponed it by two years on 24 February 2009. However, the election did not take place on 27 April 2011, and was again postponed until the next presidential election, sometime in February 2014.\\nIn January 2014, the final session of the National Dialogue Conference (NDC) announced that both elections had been delayed, and would occur within 9 months of a referendum on a new constitution which had yet to be drafted. However both the GPC and Houthi representatives on the National Authority for Monitoring the Implementation of NDC Outcomes have refused to vote on the new constitution drafted by the constitution drafting committee, which submitted it in January 2015.In February 2015, the Houthis briefly dissolved parliament before reportedly agreeing to reinstate the 301-member assembly in UN-brokered talks. Under the agreement, it will be augmented by a \"people\\'s transitional council\" serving as the upper house.Since the civil war, the House of Representatives had held semi-regular sessions in San\\'aa in Houthi-held territory. In 13 April 2019, the first session was held in Seiyun, in Hadi-controlled Hadhramaut Governorate.\\n\\n\\n== Latest elections ==\\nThe last parliamentary election in Yemen took place in 2003.\\n\\n\\n== See also ==\\nList of speakers of the House of Representatives of Yemen\\nPolitics of Yemen\\nList of legislatures by country\\n\\n\\n== References ==', shape=(), dtype=string)\n",
            "Label\n",
            "tf.Tensor(b'political-science.txt', shape=(), dtype=string)\n"
          ]
        }
      ],
      "source": [
        "for text, label in ds_train.take(5):\n",
        "  print('Text')\n",
        "  print(text)\n",
        "  print('Label')\n",
        "  print(label)"
      ],
      "id": "YZIKcnCiYf-D"
    },
    {
      "cell_type": "code",
      "execution_count": null,
      "metadata": {
        "colab": {
          "base_uri": "https://localhost:8080/",
          "height": 948
        },
        "id": "DmrzbcNs7E_a",
        "outputId": "de4e54c7-9ac3-4667-d15b-763052bd8584"
      },
      "outputs": [
        {
          "data": {
            "application/vnd.jupyter.widget-view+json": {
              "model_id": "952e0390f98e4052893fcff8fa07ddf5",
              "version_major": 2,
              "version_minor": 0
            },
            "text/plain": [
              "Downloading:   0%|          | 0.00/226k [00:00<?, ?B/s]"
            ]
          },
          "metadata": {},
          "output_type": "display_data"
        },
        {
          "data": {
            "application/vnd.jupyter.widget-view+json": {
              "model_id": "d8da4d07a5f14100ad748e4f713c6e8c",
              "version_major": 2,
              "version_minor": 0
            },
            "text/plain": [
              "Downloading:   0%|          | 0.00/28.0 [00:00<?, ?B/s]"
            ]
          },
          "metadata": {},
          "output_type": "display_data"
        },
        {
          "data": {
            "application/vnd.jupyter.widget-view+json": {
              "model_id": "6749b5b0df3a470ab4f347d171151dfb",
              "version_major": 2,
              "version_minor": 0
            },
            "text/plain": [
              "Downloading:   0%|          | 0.00/570 [00:00<?, ?B/s]"
            ]
          },
          "metadata": {},
          "output_type": "display_data"
        },
        {
          "data": {
            "application/vnd.jupyter.widget-view+json": {
              "model_id": "7e8e96f8a9364de682cdfeb707139632",
              "version_major": 2,
              "version_minor": 0
            },
            "text/plain": [
              "Downloading:   0%|          | 0.00/511M [00:00<?, ?B/s]"
            ]
          },
          "metadata": {},
          "output_type": "display_data"
        },
        {
          "name": "stderr",
          "output_type": "stream",
          "text": [
            "Some layers from the model checkpoint at bert-base-uncased were not used when initializing TFBertModel: ['mlm___cls', 'nsp___cls']\n",
            "- This IS expected if you are initializing TFBertModel from the checkpoint of a model trained on another task or with another architecture (e.g. initializing a BertForSequenceClassification model from a BertForPreTraining model).\n",
            "- This IS NOT expected if you are initializing TFBertModel from the checkpoint of a model that you expect to be exactly identical (initializing a BertForSequenceClassification model from a BertForSequenceClassification model).\n",
            "All the layers of TFBertModel were initialized from the model checkpoint at bert-base-uncased.\n",
            "If your task is similar to the task the model of the checkpoint was trained on, you can already use TFBertModel for predictions without further training.\n"
          ]
        },
        {
          "ename": "ValueError",
          "evalue": "ignored",
          "output_type": "error",
          "traceback": [
            "\u001b[0;31m---------------------------------------------------------------------------\u001b[0m",
            "\u001b[0;31mValueError\u001b[0m                                Traceback (most recent call last)",
            "\u001b[0;32m<ipython-input-26-0cf200397445>\u001b[0m in \u001b[0;36m<module>\u001b[0;34m()\u001b[0m\n\u001b[1;32m     24\u001b[0m \u001b[0mencoded_input\u001b[0m \u001b[0;34m=\u001b[0m \u001b[0mds_train\u001b[0m\u001b[0;34m.\u001b[0m\u001b[0mbatch\u001b[0m\u001b[0;34m(\u001b[0m\u001b[0;36m256\u001b[0m\u001b[0;34m)\u001b[0m\u001b[0;34m.\u001b[0m\u001b[0mmap\u001b[0m\u001b[0;34m(\u001b[0m\u001b[0mtf_hf_bertencodeds\u001b[0m\u001b[0;34m)\u001b[0m\u001b[0;34m\u001b[0m\u001b[0;34m\u001b[0m\u001b[0m\n\u001b[1;32m     25\u001b[0m \u001b[0moutput\u001b[0m \u001b[0;34m=\u001b[0m \u001b[0mtransformers\u001b[0m\u001b[0;34m.\u001b[0m\u001b[0mTFBertModel\u001b[0m\u001b[0;34m(\u001b[0m\u001b[0mconfig\u001b[0m\u001b[0;34m=\u001b[0m\u001b[0mtransformers\u001b[0m\u001b[0;34m.\u001b[0m\u001b[0mPretrainedConfig\u001b[0m\u001b[0;34m.\u001b[0m\u001b[0mfrom_json_file\u001b[0m\u001b[0;34m(\u001b[0m\u001b[0mstr\u001b[0m\u001b[0;34m(\u001b[0m\u001b[0msave_path\u001b[0m\u001b[0;34m/\u001b[0m\u001b[0;34m\"config.json\"\u001b[0m\u001b[0;34m)\u001b[0m\u001b[0;34m)\u001b[0m\u001b[0;34m)\u001b[0m\u001b[0;34m\u001b[0m\u001b[0;34m\u001b[0m\u001b[0m\n\u001b[0;32m---> 26\u001b[0;31m \u001b[0mhf_bert\u001b[0m \u001b[0;34m=\u001b[0m \u001b[0moutput\u001b[0m\u001b[0;34m(\u001b[0m\u001b[0mencoded_input\u001b[0m\u001b[0;34m)\u001b[0m\u001b[0;34m\u001b[0m\u001b[0;34m\u001b[0m\u001b[0m\n\u001b[0m",
            "\u001b[0;32m/usr/local/lib/python3.7/dist-packages/keras/utils/traceback_utils.py\u001b[0m in \u001b[0;36merror_handler\u001b[0;34m(*args, **kwargs)\u001b[0m\n\u001b[1;32m     65\u001b[0m     \u001b[0;32mexcept\u001b[0m \u001b[0mException\u001b[0m \u001b[0;32mas\u001b[0m \u001b[0me\u001b[0m\u001b[0;34m:\u001b[0m  \u001b[0;31m# pylint: disable=broad-except\u001b[0m\u001b[0;34m\u001b[0m\u001b[0;34m\u001b[0m\u001b[0m\n\u001b[1;32m     66\u001b[0m       \u001b[0mfiltered_tb\u001b[0m \u001b[0;34m=\u001b[0m \u001b[0m_process_traceback_frames\u001b[0m\u001b[0;34m(\u001b[0m\u001b[0me\u001b[0m\u001b[0;34m.\u001b[0m\u001b[0m__traceback__\u001b[0m\u001b[0;34m)\u001b[0m\u001b[0;34m\u001b[0m\u001b[0;34m\u001b[0m\u001b[0m\n\u001b[0;32m---> 67\u001b[0;31m       \u001b[0;32mraise\u001b[0m \u001b[0me\u001b[0m\u001b[0;34m.\u001b[0m\u001b[0mwith_traceback\u001b[0m\u001b[0;34m(\u001b[0m\u001b[0mfiltered_tb\u001b[0m\u001b[0;34m)\u001b[0m \u001b[0;32mfrom\u001b[0m \u001b[0;32mNone\u001b[0m\u001b[0;34m\u001b[0m\u001b[0;34m\u001b[0m\u001b[0m\n\u001b[0m\u001b[1;32m     68\u001b[0m     \u001b[0;32mfinally\u001b[0m\u001b[0;34m:\u001b[0m\u001b[0;34m\u001b[0m\u001b[0;34m\u001b[0m\u001b[0m\n\u001b[1;32m     69\u001b[0m       \u001b[0;32mdel\u001b[0m \u001b[0mfiltered_tb\u001b[0m\u001b[0;34m\u001b[0m\u001b[0;34m\u001b[0m\u001b[0m\n",
            "\u001b[0;32m/usr/local/lib/python3.7/dist-packages/transformers/modeling_tf_utils.py\u001b[0m in \u001b[0;36mrun_call_with_unpacked_inputs\u001b[0;34m(self, *args, **kwargs)\u001b[0m\n\u001b[1;32m    386\u001b[0m         \u001b[0mmain_input_name\u001b[0m \u001b[0;34m=\u001b[0m \u001b[0mgetattr\u001b[0m\u001b[0;34m(\u001b[0m\u001b[0mself\u001b[0m\u001b[0;34m,\u001b[0m \u001b[0;34m\"main_input_name\"\u001b[0m\u001b[0;34m,\u001b[0m \u001b[0mfunc\u001b[0m\u001b[0;34m.\u001b[0m\u001b[0m__code__\u001b[0m\u001b[0;34m.\u001b[0m\u001b[0mco_varnames\u001b[0m\u001b[0;34m[\u001b[0m\u001b[0;36m1\u001b[0m\u001b[0;34m]\u001b[0m\u001b[0;34m)\u001b[0m\u001b[0;34m\u001b[0m\u001b[0;34m\u001b[0m\u001b[0m\n\u001b[1;32m    387\u001b[0m         \u001b[0mmain_input\u001b[0m \u001b[0;34m=\u001b[0m \u001b[0mfn_args_and_kwargs\u001b[0m\u001b[0;34m.\u001b[0m\u001b[0mpop\u001b[0m\u001b[0;34m(\u001b[0m\u001b[0mmain_input_name\u001b[0m\u001b[0;34m,\u001b[0m \u001b[0;32mNone\u001b[0m\u001b[0;34m)\u001b[0m\u001b[0;34m\u001b[0m\u001b[0;34m\u001b[0m\u001b[0m\n\u001b[0;32m--> 388\u001b[0;31m         \u001b[0munpacked_inputs\u001b[0m \u001b[0;34m=\u001b[0m \u001b[0minput_processing\u001b[0m\u001b[0;34m(\u001b[0m\u001b[0mfunc\u001b[0m\u001b[0;34m,\u001b[0m \u001b[0mself\u001b[0m\u001b[0;34m.\u001b[0m\u001b[0mconfig\u001b[0m\u001b[0;34m,\u001b[0m \u001b[0mmain_input\u001b[0m\u001b[0;34m,\u001b[0m \u001b[0;34m**\u001b[0m\u001b[0mfn_args_and_kwargs\u001b[0m\u001b[0;34m)\u001b[0m\u001b[0;34m\u001b[0m\u001b[0;34m\u001b[0m\u001b[0m\n\u001b[0m\u001b[1;32m    389\u001b[0m         \u001b[0;32mreturn\u001b[0m \u001b[0mfunc\u001b[0m\u001b[0;34m(\u001b[0m\u001b[0mself\u001b[0m\u001b[0;34m,\u001b[0m \u001b[0;34m**\u001b[0m\u001b[0munpacked_inputs\u001b[0m\u001b[0;34m)\u001b[0m\u001b[0;34m\u001b[0m\u001b[0;34m\u001b[0m\u001b[0m\n\u001b[1;32m    390\u001b[0m \u001b[0;34m\u001b[0m\u001b[0m\n",
            "\u001b[0;32m/usr/local/lib/python3.7/dist-packages/transformers/modeling_tf_utils.py\u001b[0m in \u001b[0;36minput_processing\u001b[0;34m(func, config, input_ids, **kwargs)\u001b[0m\n\u001b[1;32m    515\u001b[0m         \u001b[0;32melse\u001b[0m\u001b[0;34m:\u001b[0m\u001b[0;34m\u001b[0m\u001b[0;34m\u001b[0m\u001b[0m\n\u001b[1;32m    516\u001b[0m             raise ValueError(\n\u001b[0;32m--> 517\u001b[0;31m                 \u001b[0;34mf\"Data of type {type(input_ids)} is not allowed only {allowed_types} is accepted for\"\u001b[0m\u001b[0;34m\u001b[0m\u001b[0;34m\u001b[0m\u001b[0m\n\u001b[0m\u001b[1;32m    518\u001b[0m                 \u001b[0;34mf\" {parameter_names[0]}.\"\u001b[0m\u001b[0;34m\u001b[0m\u001b[0;34m\u001b[0m\u001b[0m\n\u001b[1;32m    519\u001b[0m             )\n",
            "\u001b[0;31mValueError\u001b[0m: Exception encountered when calling layer \"tf_bert_model_1\" (type TFBertModel).\n\nData of type <class 'tensorflow.python.data.ops.dataset_ops.MapDataset'> is not allowed only (<class 'tensorflow.python.framework.ops.Tensor'>, <class 'bool'>, <class 'int'>, <class 'transformers.utils.generic.ModelOutput'>, <class 'tuple'>, <class 'list'>, <class 'dict'>, <class 'numpy.ndarray'>, <class 'tensorflow.python.keras.engine.keras_tensor.KerasTensor'>) is accepted for input_ids.\n\nCall arguments received by layer \"tf_bert_model_1\" (type TFBertModel):\n  • input_ids=<MapDataset element_spec=(TensorSpec(shape=<unknown>, dtype=tf.int64, name=None), TensorSpec(shape=<unknown>, dtype=tf.int64, name=None))>\n  • attention_mask=None\n  • token_type_ids=None\n  • position_ids=None\n  • head_mask=None\n  • inputs_embeds=None\n  • encoder_hidden_states=None\n  • encoder_attention_mask=None\n  • past_key_values=None\n  • use_cache=None\n  • output_attentions=None\n  • output_hidden_states=None\n  • return_dict=None\n  • training=False"
          ]
        }
      ],
      "source": [
        "## This is currently broken - Still tryign to get the TFBertModel to accept the token string in.\n",
        "max_len = 384\n",
        "hf_bert_tokenizer_bootstrapper = transformers.BertTokenizer.from_pretrained(\"bert-base-uncased\")\n",
        "hf_bert_model = transformers.TFBertModel.from_pretrained(\"bert-base-uncased\")\n",
        "\n",
        "save_path = Path(\"data\") / \"models\"\n",
        "if not os.path.exists(save_path):\n",
        "    os.makedirs(save_path, exist_ok=True)\n",
        "hf_bert_tokenizer_bootstrapper.save_pretrained(save_path)\n",
        "hf_bert_model.save_pretrained(save_path)\n",
        "\n",
        "# Load the fast tokenizer from saved file\n",
        "bert_tokenizer = tokenizers.BertWordPieceTokenizer(str(save_path/\"vocab.txt\"), lowercase=True)\n",
        "\n",
        "def tf_hf_bertencode(features, label):\n",
        "    x = bert_tokenizer.encode(tf.compat.as_str(features), add_special_tokens=True)\n",
        "    y = bert_tokenizer.encode(tf.compat.as_str(label), add_special_tokens=True)\n",
        "    return x, y\n",
        "\n",
        "def tf_hf_bertencodeds(features, label):\n",
        "    encode = tf.py_function(func=tf_hf_bertencode, inp=[features, label], Tout=[tf.int64, tf.int64])\n",
        "    return encode\n",
        "\n",
        "encoded_input = ds_train.batch(256).map(tf_hf_bertencodeds)\n",
        "output = transformers.TFBertModel(config=transformers.PretrainedConfig.from_json_file(str(save_path/\"config.json\")))\n",
        "hf_bert = output(encoded_input)"
      ],
      "id": "DmrzbcNs7E_a"
    },
    {
      "cell_type": "code",
      "execution_count": null,
      "metadata": {
        "id": "_0PozHTddO9m"
      },
      "outputs": [],
      "source": [
        ""
      ],
      "id": "_0PozHTddO9m"
    },
    {
      "cell_type": "code",
      "execution_count": null,
      "metadata": {
        "id": "tbZFwexn7E_a"
      },
      "outputs": [],
      "source": [
        "\n",
        "files = [] # Need to explode train_ds to sep files\n",
        "\n",
        "tokenizer = tokenizers.BertWordPieceTokenizer(\n",
        "    clean_text=True,\n",
        "    handle_chinese_chars=True,\n",
        "    strip_accents=True,\n",
        "    lowercase=True,\n",
        ")\n",
        "\n",
        "tokenizer.train(\n",
        "    files,\n",
        "    vocab_size=10000,\n",
        "    min_frequency=2,\n",
        "    show_progress=True,\n",
        "    special_tokens=[\"[PAD]\", \"[UNK]\", \"[CLS]\", \"[SEP]\", \"[MASK]\"],\n",
        "    limit_alphabet=1000,\n",
        "    wordpieces_prefix=\"##\",\n",
        ")\n",
        "\n",
        "# Save the files\n",
        "tokenizer.save_model(args.out, args.name)"
      ],
      "id": "tbZFwexn7E_a"
    },
    {
      "cell_type": "code",
      "execution_count": null,
      "metadata": {
        "id": "195d6bac"
      },
      "outputs": [],
      "source": [
        "\n",
        "files = [] # Need to explode train_ds to sep files\n",
        "\n",
        "tokenizer = tokenizers.BertWordPieceTokenizer(\n",
        "    clean_text=True,\n",
        "    handle_chinese_chars=True,\n",
        "    strip_accents=True,\n",
        "    lowercase=True,\n",
        ")\n",
        "\n",
        "tokenizer.train(\n",
        "    files,\n",
        "    vocab_size=10000,\n",
        "    min_frequency=2,\n",
        "    show_progress=True,\n",
        "    special_tokens=[\"[PAD]\", \"[UNK]\", \"[CLS]\", \"[SEP]\", \"[MASK]\"],\n",
        "    limit_alphabet=1000,\n",
        "    wordpieces_prefix=\"##\",\n",
        ")\n",
        "\n",
        "# Save the files\n",
        "tokenizer.save_model(args.out, args.name)"
      ],
      "id": "195d6bac"
    }
  ],
  "metadata": {
    "accelerator": "GPU",
    "colab": {
      "machine_shape": "hm",
      "name": "gpt2-model.ipynb",
      "provenance": [],
      "collapsed_sections": [
        "XPAdQkNTbnBF"
      ]
    },
    "gpuClass": "standard",
    "jupytext": {
      "formats": "ipynb,py:percent"
    },
    "kernelspec": {
      "display_name": "Python 3 (ipykernel)",
      "language": "python",
      "name": "python3"
    },
    "language_info": {
      "codemirror_mode": {
        "name": "ipython",
        "version": 3
      },
      "file_extension": ".py",
      "mimetype": "text/x-python",
      "name": "python",
      "nbconvert_exporter": "python",
      "pygments_lexer": "ipython3",
      "version": "3.9.13"
    }
  },
  "nbformat": 4,
  "nbformat_minor": 5
}