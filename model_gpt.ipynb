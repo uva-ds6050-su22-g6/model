{
  "cells": [
    {
      "cell_type": "markdown",
      "metadata": {
        "collapsed": false,
        "id": "17ed0b92"
      },
      "source": [
        "\n",
        "# DS6050 - Group 6\n",
        "* Andrej Erkelens <wsw3fa@virginia.edu>\n",
        "* Robert Knuuti <uqq5zz@virginia.edu>\n",
        "* Khoi Tran <kt2np@virginia.edu>\n",
        "\n",
        "## Abstract\n",
        "English is a verbose language with over 69% redundancy in its construction, and as a result, individuals only need to identify important details to comprehend an intended message.\n",
        "While there are strong efforts to quantify the various elements of language, the average individual can still comprehend a written message that has errors, either in spelling or in grammar.\n",
        "The emulation of the effortless, yet obscure task of reading, writing, and understanding language is the perfect challenge for the biologically-inspired methods of deep learning.\n",
        "Most language and text related problems rely upon finding high-quality latent representations to understand the task at hand. Unfortunately, efforts to overcome such problems are limited to the data and computation power available to individuals; data availability often presents the largest problem, with small, specific domain tasks often proving to be limiting.\n",
        "Currently, these tasks are often aided or overcome by pre-trained large language models (LLMs), designed by large corporations and laboratories.\n",
        "Fine-tuning language models on domain-specific vocabulary with small data sizes still presents a challenge to the language community, but the growing availability of LLMs to augment such models alleviates the challenge.\n",
        "This paper explores different techniques to be applied on existing language models (LMs), built highly complex Deep Learning models, and investigates how to fine-tune these models, such that a pre-trained model is used to enrich a more domain-specific model that may be limited in textual data.\n",
        "\n",
        "## Project Objective\n",
        "\n",
        "We are aiming on using several small domain specific language tasks, particularly classification tasks.\n",
        "We aim to take at least two models, probably BERT and distill-GPT2 as they seem readily available on HuggingFace and TensorFlow's model hub.\n",
        "We will iterate through different variants of layers we fine tune and compare these results with fully trained models, and ideally find benchmarks already in academic papers on all of the datasets.\n",
        "\n",
        "We aim to optimize compute efficiency and also effectiveness of the model on the given dataset. Our goal is to find a high performing and generalizable method for our fine tuning process and share this in our paper.\n"
      ],
      "id": "17ed0b92"
    },
    {
      "cell_type": "code",
      "execution_count": 1,
      "metadata": {
        "colab": {
          "base_uri": "https://localhost:8080/",
          "height": 35
        },
        "id": "f8971652",
        "outputId": "cf33b1a6-447c-499a-e283-8feaeda3db69"
      },
      "outputs": [
        {
          "output_type": "display_data",
          "data": {
            "application/javascript": [
              "IPython.notebook.set_autosave_interval(0)"
            ]
          },
          "metadata": {}
        },
        {
          "output_type": "stream",
          "name": "stdout",
          "text": [
            "Autosave disabled\n"
          ]
        }
      ],
      "source": [
        "%autosave 0"
      ],
      "id": "f8971652"
    },
    {
      "cell_type": "code",
      "execution_count": 2,
      "metadata": {
        "id": "M7fV1R567PdR"
      },
      "outputs": [],
      "source": [
        "!pip install -q tensorflow-text tokenizers transformers"
      ],
      "id": "M7fV1R567PdR"
    },
    {
      "cell_type": "code",
      "execution_count": 3,
      "metadata": {
        "id": "CUp8f1yr760r",
        "colab": {
          "base_uri": "https://localhost:8080/"
        },
        "outputId": "a5c0ecc7-cb40-4df2-9e2b-ead33ae50d8e"
      },
      "outputs": [
        {
          "output_type": "stream",
          "name": "stdout",
          "text": [
            "Drive already mounted at /content/drive; to attempt to forcibly remount, call drive.mount(\"/content/drive\", force_remount=True).\n"
          ]
        }
      ],
      "source": [
        "import tensorflow as tf\n",
        "import tensorflow_text as tf_text\n",
        "\n",
        "from google.colab import drive\n",
        "drive.mount('/content/drive')"
      ],
      "id": "CUp8f1yr760r"
    },
    {
      "cell_type": "code",
      "execution_count": 4,
      "metadata": {
        "colab": {
          "base_uri": "https://localhost:8080/"
        },
        "id": "j8jU9Dao-ZL5",
        "outputId": "ba31a73a-963d-4806-cf03-ee90fffc74a9"
      },
      "outputs": [
        {
          "output_type": "stream",
          "name": "stdout",
          "text": [
            "/content/drive/MyDrive/ds6050/git\n"
          ]
        }
      ],
      "source": [
        "%cd /content/drive/MyDrive/ds6050/git/"
      ],
      "id": "j8jU9Dao-ZL5"
    },
    {
      "cell_type": "code",
      "execution_count": 64,
      "metadata": {
        "id": "6eb2e492"
      },
      "outputs": [],
      "source": [
        "import os\n",
        "from pathlib import Path\n",
        "\n",
        "import matplotlib.pyplot as plt\n",
        "import numpy as np\n",
        "import pandas as pd\n",
        "import seaborn as sns\n",
        "\n",
        "import tokenizers\n",
        "import torch\n",
        "import transformers\n",
        "\n",
        "from sklearn import metrics\n",
        "from tensorflow import keras\n",
        "from tokenizers import decoders, models, normalizers, pre_tokenizers, processors, trainers\n",
        "\n",
        "np.random.seed(42)\n",
        "tf.random.set_seed(42)\n",
        "\n",
        "df = pd.read_feather(\"data-extractor/data/dataset.feather\")#.set_index('index')\n",
        "df['topic'] = df['topic'].str.split('.').str[0]\n",
        "df_train = df.sample(frac = 0.8)\n",
        "df_test = df.drop(df_train.index)\n",
        "\n",
        "features = 'content' # feature for the future - add all the datasets ['categories', 'summary', 'content']\n",
        "label = 'topic'"
      ],
      "id": "6eb2e492"
    },
    {
      "cell_type": "code",
      "execution_count": 6,
      "metadata": {
        "colab": {
          "base_uri": "https://localhost:8080/"
        },
        "id": "k98DISb3X2Yr",
        "outputId": "05774065-7efc-40f7-8874-8373627e19f3"
      },
      "outputs": [
        {
          "output_type": "stream",
          "name": "stderr",
          "text": [
            "All model checkpoint layers were used when initializing TFGPT2Model.\n",
            "\n",
            "All the layers of TFGPT2Model were initialized from the model checkpoint at gpt2.\n",
            "If your task is similar to the task the model of the checkpoint was trained on, you can already use TFGPT2Model for predictions without further training.\n",
            "Using pad_token, but it is not set yet.\n"
          ]
        }
      ],
      "source": [
        "# strategy = tf.distribute.MirroredStrategy()\n",
        "\n",
        "from sklearn.preprocessing import OneHotEncoder\n",
        "\n",
        "ohe = OneHotEncoder()\n",
        "\n",
        "# 7 different topics\n",
        "# y_ = ohe.fit_transform(df['topic'].values.reshape(-1,1)).toarray()\n",
        "y_train = ohe.fit_transform(df_train['topic'].values.reshape(-1,1)).toarray()\n",
        "y_test  = ohe.fit_transform(df_test['topic'].values.reshape(-1,1)).toarray()\n",
        "\n",
        "#max_len = 512\n",
        "checkpoint = 'gpt2'\n",
        "hf_gpt2_tokenizer = transformers.GPT2Tokenizer.from_pretrained(checkpoint, add_prefix_space=True)\n",
        "hf_gpt2_model = transformers.TFGPT2Model.from_pretrained(checkpoint)\n",
        "# hf_gpt2_model = transformers.GPT2ForSequenceClassification.from_pretrained(checkpoint)\n",
        "\n",
        "# add for gpt2 padding\n",
        "if hf_gpt2_tokenizer.pad_token is None:\n",
        "    hf_gpt2_tokenizer.add_special_tokens({'pad_token': '[PAD]'})\n",
        "hf_gpt2_model.resize_token_embeddings(len(hf_gpt2_tokenizer))\n",
        "\n",
        "## create model\n",
        "def model_top(pretr_model):\n",
        "  input_ids = tf.keras.Input(shape=(32,), dtype='int32')\n",
        "  attention_mask = tf.keras.Input(shape=(32,), dtype='int32')\n",
        "\n",
        "  output = pretr_model(input_ids = input_ids, attention_mask = attention_mask)\n",
        "  # output = pretr_model([input_ids, attention_mask])\n",
        "  #pooler_output = output[1]\n",
        "  pooler_output = tf.keras.layers.AveragePooling1D(pool_size=32)(output[0])\n",
        "  flattened_output = tf.keras.layers.Flatten()(pooler_output)\n",
        "  \n",
        "  output = tf.keras.layers.Dense(32, activation='tanh')(flattened_output)\n",
        "  #output = tf.keras.layers.Dropout(0.2)(output)\n",
        "  output = tf.keras.layers.Dropout(0.4)(output)\n",
        "\n",
        "  output = tf.keras.layers.Dense(7, activation='softmax')(output)\n",
        "  model = tf.keras.models.Model(inputs=[input_ids, attention_mask], outputs=output)\n",
        "  model.compile(optimizer='adam', loss='categorical_crossentropy', metrics=['accuracy'])\n",
        "\n",
        "  return model\n",
        "\n",
        "# save_path = Path('models')\n",
        "# if not os.path.exists(save_path):\n",
        "#     os.makedirs(save_path, exist_ok=True)\n",
        "# hf_gpt2_tokenizer.save_pretrained(save_path)\n",
        "# model.save_pretrained(save_path)\n",
        "# model.save_weights(save_path)\n",
        "\n",
        "\n",
        "## batch encoding\n",
        "# encodings = hf_gpt2_tokenizer.batch_encode_plus(list(df.summary.values), \n",
        "#                                                 return_tensors='tf', \n",
        "#                                                 padding='max_length',\n",
        "#                                                 #add_special_tokens=True,\n",
        "#                                                 max_length=32,\n",
        "#                                                 truncation=True)\n",
        "\n",
        "train_encodings = hf_gpt2_tokenizer.batch_encode_plus(list(df_train.summary.values), \n",
        "                                                      return_tensors='tf', \n",
        "                                                      padding='max_length',\n",
        "                                                      max_length=32,\n",
        "                                                      truncation=True)\n",
        "\n",
        "test_encodings  = hf_gpt2_tokenizer.batch_encode_plus(list(df_test.summary.values), \n",
        "                                                      return_tensors='tf', \n",
        "                                                      padding='max_length',\n",
        "                                                      max_length=32,\n",
        "                                                      truncation=True)"
      ],
      "id": "k98DISb3X2Yr"
    },
    {
      "cell_type": "code",
      "execution_count": 7,
      "metadata": {
        "colab": {
          "base_uri": "https://localhost:8080/"
        },
        "id": "XaMC57JY4YRv",
        "outputId": "d5349c8f-6d36-430c-9c4a-7f98a09f5fe2"
      },
      "outputs": [
        {
          "output_type": "stream",
          "name": "stdout",
          "text": [
            "Model: \"model\"\n",
            "__________________________________________________________________________________________________\n",
            " Layer (type)                   Output Shape         Param #     Connected to                     \n",
            "==================================================================================================\n",
            " input_1 (InputLayer)           [(None, 32)]         0           []                               \n",
            "                                                                                                  \n",
            " input_2 (InputLayer)           [(None, 32)]         0           []                               \n",
            "                                                                                                  \n",
            " tfgpt2_model (TFGPT2Model)     TFBaseModelOutputWi  124440576   ['input_1[0][0]',                \n",
            "                                thPastAndCrossAtten               'input_2[0][0]']                \n",
            "                                tions(last_hidden_s                                               \n",
            "                                tate=(None, 32, 768                                               \n",
            "                                ),                                                                \n",
            "                                 past_key_values=((                                               \n",
            "                                2, None, 12, 32, 64                                               \n",
            "                                ),                                                                \n",
            "                                 (2, None, 12, 32,                                                \n",
            "                                64),                                                              \n",
            "                                 (2, None, 12, 32,                                                \n",
            "                                64),                                                              \n",
            "                                 (2, None, 12, 32,                                                \n",
            "                                64),                                                              \n",
            "                                 (2, None, 12, 32,                                                \n",
            "                                64),                                                              \n",
            "                                 (2, None, 12, 32,                                                \n",
            "                                64),                                                              \n",
            "                                 (2, None, 12, 32,                                                \n",
            "                                64),                                                              \n",
            "                                 (2, None, 12, 32,                                                \n",
            "                                64),                                                              \n",
            "                                 (2, None, 12, 32,                                                \n",
            "                                64),                                                              \n",
            "                                 (2, None, 12, 32,                                                \n",
            "                                64),                                                              \n",
            "                                 (2, None, 12, 32,                                                \n",
            "                                64),                                                              \n",
            "                                 (2, None, 12, 32,                                                \n",
            "                                64)),                                                             \n",
            "                                 hidden_states=None                                               \n",
            "                                , attentions=None,                                                \n",
            "                                cross_attentions=No                                               \n",
            "                                ne)                                                               \n",
            "                                                                                                  \n",
            " average_pooling1d (AveragePool  (None, 1, 768)      0           ['tfgpt2_model[0][0]']           \n",
            " ing1D)                                                                                           \n",
            "                                                                                                  \n",
            " flatten (Flatten)              (None, 768)          0           ['average_pooling1d[0][0]']      \n",
            "                                                                                                  \n",
            " dense (Dense)                  (None, 32)           24608       ['flatten[0][0]']                \n",
            "                                                                                                  \n",
            " dropout_37 (Dropout)           (None, 32)           0           ['dense[0][0]']                  \n",
            "                                                                                                  \n",
            " dense_1 (Dense)                (None, 7)            231         ['dropout_37[0][0]']             \n",
            "                                                                                                  \n",
            "==================================================================================================\n",
            "Total params: 124,465,415\n",
            "Trainable params: 124,465,415\n",
            "Non-trainable params: 0\n",
            "__________________________________________________________________________________________________\n"
          ]
        }
      ],
      "source": [
        "model = model_top(hf_gpt2_model)\n",
        "model.summary()"
      ],
      "id": "XaMC57JY4YRv"
    },
    {
      "cell_type": "code",
      "source": [
        "model.layers"
      ],
      "metadata": {
        "colab": {
          "base_uri": "https://localhost:8080/"
        },
        "id": "D-aZgu9qGb6i",
        "outputId": "ab50b35a-ebd5-48b6-d1e3-a0e3d62359e8"
      },
      "id": "D-aZgu9qGb6i",
      "execution_count": 8,
      "outputs": [
        {
          "output_type": "execute_result",
          "data": {
            "text/plain": [
              "[<keras.engine.input_layer.InputLayer at 0x7fa578a47f10>,\n",
              " <keras.engine.input_layer.InputLayer at 0x7fa579488e90>,\n",
              " <transformers.models.gpt2.modeling_tf_gpt2.TFGPT2Model at 0x7fa6b8a80690>,\n",
              " <keras.layers.pooling.average_pooling1d.AveragePooling1D at 0x7fa48171b710>,\n",
              " <keras.layers.reshaping.flatten.Flatten at 0x7fa4816ff0d0>,\n",
              " <keras.layers.core.dense.Dense at 0x7fa480fdcd10>,\n",
              " <keras.layers.regularization.dropout.Dropout at 0x7fa578a44850>,\n",
              " <keras.layers.core.dense.Dense at 0x7fa4816c7650>]"
            ]
          },
          "metadata": {},
          "execution_count": 8
        }
      ]
    },
    {
      "cell_type": "code",
      "execution_count": 9,
      "metadata": {
        "id": "bc4MEFDK4b0b",
        "colab": {
          "base_uri": "https://localhost:8080/"
        },
        "outputId": "6f1fcfd1-13a6-4e4e-edda-4f38916d81ab"
      },
      "outputs": [
        {
          "output_type": "stream",
          "name": "stdout",
          "text": [
            "Model: \"model\"\n",
            "__________________________________________________________________________________________________\n",
            " Layer (type)                   Output Shape         Param #     Connected to                     \n",
            "==================================================================================================\n",
            " input_1 (InputLayer)           [(None, 32)]         0           []                               \n",
            "                                                                                                  \n",
            " input_2 (InputLayer)           [(None, 32)]         0           []                               \n",
            "                                                                                                  \n",
            " tfgpt2_model (TFGPT2Model)     TFBaseModelOutputWi  124440576   ['input_1[0][0]',                \n",
            "                                thPastAndCrossAtten               'input_2[0][0]']                \n",
            "                                tions(last_hidden_s                                               \n",
            "                                tate=(None, 32, 768                                               \n",
            "                                ),                                                                \n",
            "                                 past_key_values=((                                               \n",
            "                                2, None, 12, 32, 64                                               \n",
            "                                ),                                                                \n",
            "                                 (2, None, 12, 32,                                                \n",
            "                                64),                                                              \n",
            "                                 (2, None, 12, 32,                                                \n",
            "                                64),                                                              \n",
            "                                 (2, None, 12, 32,                                                \n",
            "                                64),                                                              \n",
            "                                 (2, None, 12, 32,                                                \n",
            "                                64),                                                              \n",
            "                                 (2, None, 12, 32,                                                \n",
            "                                64),                                                              \n",
            "                                 (2, None, 12, 32,                                                \n",
            "                                64),                                                              \n",
            "                                 (2, None, 12, 32,                                                \n",
            "                                64),                                                              \n",
            "                                 (2, None, 12, 32,                                                \n",
            "                                64),                                                              \n",
            "                                 (2, None, 12, 32,                                                \n",
            "                                64),                                                              \n",
            "                                 (2, None, 12, 32,                                                \n",
            "                                64),                                                              \n",
            "                                 (2, None, 12, 32,                                                \n",
            "                                64)),                                                             \n",
            "                                 hidden_states=None                                               \n",
            "                                , attentions=None,                                                \n",
            "                                cross_attentions=No                                               \n",
            "                                ne)                                                               \n",
            "                                                                                                  \n",
            " average_pooling1d (AveragePool  (None, 1, 768)      0           ['tfgpt2_model[0][0]']           \n",
            " ing1D)                                                                                           \n",
            "                                                                                                  \n",
            " flatten (Flatten)              (None, 768)          0           ['average_pooling1d[0][0]']      \n",
            "                                                                                                  \n",
            " dense (Dense)                  (None, 32)           24608       ['flatten[0][0]']                \n",
            "                                                                                                  \n",
            " dropout_37 (Dropout)           (None, 32)           0           ['dense[0][0]']                  \n",
            "                                                                                                  \n",
            " dense_1 (Dense)                (None, 7)            231         ['dropout_37[0][0]']             \n",
            "                                                                                                  \n",
            "==================================================================================================\n",
            "Total params: 124,465,415\n",
            "Trainable params: 24,839\n",
            "Non-trainable params: 124,440,576\n",
            "__________________________________________________________________________________________________\n"
          ]
        }
      ],
      "source": [
        "model.layers[2].trainable = False\n",
        "model.summary()"
      ],
      "id": "bc4MEFDK4b0b"
    },
    {
      "cell_type": "code",
      "execution_count": 10,
      "metadata": {
        "colab": {
          "base_uri": "https://localhost:8080/"
        },
        "id": "Ky67OTAeUjwf",
        "outputId": "395cd630-d195-4787-8ac4-5db06d6e020b"
      },
      "outputs": [
        {
          "output_type": "stream",
          "name": "stdout",
          "text": [
            "Mon Aug  8 06:44:07 2022       \n",
            "+-----------------------------------------------------------------------------+\n",
            "| NVIDIA-SMI 460.32.03    Driver Version: 460.32.03    CUDA Version: 11.2     |\n",
            "|-------------------------------+----------------------+----------------------+\n",
            "| GPU  Name        Persistence-M| Bus-Id        Disp.A | Volatile Uncorr. ECC |\n",
            "| Fan  Temp  Perf  Pwr:Usage/Cap|         Memory-Usage | GPU-Util  Compute M. |\n",
            "|                               |                      |               MIG M. |\n",
            "|===============================+======================+======================|\n",
            "|   0  Tesla T4            Off  | 00000000:00:04.0 Off |                    0 |\n",
            "| N/A   70C    P0    32W /  70W |   2580MiB / 15109MiB |      0%      Default |\n",
            "|                               |                      |                  N/A |\n",
            "+-------------------------------+----------------------+----------------------+\n",
            "                                                                               \n",
            "+-----------------------------------------------------------------------------+\n",
            "| Processes:                                                                  |\n",
            "|  GPU   GI   CI        PID   Type   Process name                  GPU Memory |\n",
            "|        ID   ID                                                   Usage      |\n",
            "|=============================================================================|\n",
            "+-----------------------------------------------------------------------------+\n"
          ]
        }
      ],
      "source": [
        "!nvidia-smi"
      ],
      "id": "Ky67OTAeUjwf"
    },
    {
      "cell_type": "code",
      "execution_count": 11,
      "metadata": {
        "id": "-5Rt2wQFYfuE",
        "colab": {
          "base_uri": "https://localhost:8080/"
        },
        "outputId": "704ad525-840a-461d-8397-8a4ab34718f9"
      },
      "outputs": [
        {
          "output_type": "stream",
          "name": "stdout",
          "text": [
            "Epoch 1/8\n",
            "901/901 [==============================] - 258s 270ms/step - loss: 1.6129 - accuracy: 0.4157 - val_loss: 1.0822 - val_accuracy: 0.6372\n",
            "Epoch 2/8\n",
            "901/901 [==============================] - 235s 261ms/step - loss: 0.9857 - accuracy: 0.6696 - val_loss: 1.0736 - val_accuracy: 0.6328\n",
            "Epoch 3/8\n",
            "901/901 [==============================] - 239s 265ms/step - loss: 0.7453 - accuracy: 0.7552 - val_loss: 1.1650 - val_accuracy: 0.6080\n"
          ]
        }
      ],
      "source": [
        "checkpoint_filepath = './tmp/checkpoint'\n",
        "\n",
        "model_checkpoint_callback = tf.keras.callbacks.ModelCheckpoint(\n",
        "    filepath=checkpoint_filepath,\n",
        "    save_weights_only=True,\n",
        "    monitor='val_accuracy',\n",
        "    mode='max',\n",
        "    save_best_only=True)\n",
        "\n",
        "early_stopping_callback = tf.keras.callbacks.EarlyStopping(\n",
        "    monitor=\"val_loss\",\n",
        "    patience=1,\n",
        "    mode=\"auto\",\n",
        ")\n",
        "\n",
        "history = model.fit([train_encodings['input_ids'], \n",
        "                     train_encodings['attention_mask']], \n",
        "                    y_train, \n",
        "                    validation_split=.2,\n",
        "                    epochs=8,\n",
        "                    batch_size=32,\n",
        "                    callbacks=[model_checkpoint_callback, early_stopping_callback])"
      ],
      "id": "-5Rt2wQFYfuE"
    },
    {
      "cell_type": "code",
      "source": [
        "predict_train_data = model.predict([train_encodings['input_ids'], train_encodings['attention_mask']], batch_size=4)\n",
        "pred_train_data = np.argmax(predict_train_data, axis = 1)\n",
        "train_cm = metrics.confusion_matrix(np.argmax(y_train, axis = 1), pred_train_data)\n",
        "\n",
        "predict_test_data = model.predict([test_encodings['input_ids'], test_encodings['attention_mask']])\n",
        "pred_test_data = np.argmax(predict_test_data, axis = 1)\n",
        "test_cm = metrics.confusion_matrix(np.argmax(y_test, axis = 1), pred_test_data)"
      ],
      "metadata": {
        "colab": {
          "base_uri": "https://localhost:8080/"
        },
        "id": "C3l2qWqkOxWV",
        "outputId": "2cc81121-0f9d-49a2-f36a-62f8eb5c58a5"
      },
      "id": "C3l2qWqkOxWV",
      "execution_count": 45,
      "outputs": [
        {
          "output_type": "stream",
          "name": "stdout",
          "text": [
            "9006/9006 [==============================] - 103s 11ms/step\n",
            "282/282 [==============================] - 20s 72ms/step\n"
          ]
        }
      ]
    },
    {
      "cell_type": "code",
      "source": [
        "predict_test_data = model.predict([test_encodings['input_ids'], test_encodings['attention_mask']])\n",
        "pred_test_data = np.argmax(predict_test_data, axis = 1)"
      ],
      "metadata": {
        "colab": {
          "base_uri": "https://localhost:8080/"
        },
        "id": "R5MwCwhTKCoa",
        "outputId": "e343c7c4-96f7-4f9c-d995-d982f05948d2"
      },
      "id": "R5MwCwhTKCoa",
      "execution_count": 22,
      "outputs": [
        {
          "output_type": "stream",
          "name": "stdout",
          "text": [
            "282/282 [==============================] - 20s 71ms/step\n"
          ]
        }
      ]
    },
    {
      "cell_type": "code",
      "source": [
        "x_labs"
      ],
      "metadata": {
        "id": "dSfG36ZOUjiW"
      },
      "id": "dSfG36ZOUjiW",
      "execution_count": 67,
      "outputs": []
    },
    {
      "cell_type": "code",
      "source": [
        "labels = list(df['topic'].unique())\n",
        "labels.sort()\n",
        "x_labs = labels\n",
        "labels.sort(reverse = True)\n",
        "y_labs = labels\n",
        "\n",
        "fig, ax = plt.subplots(1, 1, figsize = (14,8))\n",
        "sns.heatmap(train_cm/np.sum(train_cm), annot=True, fmt='.2%', cmap='Blues');\n",
        "# labels, title and ticks\n",
        "ax.set_xlabel('Predicted category', fontsize = 12);\n",
        "ax.set_ylabel('Actual category', fontsize = 12); \n",
        "ax.set_title('Confusion Matrix', fontsize = 20); \n",
        "ax.xaxis.set_ticklabels(x_labs, fontsize = 8); \n",
        "ax.yaxis.set_ticklabels(y_labs, fontsize = 8);"
      ],
      "metadata": {
        "colab": {
          "base_uri": "https://localhost:8080/",
          "height": 520
        },
        "id": "0I6aFJ4KPnvn",
        "outputId": "8e05facc-cceb-4de8-8636-c4c83e1d4928"
      },
      "id": "0I6aFJ4KPnvn",
      "execution_count": 77,
      "outputs": [
        {
          "output_type": "display_data",
          "data": {
            "text/plain": [
              "<Figure size 1008x576 with 2 Axes>"
            ],
            "image/png": "[encoded data removed]"
          },
          "metadata": {
            "needs_background": "light"
          }
        }
      ]
    },
    {
      "cell_type": "code",
      "source": [
        "fig, ax = plt.subplots(1, 1, figsize = (14,8))\n",
        "sns.heatmap(test_cm/np.sum(test_cm), annot=True, fmt='.2%', cmap='Blues');\n",
        "# labels, title and ticks\n",
        "ax.set_xlabel('Predicted category', fontsize = 12);\n",
        "ax.set_ylabel('Actual category', fontsize = 12); \n",
        "ax.set_title('Confusion Matrix', fontsize = 20); \n",
        "ax.xaxis.set_ticklabels(x_labs, fontsize = 8); \n",
        "ax.yaxis.set_ticklabels(y_labs, fontsize = 8);"
      ],
      "metadata": {
        "colab": {
          "base_uri": "https://localhost:8080/",
          "height": 520
        },
        "id": "93gFu-nKQg0d",
        "outputId": "cbbba418-a7d1-4ed5-8c1e-61905062166e"
      },
      "id": "93gFu-nKQg0d",
      "execution_count": 78,
      "outputs": [
        {
          "output_type": "display_data",
          "data": {
            "text/plain": [
              "<Figure size 1008x576 with 2 Axes>"
            ],
            "image/png": "[encoded data removed]"
          },
          "metadata": {
            "needs_background": "light"
          }
        }
      ]
    },
    {
      "cell_type": "code",
      "source": [
        "\"\"\"from transformers.keras_callbacks import KerasMetricCallback\n",
        "\n",
        "\n",
        "def compute_metrics(eval_predictions):\n",
        "    predictions, labels = eval_predictions\n",
        "    if task != \"stsb\":\n",
        "        predictions = np.argmax(predictions, axis=1)\n",
        "    else:\n",
        "        predictions = predictions[:, 0]\n",
        "    return metric.compute(predictions=predictions, references=labels)\n",
        "\n",
        "\n",
        "metric_callback = KerasMetricCallback(\n",
        "    metric_fn=compute_metrics, eval_dataset=tf_validation_dataset\n",
        ")\"\"\""
      ],
      "metadata": {
        "colab": {
          "base_uri": "https://localhost:8080/",
          "height": 73
        },
        "id": "XR04lZT0I-ms",
        "outputId": "0950df4a-d248-4bb0-cd5b-8b0187aa4a22"
      },
      "id": "XR04lZT0I-ms",
      "execution_count": 14,
      "outputs": [
        {
          "output_type": "execute_result",
          "data": {
            "text/plain": [
              "'from transformers.keras_callbacks import KerasMetricCallback\\n\\n\\ndef compute_metrics(eval_predictions):\\n    predictions, labels = eval_predictions\\n    if task != \"stsb\":\\n        predictions = np.argmax(predictions, axis=1)\\n    else:\\n        predictions = predictions[:, 0]\\n    return metric.compute(predictions=predictions, references=labels)\\n\\n\\nmetric_callback = KerasMetricCallback(\\n    metric_fn=compute_metrics, eval_dataset=tf_validation_dataset\\n)'"
            ],
            "application/vnd.google.colaboratory.intrinsic+json": {
              "type": "string"
            }
          },
          "metadata": {},
          "execution_count": 14
        }
      ]
    },
    {
      "cell_type": "code",
      "execution_count": 15,
      "metadata": {
        "colab": {
          "base_uri": "https://localhost:8080/",
          "height": 55
        },
        "id": "Lm7HnV7VuEjD",
        "outputId": "957bf101-e709-48e8-f3ff-424dee6da90a"
      },
      "outputs": [
        {
          "output_type": "execute_result",
          "data": {
            "text/plain": [
              "'with training_args.strategy.scope():\\n  model = hf_gpt2_model\\n\\ntrainer = TFTrainer(\\n    model=model,\\n    args=training_args,\\n    train_dataset=train_dataset,\\n    eval_dataset=test_dataset\\n)'"
            ],
            "application/vnd.google.colaboratory.intrinsic+json": {
              "type": "string"
            }
          },
          "metadata": {},
          "execution_count": 15
        }
      ],
      "source": [
        "\"\"\"with training_args.strategy.scope():\n",
        "  model = hf_gpt2_model\n",
        "\n",
        "trainer = TFTrainer(\n",
        "    model=model,\n",
        "    args=training_args,\n",
        "    train_dataset=train_dataset,\n",
        "    eval_dataset=test_dataset\n",
        ")\"\"\""
      ],
      "id": "Lm7HnV7VuEjD"
    },
    {
      "cell_type": "markdown",
      "metadata": {
        "id": "XPAdQkNTbnBF"
      },
      "source": [
        "### Data Preview"
      ],
      "id": "XPAdQkNTbnBF"
    },
    {
      "cell_type": "code",
      "execution_count": 16,
      "metadata": {
        "colab": {
          "base_uri": "https://localhost:8080/",
          "height": 36
        },
        "id": "YZIKcnCiYf-D",
        "outputId": "32207568-bdf1-4d50-8a28-c9a4da55a2c9"
      },
      "outputs": [
        {
          "output_type": "execute_result",
          "data": {
            "text/plain": [
              "\"for text, label in ds_train.take(5):\\n  print('Text')\\n  print(text)\\n  print('Label')\\n  print(label)\""
            ],
            "application/vnd.google.colaboratory.intrinsic+json": {
              "type": "string"
            }
          },
          "metadata": {},
          "execution_count": 16
        }
      ],
      "source": [
        "\"\"\"for text, label in ds_train.take(5):\n",
        "  print('Text')\n",
        "  print(text)\n",
        "  print('Label')\n",
        "  print(label)\"\"\""
      ],
      "id": "YZIKcnCiYf-D"
    },
    {
      "cell_type": "code",
      "execution_count": 17,
      "metadata": {
        "colab": {
          "base_uri": "https://localhost:8080/",
          "height": 128
        },
        "id": "DmrzbcNs7E_a",
        "outputId": "52caed3f-5591-4476-e040-3c5d67e4f096"
      },
      "outputs": [
        {
          "output_type": "execute_result",
          "data": {
            "text/plain": [
              "'## This is currently broken\\nmax_len = 384\\nhf_gpt2_tokenizer_bootstrapper = transformers.BertTokenizer.from_pretrained(\"gpt2\")\\nhf_gpt2_model = transformers.TFGPT2Model.from_pretrained(\"gpt2\")\\n\\nsave_path = Path(\"data\") / \"models\"\\nif not os.path.exists(save_path):\\n    os.makedirs(save_path, exist_ok=True)\\nhf_gpt2_tokenizer_bootstrapper.save_pretrained(save_path)\\nhf_gpt2_model.save_pretrained(save_path)\\n\\n# Load the fast tokenizer from saved file\\ngpt2_tokenizer = tokenizers.GPT2TokenizerFast(str(save_path/\"vocab.txt\"), lowercase=True)\\n\\ndef tf_hf_gpt2encode(features, label):\\n    x = gpt2_tokenizer.encode(tf.compat.as_str(features), add_special_tokens=True)\\n    y = gpt2_tokenizer.encode(tf.compat.as_str(label), add_special_tokens=True)\\n    return x, y\\n\\ndef tf_hf_gpt2encodeds(features, label):\\n    encode = tf.py_function(func=tf_hf_gpt2encode, inp=[features, label], Tout=[tf.int64, tf.int64])\\n    return encode\\n\\nencoded_input = ds_train.batch(256).map(tf_hf_gpt2encodeds)\\noutput = transformers.TFGPT2Model(config=transformers.PretrainedConfig.from_json_file(str(save_path/\"config.json\")))\\nhf_gpt2 = output(encoded_input)'"
            ],
            "application/vnd.google.colaboratory.intrinsic+json": {
              "type": "string"
            }
          },
          "metadata": {},
          "execution_count": 17
        }
      ],
      "source": [
        "\"\"\"## This is currently broken\n",
        "max_len = 384\n",
        "hf_gpt2_tokenizer_bootstrapper = transformers.BertTokenizer.from_pretrained(\"gpt2\")\n",
        "hf_gpt2_model = transformers.TFGPT2Model.from_pretrained(\"gpt2\")\n",
        "\n",
        "save_path = Path(\"data\") / \"models\"\n",
        "if not os.path.exists(save_path):\n",
        "    os.makedirs(save_path, exist_ok=True)\n",
        "hf_gpt2_tokenizer_bootstrapper.save_pretrained(save_path)\n",
        "hf_gpt2_model.save_pretrained(save_path)\n",
        "\n",
        "# Load the fast tokenizer from saved file\n",
        "gpt2_tokenizer = tokenizers.GPT2TokenizerFast(str(save_path/\"vocab.txt\"), lowercase=True)\n",
        "\n",
        "def tf_hf_gpt2encode(features, label):\n",
        "    x = gpt2_tokenizer.encode(tf.compat.as_str(features), add_special_tokens=True)\n",
        "    y = gpt2_tokenizer.encode(tf.compat.as_str(label), add_special_tokens=True)\n",
        "    return x, y\n",
        "\n",
        "def tf_hf_gpt2encodeds(features, label):\n",
        "    encode = tf.py_function(func=tf_hf_gpt2encode, inp=[features, label], Tout=[tf.int64, tf.int64])\n",
        "    return encode\n",
        "\n",
        "encoded_input = ds_train.batch(256).map(tf_hf_gpt2encodeds)\n",
        "output = transformers.TFGPT2Model(config=transformers.PretrainedConfig.from_json_file(str(save_path/\"config.json\")))\n",
        "hf_gpt2 = output(encoded_input)\"\"\""
      ],
      "id": "DmrzbcNs7E_a"
    },
    {
      "cell_type": "code",
      "execution_count": 18,
      "metadata": {
        "id": "195d6bac",
        "colab": {
          "base_uri": "https://localhost:8080/",
          "height": 73
        },
        "outputId": "ad10f834-35ca-44de-aedd-df8a57c4b36e"
      },
      "outputs": [
        {
          "output_type": "execute_result",
          "data": {
            "text/plain": [
              "'\\nfiles = [] # Need to explode train_ds to sep files\\n\\ntokenizer = tokenizers.GPT2TokenizerFast(\\n    clean_text=True,\\n    handle_chinese_chars=True,\\n    strip_accents=True,\\n    lowercase=True,\\n)\\n\\ntokenizer.train(\\n    files,\\n    vocab_size=10000,\\n    min_frequency=2,\\n    show_progress=True,\\n    special_tokens=[\"[PAD]\", \"[UNK]\", \"[CLS]\", \"[SEP]\", \"[MASK]\"],\\n    limit_alphabet=1000,\\n    wordpieces_prefix=\"##\",\\n)\\n\\n# Save the files\\ntokenizer.save_model(args.out, args.name)'"
            ],
            "application/vnd.google.colaboratory.intrinsic+json": {
              "type": "string"
            }
          },
          "metadata": {},
          "execution_count": 18
        }
      ],
      "source": [
        "\"\"\"\n",
        "files = [] # Need to explode train_ds to sep files\n",
        "\n",
        "tokenizer = tokenizers.GPT2TokenizerFast(\n",
        "    clean_text=True,\n",
        "    handle_chinese_chars=True,\n",
        "    strip_accents=True,\n",
        "    lowercase=True,\n",
        ")\n",
        "\n",
        "tokenizer.train(\n",
        "    files,\n",
        "    vocab_size=10000,\n",
        "    min_frequency=2,\n",
        "    show_progress=True,\n",
        "    special_tokens=[\"[PAD]\", \"[UNK]\", \"[CLS]\", \"[SEP]\", \"[MASK]\"],\n",
        "    limit_alphabet=1000,\n",
        "    wordpieces_prefix=\"##\",\n",
        ")\n",
        "\n",
        "# Save the files\n",
        "tokenizer.save_model(args.out, args.name)\"\"\""
      ],
      "id": "195d6bac"
    }
  ],
  "metadata": {
    "accelerator": "GPU",
    "colab": {
      "machine_shape": "hm",
      "name": "gpt2-model.ipynb",
      "provenance": [],
      "collapsed_sections": []
    },
    "gpuClass": "standard",
    "jupytext": {
      "formats": "ipynb,py:percent"
    },
    "kernelspec": {
      "display_name": "Python 3 (ipykernel)",
      "language": "python",
      "name": "python3"
    },
    "language_info": {
      "codemirror_mode": {
        "name": "ipython",
        "version": 3
      },
      "file_extension": ".py",
      "mimetype": "text/x-python",
      "name": "python",
      "nbconvert_exporter": "python",
      "pygments_lexer": "ipython3",
      "version": "3.9.13"
    }
  },
  "nbformat": 4,
  "nbformat_minor": 5
}