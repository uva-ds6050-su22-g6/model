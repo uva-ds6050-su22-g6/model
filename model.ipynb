{
 "cells": [
  {
   "cell_type": "markdown",
   "id": "17ed0b92",
   "metadata": {
    "collapsed": false,
    "lines_to_next_cell": 2,
    "title": "Code Heading"
   },
   "source": [
    "\n",
    "# DS6050 - Group 6\n",
    "* Andre Erkelens <wsw3fa@virginia.edu>\n",
    "* Robert Knuuti <uqq5zz@virginia.edu>\n",
    "* Khoi Tran <kt2np@virginia.edu>\n",
    "\n",
    "## Abstract\n",
    "English is a verbose language with over 69% redundancy in its construction, and as a result, individuals only need to identify important details to comprehend an intended message.\n",
    "While there are strong efforts to quantify the various elements of language, the average individual can still comprehend a written message that has errors, either in spelling or in grammar.\n",
    "The emulation of the effortless, yet obscure task of reading, writing, and understanding language is the perfect challenge for the biologically-inspired methods of deep learning.\n",
    "Most language and text related problems rely upon finding high-quality latent representations to understand the task at hand. Unfortunately, efforts to overcome such problems are limited to the data and computation power available to individuals; data availability often presents the largest problem, with small, specific domain tasks often proving to be limiting.\n",
    "Currently, these tasks are often aided or overcome by pre-trained large language models (LLMs), designed by large corporations and laboratories.\n",
    "Fine-tuning language models on domain-specific vocabulary with small data sizes still presents a challenge to the language community, but the growing availability of LLMs to augment such models alleviates the challenge.\n",
    "This paper explores different techniques to be applied on existing language models (LMs), built highly complex Deep Learning models, and investigates how to fine-tune these models, such that a pre-trained model is used to enrich a more domain-specific model that may be limited in textual data.\n",
    "\n",
    "## Project Objective\n",
    "\n",
    "We are aiming on using several small domain specific language tasks, particularly classification tasks.\n",
    "We aim to take at least two models, probably BERT and distill-GPT2 as they seem readily available on HuggingFace and TensorFlow's model hub.\n",
    "We will iterate through different variants of layers we fine tune and compare these results with fully trained models, and ideally find benchmarks already in academic papers on all of the datasets.\n",
    "\n",
    "We aim to optimize compute efficiency and also effectiveness of the model on the given dataset. Our goal is to find a high performing and generalizable method for our fine tuning process and share this in our paper.\n"
   ]
  },
  {
   "cell_type": "code",
   "execution_count": null,
   "id": "f8971652",
   "metadata": {
    "collapsed": false,
    "title": "Disable autosave"
   },
   "outputs": [],
   "source": [
    "%autosave 0"
   ]
  },
  {
   "cell_type": "code",
   "execution_count": null,
   "id": "6eb2e492",
   "metadata": {
    "collapsed": false,
    "title": "Data setup"
   },
   "outputs": [],
   "source": [
    "import os\n",
    "from pathlib import Path\n",
    "\n",
    "import numpy as np\n",
    "import pandas as pd\n",
    "import tensorflow as tf\n",
    "import tensorflow_text as tf_text\n",
    "import tokenizers\n",
    "import transformers\n",
    "\n",
    "from tensorflow import keras\n",
    "\n",
    "\n",
    "np.random.seed(42)\n",
    "tf.random.set_seed(42)\n",
    "\n",
    "df = pd.read_feather(\"data/dataset.feather\")\n",
    "df_train = df.sample(frac = 0.8)\n",
    "df_test = df.drop(df_train.index)"
   ]
  },
  {
   "cell_type": "code",
   "execution_count": null,
   "id": "ae8d1c35",
   "metadata": {
    "collapsed": false,
    "title": "Key definitions"
   },
   "outputs": [],
   "source": [
    "features = 'content' # feature for the future - add all the datasets ['categories', 'summary', 'content']\n",
    "label = 'topic'"
   ]
  },
  {
   "cell_type": "code",
   "execution_count": null,
   "id": "aa1994aa",
   "metadata": {
    "collapsed": false,
    "title": "Parallel Strategy setup"
   },
   "outputs": [],
   "source": [
    "strategy = tf.distribute.MirroredStrategy()"
   ]
  },
  {
   "cell_type": "code",
   "execution_count": null,
   "id": "bb340f1e",
   "metadata": {
    "collapsed": false,
    "title": "Load data in"
   },
   "outputs": [],
   "source": [
    "with strategy.scope():\n",
    "    ds_train = tf.data.Dataset.from_tensor_slices(\n",
    "        (\n",
    "            df_train[features],\n",
    "            df_train[label]\n",
    "        )\n",
    "    )\n",
    "\n",
    "    ds_test = tf.data.Dataset.from_tensor_slices(\n",
    "        (\n",
    "            df_test[features],\n",
    "            df_test[label]\n",
    "        )\n",
    "    )\n",
    "del df_train, df_test"
   ]
  },
  {
   "cell_type": "code",
   "execution_count": null,
   "id": "2928a91f",
   "metadata": {
    "collapsed": false,
    "title": "Tokenize Data"
   },
   "outputs": [],
   "source": [
    "\n",
    "# Need to look into UTF tokenization using wordpiece\n",
    "#utf_tokenizer = tf_text.WordpieceTokenizer()\n",
    "\n",
    "utf_tokenizer = tf_text.WhitespaceTokenizer()\n",
    "\n",
    "@tf.function\n",
    "def tokenize_ds(X, label):\n",
    "    return utf_tokenizer.tokenize(tf_text.normalize_utf8(X)), label\n",
    "\n",
    "ds_train_tok = ds_train.batch(256).map(tokenize_ds)\n",
    "ds_test_tok = ds_test.batch(256).map(tokenize_ds)"
   ]
  },
  {
   "cell_type": "code",
   "execution_count": null,
   "outputs": [],
   "source": [
    "## This is currently broken - Still tryign to get the TFBertModel to accept the token string in.\n",
    "max_len = 384\n",
    "hf_bert_tokenizer_bootstrapper = transformers.BertTokenizer.from_pretrained(\"bert-base-uncased\")\n",
    "hf_bert_model = transformers.TFBertModel.from_pretrained(\"bert-base-uncased\")\n",
    "\n",
    "save_path = Path(\"data\") / \"models\"\n",
    "if not os.path.exists(save_path):\n",
    "    os.makedirs(save_path, exist_ok=True)\n",
    "hf_bert_tokenizer_bootstrapper.save_pretrained(save_path)\n",
    "hf_bert_model.save_pretrained(save_path)\n",
    "\n",
    "# Load the fast tokenizer from saved file\n",
    "bert_tokenizer = tokenizers.BertWordPieceTokenizer(str(save_path/\"vocab.txt\"), lowercase=True)\n",
    "\n",
    "def tf_hf_bertencode(features, label):\n",
    "    x = bert_tokenizer.encode(tf.compat.as_str(features), add_special_tokens=True)\n",
    "    y = bert_tokenizer.encode(tf.compat.as_str(label), add_special_tokens=True)\n",
    "    return x, y\n",
    "\n",
    "def tf_hf_bertencodeds(features, label):\n",
    "    encode = tf.py_function(func=tf_hf_bertencode, inp=[features, label], Tout=[tf.int64, tf.int64])\n",
    "    return encode\n",
    "\n",
    "encoded_input = ds_train.batch(256).map(tf_hf_bertencodeds)\n",
    "output = transformers.TFBertModel(config=transformers.PretrainedConfig.from_json_file(str(save_path/\"config.json\")))\n",
    "hf_bert = output(encoded_input)"
   ],
   "metadata": {
    "collapsed": false,
    "pycharm": {
     "name": "#%%\n"
    }
   }
  },
  {
   "cell_type": "code",
   "execution_count": null,
   "outputs": [],
   "source": [
    "\n",
    "files = [] # Need to explode train_ds to sep files\n",
    "\n",
    "tokenizer = tokenizers.BertWordPieceTokenizer(\n",
    "    clean_text=True,\n",
    "    handle_chinese_chars=True,\n",
    "    strip_accents=True,\n",
    "    lowercase=True,\n",
    ")\n",
    "\n",
    "tokenizer.train(\n",
    "    files,\n",
    "    vocab_size=10000,\n",
    "    min_frequency=2,\n",
    "    show_progress=True,\n",
    "    special_tokens=[\"[PAD]\", \"[UNK]\", \"[CLS]\", \"[SEP]\", \"[MASK]\"],\n",
    "    limit_alphabet=1000,\n",
    "    wordpieces_prefix=\"##\",\n",
    ")\n",
    "\n",
    "# Save the files\n",
    "tokenizer.save_model(args.out, args.name)"
   ],
   "metadata": {
    "collapsed": false,
    "pycharm": {
     "name": "#%%\n"
    }
   }
  },
  {
   "cell_type": "code",
   "execution_count": null,
   "id": "195d6bac",
   "metadata": {
    "collapsed": false,
    "title": "Custom Tokenizer Mode"
   },
   "outputs": [],
   "source": [
    "\n",
    "files = [] # Need to explode train_ds to sep files\n",
    "\n",
    "tokenizer = tokenizers.BertWordPieceTokenizer(\n",
    "    clean_text=True,\n",
    "    handle_chinese_chars=True,\n",
    "    strip_accents=True,\n",
    "    lowercase=True,\n",
    ")\n",
    "\n",
    "tokenizer.train(\n",
    "    files,\n",
    "    vocab_size=10000,\n",
    "    min_frequency=2,\n",
    "    show_progress=True,\n",
    "    special_tokens=[\"[PAD]\", \"[UNK]\", \"[CLS]\", \"[SEP]\", \"[MASK]\"],\n",
    "    limit_alphabet=1000,\n",
    "    wordpieces_prefix=\"##\",\n",
    ")\n",
    "\n",
    "# Save the files\n",
    "tokenizer.save_model(args.out, args.name)"
   ]
  }
 ],
 "metadata": {
  "jupytext": {
   "formats": "ipynb,py:percent"
  },
  "kernelspec": {
   "display_name": "Python 3 (ipykernel)",
   "language": "python",
   "name": "python3"
  },
  "language_info": {
   "codemirror_mode": {
    "name": "ipython",
    "version": 3
   },
   "file_extension": ".py",
   "mimetype": "text/x-python",
   "name": "python",
   "nbconvert_exporter": "python",
   "pygments_lexer": "ipython3",
   "version": "3.9.13"
  }
 },
 "nbformat": 4,
 "nbformat_minor": 5
}