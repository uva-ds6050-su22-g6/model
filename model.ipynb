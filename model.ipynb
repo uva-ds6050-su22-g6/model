{
 "cells": [
  {
   "cell_type": "code",
   "execution_count": null,
   "outputs": [],
   "source": [
    "%autosave 0"
   ],
   "metadata": {
    "collapsed": false,
    "pycharm": {
     "name": "#%%\n"
    }
   }
  },
  {
   "cell_type": "code",
   "execution_count": null,
   "outputs": [],
   "source": [
    "import numpy as np\n",
    "import pandas as pd\n",
    "import tensorflow as tf\n",
    "from tensorflow import keras\n",
    "import tensorflow_text as tf_text\n",
    "\n",
    "np.random.seed(42)\n",
    "tf.random.set_seed(42)\n",
    "\n",
    "df = pd.read_feather(\"data/dataset.feather\")\n",
    "df_train = df.sample(frac = 0.8)\n",
    "df_test = df.drop(df_train.index)"
   ],
   "metadata": {
    "collapsed": false,
    "pycharm": {
     "name": "#%%\n"
    }
   }
  },
  {
   "cell_type": "code",
   "execution_count": null,
   "outputs": [],
   "source": [
    "features = 'content' # feature for the future - add all the datasets ['categories', 'summary', 'content']\n",
    "label = 'topic'"
   ],
   "metadata": {
    "collapsed": false,
    "pycharm": {
     "name": "#%%\n"
    }
   }
  },
  {
   "cell_type": "code",
   "execution_count": null,
   "outputs": [],
   "source": [
    "strategy = tf.distribute.MirroredStrategy()"
   ],
   "metadata": {
    "collapsed": false,
    "pycharm": {
     "name": "#%%\n"
    }
   }
  },
  {
   "cell_type": "code",
   "execution_count": null,
   "outputs": [],
   "source": [
    "with strategy.scope():\n",
    "    ds_train = tf.data.Dataset.from_tensor_slices(\n",
    "        (\n",
    "            df_train[features],\n",
    "            df_train[label]\n",
    "        )\n",
    "    )\n",
    "\n",
    "    ds_test = tf.data.Dataset.from_tensor_slices(\n",
    "        (\n",
    "            df_test[features],\n",
    "            df_test[label]\n",
    "        )\n",
    "    )\n",
    "del df_train, df_test"
   ],
   "metadata": {
    "collapsed": false,
    "pycharm": {
     "name": "#%%\n"
    }
   }
  },
  {
   "cell_type": "code",
   "execution_count": null,
   "outputs": [],
   "source": [
    "\n",
    "# Need to look into UTF tokenization using wordpiece\n",
    "#utf_tokenizer = tf_text.WordpieceTokenizer()\n",
    "\n",
    "utf_tokenizer = tf_text.WhitespaceTokenizer()\n",
    "\n",
    "@tf.function\n",
    "def tokenize_ds(X, label):\n",
    "    return utf_tokenizer.tokenize(tf_text.normalize_utf8(X)), label\n",
    "\n",
    "ds_train_tok = ds_train.batch(256).map(tokenize_ds)\n",
    "ds_test_tok = ds_test.batch(256).map(tokenize_ds)"
   ],
   "metadata": {
    "collapsed": false,
    "pycharm": {
     "name": "#%%\n"
    }
   }
  }
 ],
 "metadata": {
  "jupytext": {
   "formats": "ipynb,py:percent"
  },
  "kernelspec": {
   "display_name": "Python 3 (ipykernel)",
   "language": "python",
   "name": "python3"
  },
  "language_info": {
   "codemirror_mode": {
    "name": "ipython",
    "version": 3
   },
   "file_extension": ".py",
   "mimetype": "text/x-python",
   "name": "python",
   "nbconvert_exporter": "python",
   "pygments_lexer": "ipython3",
   "version": "3.9.13"
  }
 },
 "nbformat": 4,
 "nbformat_minor": 5
}